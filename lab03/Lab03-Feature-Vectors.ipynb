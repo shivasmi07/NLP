{
  "cells": [
    {
      "cell_type": "markdown",
      "id": "graduate-florida",
      "metadata": {
        "id": "graduate-florida"
      },
      "source": [
        "# Lab 03 Part 1 - Feature Vectors and Language Models\n",
        "In this lab we will continue working with words as features, but the focus will be to build language models.\n",
        "\n",
        "First, let's make sure the libraries we'll be using are installed and initialized:"
      ]
    },
    {
      "cell_type": "code",
      "execution_count": null,
      "id": "82c12ab3",
      "metadata": {
        "id": "82c12ab3",
        "outputId": "d9975d2d-f52f-4012-fa36-87c7f3d4e1b7"
      },
      "outputs": [
        {
          "data": {
            "text/html": [
              "<a target=\"_blank\" href=\"https://colab.research.google.com/github/surrey-nlp/NLP-2025/blob/main/lab03/Lab03-Feature-Vectors.ipynb\"><img src=\"https://colab.research.google.com/assets/colab-badge.svg\" alt=\"Open In Colab\"/></a>"
            ],
            "text/plain": [
              "<IPython.core.display.HTML object>"
            ]
          },
          "metadata": {},
          "output_type": "display_data"
        }
      ],
      "source": [
        "from IPython.display import HTML, display\n",
        "colab_button = HTML(\n",
        "    '<a target=\"_blank\" href=\"https://colab.research.google.com/github/surrey-nlp/NLP-2025/blob/main/lab03/Lab03-Feature-Vectors.ipynb\">'\n",
        "    '<img src=\"https://colab.research.google.com/assets/colab-badge.svg\" alt=\"Open In Colab\"/></a>'\n",
        ")\n",
        "display(colab_button)"
      ]
    },
    {
      "cell_type": "code",
      "execution_count": 1,
      "id": "30409a91",
      "metadata": {
        "id": "30409a91",
        "outputId": "b1d1e7d3-d304-467f-9d6e-9afb80a4ca06",
        "colab": {
          "base_uri": "https://localhost:8080/"
        }
      },
      "outputs": [
        {
          "output_type": "stream",
          "name": "stdout",
          "text": [
            "Requirement already satisfied: numpy in /usr/local/lib/python3.11/dist-packages (2.0.2)\n",
            "Requirement already satisfied: pandas in /usr/local/lib/python3.11/dist-packages (2.2.2)\n",
            "Requirement already satisfied: nltk in /usr/local/lib/python3.11/dist-packages (3.9.1)\n",
            "Requirement already satisfied: matplotlib in /usr/local/lib/python3.11/dist-packages (3.10.0)\n",
            "Requirement already satisfied: python-dateutil>=2.8.2 in /usr/local/lib/python3.11/dist-packages (from pandas) (2.8.2)\n",
            "Requirement already satisfied: pytz>=2020.1 in /usr/local/lib/python3.11/dist-packages (from pandas) (2025.1)\n",
            "Requirement already satisfied: tzdata>=2022.7 in /usr/local/lib/python3.11/dist-packages (from pandas) (2025.1)\n",
            "Requirement already satisfied: click in /usr/local/lib/python3.11/dist-packages (from nltk) (8.1.8)\n",
            "Requirement already satisfied: joblib in /usr/local/lib/python3.11/dist-packages (from nltk) (1.4.2)\n",
            "Requirement already satisfied: regex>=2021.8.3 in /usr/local/lib/python3.11/dist-packages (from nltk) (2024.11.6)\n",
            "Requirement already satisfied: tqdm in /usr/local/lib/python3.11/dist-packages (from nltk) (4.67.1)\n",
            "Requirement already satisfied: contourpy>=1.0.1 in /usr/local/lib/python3.11/dist-packages (from matplotlib) (1.3.1)\n",
            "Requirement already satisfied: cycler>=0.10 in /usr/local/lib/python3.11/dist-packages (from matplotlib) (0.12.1)\n",
            "Requirement already satisfied: fonttools>=4.22.0 in /usr/local/lib/python3.11/dist-packages (from matplotlib) (4.56.0)\n",
            "Requirement already satisfied: kiwisolver>=1.3.1 in /usr/local/lib/python3.11/dist-packages (from matplotlib) (1.4.8)\n",
            "Requirement already satisfied: packaging>=20.0 in /usr/local/lib/python3.11/dist-packages (from matplotlib) (24.2)\n",
            "Requirement already satisfied: pillow>=8 in /usr/local/lib/python3.11/dist-packages (from matplotlib) (11.1.0)\n",
            "Requirement already satisfied: pyparsing>=2.3.1 in /usr/local/lib/python3.11/dist-packages (from matplotlib) (3.2.1)\n",
            "Requirement already satisfied: six>=1.5 in /usr/local/lib/python3.11/dist-packages (from python-dateutil>=2.8.2->pandas) (1.17.0)\n"
          ]
        }
      ],
      "source": [
        "%pip install numpy pandas nltk matplotlib\n",
        "%matplotlib inline"
      ]
    },
    {
      "cell_type": "markdown",
      "id": "5fd7019d",
      "metadata": {
        "id": "5fd7019d"
      },
      "source": [
        "\n",
        "## Words as Feature Vectors\n",
        "First, let's look at some text collections directly available in [NLTK](https://www.nltk.org).\n",
        "\n",
        "To explore all the available Corpora in NLTK we just need to run a command and list the available resources, after we have downloaded them. The documentation on NLTK's [website](https://www.nltk.org/book/ch02.html) will give you more details on each Corpus.\n",
        "\n",
        "There are many interesting collections such as: the Gutenberg collection of books, the  Brown collection of news, novels and other stories, and the USA presidential inaugural speeches.\n",
        "\n",
        "Let's start by downloading the resources. NLTK's `download()` command will launch a GUI, or a CLI to let you select the data you want to install.\n",
        "\n",
        "**Use it to download the `inaugural` Corpus.**"
      ]
    },
    {
      "cell_type": "code",
      "execution_count": 2,
      "id": "first-trading",
      "metadata": {
        "id": "first-trading",
        "outputId": "6a6dc695-73ad-4ee1-ffde-80a594380dfc",
        "colab": {
          "base_uri": "https://localhost:8080/",
          "height": 1000
        }
      },
      "outputs": [
        {
          "name": "stdout",
          "output_type": "stream",
          "text": [
            "NLTK Downloader\n",
            "---------------------------------------------------------------------------\n",
            "    d) Download   l) List    u) Update   c) Config   h) Help   q) Quit\n",
            "---------------------------------------------------------------------------\n",
            "Downloader> l\n",
            "\n",
            "Packages:\n",
            "  [ ] abc................. Australian Broadcasting Commission 2006\n",
            "  [ ] alpino.............. Alpino Dutch Treebank\n",
            "  [ ] averaged_perceptron_tagger Averaged Perceptron Tagger\n",
            "  [ ] averaged_perceptron_tagger_eng Averaged Perceptron Tagger (JSON)\n",
            "  [ ] averaged_perceptron_tagger_ru Averaged Perceptron Tagger (Russian)\n",
            "  [ ] averaged_perceptron_tagger_rus Averaged Perceptron Tagger (Russian)\n",
            "  [ ] basque_grammars..... Grammars for Basque\n",
            "  [ ] bcp47............... BCP-47 Language Tags\n",
            "  [ ] biocreative_ppi..... BioCreAtIvE (Critical Assessment of Information\n",
            "                           Extraction Systems in Biology)\n",
            "  [ ] bllip_wsj_no_aux.... BLLIP Parser: WSJ Model\n",
            "  [ ] book_grammars....... Grammars from NLTK Book\n",
            "  [ ] brown............... Brown Corpus\n",
            "  [ ] brown_tei........... Brown Corpus (TEI XML Version)\n",
            "  [ ] cess_cat............ CESS-CAT Treebank\n",
            "  [ ] cess_esp............ CESS-ESP Treebank\n",
            "  [ ] chat80.............. Chat-80 Data Files\n",
            "  [ ] city_database....... City Database\n",
            "  [ ] cmudict............. The Carnegie Mellon Pronouncing Dictionary (0.6)\n",
            "  [ ] comparative_sentences Comparative Sentence Dataset\n",
            "Hit Enter to continue: brown\n",
            "  [ ] comtrans............ ComTrans Corpus Sample\n",
            "  [ ] conll2000........... CONLL 2000 Chunking Corpus\n",
            "  [ ] conll2002........... CONLL 2002 Named Entity Recognition Corpus\n",
            "  [ ] conll2007........... Dependency Treebanks from CoNLL 2007 (Catalan\n",
            "                           and Basque Subset)\n",
            "  [ ] crubadan............ Crubadan Corpus\n",
            "  [ ] dependency_treebank. Dependency Parsed Treebank\n",
            "  [ ] dolch............... Dolch Word List\n",
            "  [ ] english_wordnet..... Open English Wordnet\n",
            "  [ ] europarl_raw........ Sample European Parliament Proceedings Parallel\n",
            "                           Corpus\n",
            "  [ ] extended_omw........ Extended Open Multilingual WordNet\n",
            "  [ ] floresta............ Portuguese Treebank\n",
            "  [ ] framenet_v15........ FrameNet 1.5\n",
            "  [ ] framenet_v17........ FrameNet 1.7\n",
            "  [ ] gazetteers.......... Gazeteer Lists\n",
            "  [ ] genesis............. Genesis Corpus\n",
            "  [ ] gutenberg........... Project Gutenberg Selections\n",
            "  [ ] ieer................ NIST IE-ER DATA SAMPLE\n",
            "  [ ] inaugural........... C-Span Inaugural Address Corpus\n",
            "  [ ] indian.............. Indian Language POS-Tagged Corpus\n",
            "Hit Enter to continue: gutenberg\n",
            "  [ ] jeita............... JEITA Public Morphologically Tagged Corpus (in\n",
            "                           ChaSen format)\n",
            "  [ ] kimmo............... PC-KIMMO Data Files\n",
            "  [ ] knbc................ KNB Corpus (Annotated blog corpus)\n",
            "  [ ] large_grammars...... Large context-free and feature-based grammars\n",
            "                           for parser comparison\n",
            "  [ ] lin_thesaurus....... Lin's Dependency Thesaurus\n",
            "  [ ] mac_morpho.......... MAC-MORPHO: Brazilian Portuguese news text with\n",
            "                           part-of-speech tags\n",
            "  [ ] machado............. Machado de Assis -- Obra Completa\n",
            "  [ ] masc_tagged......... MASC Tagged Corpus\n",
            "  [ ] maxent_ne_chunker... ACE Named Entity Chunker (Maximum entropy)\n",
            "  [ ] maxent_ne_chunker_tab ACE Named Entity Chunker (Maximum entropy)\n",
            "  [ ] maxent_treebank_pos_tagger Treebank Part of Speech Tagger (Maximum entropy)\n",
            "  [ ] maxent_treebank_pos_tagger_tab Treebank Part of Speech Tagger (Maximum entropy)\n",
            "  [ ] moses_sample........ Moses Sample Models\n",
            "  [ ] movie_reviews....... Sentiment Polarity Dataset Version 2.0\n",
            "  [ ] mte_teip5........... MULTEXT-East 1984 annotated corpus 4.0\n",
            "  [ ] mwa_ppdb............ The monolingual word aligner (Sultan et al.\n",
            "                           2015) subset of the Paraphrase Database.\n",
            "  [ ] names............... Names Corpus, Version 1.3 (1994-03-29)\n",
            "Hit Enter to continue: names\n",
            "  [ ] nombank.1.0......... NomBank Corpus 1.0\n",
            "  [ ] nonbreaking_prefixes Non-Breaking Prefixes (Moses Decoder)\n",
            "  [ ] nps_chat............ NPS Chat\n",
            "  [ ] omw-1.4............. Open Multilingual Wordnet\n",
            "  [ ] omw................. Open Multilingual Wordnet\n",
            "  [ ] opinion_lexicon..... Opinion Lexicon\n",
            "  [ ] panlex_swadesh...... PanLex Swadesh Corpora\n",
            "  [ ] paradigms........... Paradigm Corpus\n",
            "  [ ] pe08................ Cross-Framework and Cross-Domain Parser\n",
            "                           Evaluation Shared Task\n",
            "  [ ] perluniprops........ perluniprops: Index of Unicode Version 7.0.0\n",
            "                           character properties in Perl\n",
            "  [ ] pil................. The Patient Information Leaflet (PIL) Corpus\n",
            "  [ ] pl196x.............. Polish language of the XX century sixties\n",
            "  [ ] porter_test......... Porter Stemmer Test Files\n",
            "  [ ] ppattach............ Prepositional Phrase Attachment Corpus\n",
            "  [ ] problem_reports..... Problem Report Corpus\n",
            "  [ ] product_reviews_1... Product Reviews (5 Products)\n",
            "  [ ] product_reviews_2... Product Reviews (9 Products)\n",
            "  [ ] propbank............ Proposition Bank Corpus 1.0\n",
            "  [ ] pros_cons........... Pros and Cons\n",
            "Hit Enter to continue: d\n",
            "  [ ] ptb................. Penn Treebank\n",
            "  [ ] punkt............... Punkt Tokenizer Models\n",
            "  [ ] punkt_tab........... Punkt Tokenizer Models\n",
            "  [ ] qc.................. Experimental Data for Question Classification\n",
            "  [ ] reuters............. The Reuters-21578 benchmark corpus, ApteMod\n",
            "                           version\n",
            "  [ ] rslp................ RSLP Stemmer (Removedor de Sufixos da Lingua\n",
            "                           Portuguesa)\n",
            "  [ ] rte................. PASCAL RTE Challenges 1, 2, and 3\n",
            "  [ ] sample_grammars..... Sample Grammars\n",
            "  [ ] semcor.............. SemCor 3.0\n",
            "  [ ] senseval............ SENSEVAL 2 Corpus: Sense Tagged Text\n",
            "  [ ] sentence_polarity... Sentence Polarity Dataset v1.0\n",
            "  [ ] sentiwordnet........ SentiWordNet\n",
            "  [ ] shakespeare......... Shakespeare XML Corpus Sample\n",
            "  [ ] sinica_treebank..... Sinica Treebank Corpus Sample\n",
            "  [ ] smultron............ SMULTRON Corpus Sample\n",
            "  [ ] snowball_data....... Snowball Data\n",
            "  [ ] spanish_grammars.... Grammars for Spanish\n",
            "  [ ] state_union......... C-Span State of the Union Address Corpus\n",
            "  [ ] stopwords........... Stopwords Corpus\n",
            "Hit Enter to continue: shakespeare\n",
            "  [ ] subjectivity........ Subjectivity Dataset v1.0\n",
            "  [ ] swadesh............. Swadesh Wordlists\n",
            "  [ ] switchboard......... Switchboard Corpus Sample\n",
            "  [ ] tagsets............. Help on Tagsets\n",
            "  [ ] tagsets_json........ Help on Tagsets (JSON)\n",
            "  [ ] timit............... TIMIT Corpus Sample\n",
            "  [ ] toolbox............. Toolbox Sample Files\n",
            "  [ ] treebank............ Penn Treebank Sample\n",
            "  [ ] twitter_samples..... Twitter Samples\n",
            "  [ ] udhr2............... Universal Declaration of Human Rights Corpus\n",
            "                           (Unicode Version)\n",
            "  [ ] udhr................ Universal Declaration of Human Rights Corpus\n",
            "  [ ] unicode_samples..... Unicode Samples\n",
            "  [ ] universal_tagset.... Mappings to the Universal Part-of-Speech Tagset\n",
            "  [ ] universal_treebanks_v20 Universal Treebanks Version 2.0\n",
            "  [ ] vader_lexicon....... VADER Sentiment Lexicon\n",
            "  [ ] verbnet3............ VerbNet Lexicon, Version 3.3\n",
            "  [ ] verbnet............. VerbNet Lexicon, Version 2.1\n",
            "  [ ] webtext............. Web Text Corpus\n",
            "  [ ] wmt15_eval.......... Evaluation data from WMT15\n",
            "  [ ] word2vec_sample..... Word2Vec Sample\n",
            "Hit Enter to continue: word2vec\n",
            "  [ ] wordnet2021......... Open English Wordnet 2021\n",
            "  [ ] wordnet2022......... Open English Wordnet 2022\n",
            "  [ ] wordnet31........... Wordnet 3.1\n",
            "  [ ] wordnet............. WordNet\n",
            "  [ ] wordnet_ic.......... WordNet-InfoContent\n",
            "  [ ] words............... Word Lists\n",
            "  [ ] ycoe................ York-Toronto-Helsinki Parsed Corpus of Old\n",
            "                           English Prose\n",
            "\n",
            "Collections:\n",
            "  [ ] all-corpora......... All the corpora\n",
            "  [ ] all-nltk............ All packages available on nltk_data gh-pages\n",
            "                           branch\n",
            "  [ ] all................. All packages\n",
            "  [ ] book................ Everything used in the NLTK Book\n",
            "  [ ] popular............. Popular packages\n",
            "  [ ] tests............... Packages for running tests\n",
            "  [ ] third-party......... Third-party data packages\n",
            "\n",
            "([*] marks installed packages)\n",
            "\n",
            "---------------------------------------------------------------------------\n",
            "    d) Download   l) List    u) Update   c) Config   h) Help   q) Quit\n",
            "---------------------------------------------------------------------------\n",
            "Downloader> d\n",
            "\n",
            "Download which package (l=list; x=cancel)?\n",
            "  Identifier> l\n",
            "Packages:\n",
            "  [ ] abc................. Australian Broadcasting Commission 2006\n",
            "  [ ] alpino.............. Alpino Dutch Treebank\n",
            "  [ ] averaged_perceptron_tagger Averaged Perceptron Tagger\n",
            "  [ ] averaged_perceptron_tagger_eng Averaged Perceptron Tagger (JSON)\n",
            "  [ ] averaged_perceptron_tagger_ru Averaged Perceptron Tagger (Russian)\n",
            "  [ ] averaged_perceptron_tagger_rus Averaged Perceptron Tagger (Russian)\n",
            "  [ ] basque_grammars..... Grammars for Basque\n",
            "  [ ] bcp47............... BCP-47 Language Tags\n",
            "  [ ] biocreative_ppi..... BioCreAtIvE (Critical Assessment of Information\n",
            "                           Extraction Systems in Biology)\n",
            "  [ ] bllip_wsj_no_aux.... BLLIP Parser: WSJ Model\n",
            "  [ ] book_grammars....... Grammars from NLTK Book\n",
            "  [ ] brown............... Brown Corpus\n",
            "  [ ] brown_tei........... Brown Corpus (TEI XML Version)\n",
            "  [ ] cess_cat............ CESS-CAT Treebank\n",
            "  [ ] cess_esp............ CESS-ESP Treebank\n",
            "  [ ] chat80.............. Chat-80 Data Files\n",
            "  [ ] city_database....... City Database\n",
            "  [ ] cmudict............. The Carnegie Mellon Pronouncing Dictionary (0.6)\n",
            "  [ ] comparative_sentences Comparative Sentence Dataset\n",
            "Hit Enter to continue: brown\n",
            "  [ ] comtrans............ ComTrans Corpus Sample\n",
            "  [ ] conll2000........... CONLL 2000 Chunking Corpus\n",
            "  [ ] conll2002........... CONLL 2002 Named Entity Recognition Corpus\n",
            "  [ ] conll2007........... Dependency Treebanks from CoNLL 2007 (Catalan\n",
            "                           and Basque Subset)\n",
            "  [ ] crubadan............ Crubadan Corpus\n",
            "  [ ] dependency_treebank. Dependency Parsed Treebank\n",
            "  [ ] dolch............... Dolch Word List\n",
            "  [ ] english_wordnet..... Open English Wordnet\n",
            "  [ ] europarl_raw........ Sample European Parliament Proceedings Parallel\n",
            "                           Corpus\n",
            "  [ ] extended_omw........ Extended Open Multilingual WordNet\n",
            "  [ ] floresta............ Portuguese Treebank\n",
            "  [ ] framenet_v15........ FrameNet 1.5\n",
            "  [ ] framenet_v17........ FrameNet 1.7\n",
            "  [ ] gazetteers.......... Gazeteer Lists\n",
            "  [ ] genesis............. Genesis Corpus\n",
            "  [ ] gutenberg........... Project Gutenberg Selections\n",
            "  [ ] ieer................ NIST IE-ER DATA SAMPLE\n",
            "  [ ] inaugural........... C-Span Inaugural Address Corpus\n",
            "  [ ] indian.............. Indian Language POS-Tagged Corpus\n",
            "Hit Enter to continue: inaugural\n",
            "  [ ] jeita............... JEITA Public Morphologically Tagged Corpus (in\n",
            "                           ChaSen format)\n",
            "  [ ] kimmo............... PC-KIMMO Data Files\n",
            "  [ ] knbc................ KNB Corpus (Annotated blog corpus)\n",
            "  [ ] large_grammars...... Large context-free and feature-based grammars\n",
            "                           for parser comparison\n",
            "  [ ] lin_thesaurus....... Lin's Dependency Thesaurus\n",
            "  [ ] mac_morpho.......... MAC-MORPHO: Brazilian Portuguese news text with\n",
            "                           part-of-speech tags\n",
            "  [ ] machado............. Machado de Assis -- Obra Completa\n",
            "  [ ] masc_tagged......... MASC Tagged Corpus\n",
            "  [ ] maxent_ne_chunker... ACE Named Entity Chunker (Maximum entropy)\n",
            "  [ ] maxent_ne_chunker_tab ACE Named Entity Chunker (Maximum entropy)\n",
            "  [ ] maxent_treebank_pos_tagger Treebank Part of Speech Tagger (Maximum entropy)\n",
            "  [ ] maxent_treebank_pos_tagger_tab Treebank Part of Speech Tagger (Maximum entropy)\n",
            "  [ ] moses_sample........ Moses Sample Models\n",
            "  [ ] movie_reviews....... Sentiment Polarity Dataset Version 2.0\n",
            "  [ ] mte_teip5........... MULTEXT-East 1984 annotated corpus 4.0\n",
            "  [ ] mwa_ppdb............ The monolingual word aligner (Sultan et al.\n",
            "                           2015) subset of the Paraphrase Database.\n",
            "  [ ] names............... Names Corpus, Version 1.3 (1994-03-29)\n",
            "Hit Enter to continue: names\n",
            "  [ ] nombank.1.0......... NomBank Corpus 1.0\n",
            "  [ ] nonbreaking_prefixes Non-Breaking Prefixes (Moses Decoder)\n",
            "  [ ] nps_chat............ NPS Chat\n",
            "  [ ] omw-1.4............. Open Multilingual Wordnet\n",
            "  [ ] omw................. Open Multilingual Wordnet\n",
            "  [ ] opinion_lexicon..... Opinion Lexicon\n",
            "  [ ] panlex_swadesh...... PanLex Swadesh Corpora\n",
            "  [ ] paradigms........... Paradigm Corpus\n",
            "  [ ] pe08................ Cross-Framework and Cross-Domain Parser\n",
            "                           Evaluation Shared Task\n",
            "  [ ] perluniprops........ perluniprops: Index of Unicode Version 7.0.0\n",
            "                           character properties in Perl\n",
            "  [ ] pil................. The Patient Information Leaflet (PIL) Corpus\n",
            "  [ ] pl196x.............. Polish language of the XX century sixties\n",
            "  [ ] porter_test......... Porter Stemmer Test Files\n",
            "  [ ] ppattach............ Prepositional Phrase Attachment Corpus\n",
            "  [ ] problem_reports..... Problem Report Corpus\n",
            "  [ ] product_reviews_1... Product Reviews (5 Products)\n",
            "  [ ] product_reviews_2... Product Reviews (9 Products)\n",
            "  [ ] propbank............ Proposition Bank Corpus 1.0\n",
            "  [ ] pros_cons........... Pros and Cons\n",
            "Hit Enter to continue: pil\n",
            "  [ ] ptb................. Penn Treebank\n",
            "  [ ] punkt............... Punkt Tokenizer Models\n",
            "  [ ] punkt_tab........... Punkt Tokenizer Models\n",
            "  [ ] qc.................. Experimental Data for Question Classification\n",
            "  [ ] reuters............. The Reuters-21578 benchmark corpus, ApteMod\n",
            "                           version\n",
            "  [ ] rslp................ RSLP Stemmer (Removedor de Sufixos da Lingua\n",
            "                           Portuguesa)\n",
            "  [ ] rte................. PASCAL RTE Challenges 1, 2, and 3\n",
            "  [ ] sample_grammars..... Sample Grammars\n",
            "  [ ] semcor.............. SemCor 3.0\n",
            "  [ ] senseval............ SENSEVAL 2 Corpus: Sense Tagged Text\n",
            "  [ ] sentence_polarity... Sentence Polarity Dataset v1.0\n",
            "  [ ] sentiwordnet........ SentiWordNet\n",
            "  [ ] shakespeare......... Shakespeare XML Corpus Sample\n",
            "  [ ] sinica_treebank..... Sinica Treebank Corpus Sample\n",
            "  [ ] smultron............ SMULTRON Corpus Sample\n",
            "  [ ] snowball_data....... Snowball Data\n",
            "  [ ] spanish_grammars.... Grammars for Spanish\n",
            "  [ ] state_union......... C-Span State of the Union Address Corpus\n",
            "  [ ] stopwords........... Stopwords Corpus\n",
            "Hit Enter to continue: stopwords\n",
            "  [ ] subjectivity........ Subjectivity Dataset v1.0\n",
            "  [ ] swadesh............. Swadesh Wordlists\n",
            "  [ ] switchboard......... Switchboard Corpus Sample\n",
            "  [ ] tagsets............. Help on Tagsets\n",
            "  [ ] tagsets_json........ Help on Tagsets (JSON)\n",
            "  [ ] timit............... TIMIT Corpus Sample\n",
            "  [ ] toolbox............. Toolbox Sample Files\n",
            "  [ ] treebank............ Penn Treebank Sample\n",
            "  [ ] twitter_samples..... Twitter Samples\n",
            "  [ ] udhr2............... Universal Declaration of Human Rights Corpus\n",
            "                           (Unicode Version)\n",
            "  [ ] udhr................ Universal Declaration of Human Rights Corpus\n",
            "  [ ] unicode_samples..... Unicode Samples\n",
            "  [ ] universal_tagset.... Mappings to the Universal Part-of-Speech Tagset\n",
            "  [ ] universal_treebanks_v20 Universal Treebanks Version 2.0\n",
            "  [ ] vader_lexicon....... VADER Sentiment Lexicon\n",
            "  [ ] verbnet3............ VerbNet Lexicon, Version 3.3\n",
            "  [ ] verbnet............. VerbNet Lexicon, Version 2.1\n",
            "  [ ] webtext............. Web Text Corpus\n",
            "  [ ] wmt15_eval.......... Evaluation data from WMT15\n",
            "  [ ] word2vec_sample..... Word2Vec Sample\n",
            "Hit Enter to continue: webtext\n",
            "  [ ] wordnet2021......... Open English Wordnet 2021\n",
            "  [ ] wordnet2022......... Open English Wordnet 2022\n",
            "  [ ] wordnet31........... Wordnet 3.1\n",
            "  [ ] wordnet............. WordNet\n",
            "  [ ] wordnet_ic.......... WordNet-InfoContent\n",
            "  [ ] words............... Word Lists\n",
            "  [ ] ycoe................ York-Toronto-Helsinki Parsed Corpus of Old\n",
            "                           English Prose\n",
            "\n",
            "Collections:\n",
            "  [ ] all-corpora......... All the corpora\n",
            "  [ ] all-nltk............ All packages available on nltk_data gh-pages\n",
            "                           branch\n",
            "  [ ] all................. All packages\n",
            "  [ ] book................ Everything used in the NLTK Book\n",
            "  [ ] popular............. Popular packages\n",
            "  [ ] tests............... Packages for running tests\n",
            "  [ ] third-party......... Third-party data packages\n",
            "\n",
            "([*] marks installed packages)\n",
            "\n",
            "Download which package (l=list; x=cancel)?\n",
            "  Identifier> all-nltk\n"
          ]
        },
        {
          "output_type": "stream",
          "name": "stderr",
          "text": [
            "    Downloading collection 'all-nltk'\n",
            "       | \n",
            "       | Downloading package abc to /root/nltk_data...\n",
            "       |   Unzipping corpora/abc.zip.\n",
            "       | Downloading package alpino to /root/nltk_data...\n",
            "       |   Unzipping corpora/alpino.zip.\n",
            "       | Downloading package averaged_perceptron_tagger to\n",
            "       |     /root/nltk_data...\n",
            "       |   Unzipping taggers/averaged_perceptron_tagger.zip.\n",
            "       | Downloading package averaged_perceptron_tagger_eng to\n",
            "       |     /root/nltk_data...\n",
            "       |   Unzipping taggers/averaged_perceptron_tagger_eng.zip.\n",
            "       | Downloading package averaged_perceptron_tagger_ru to\n",
            "       |     /root/nltk_data...\n",
            "       |   Unzipping taggers/averaged_perceptron_tagger_ru.zip.\n",
            "       | Downloading package averaged_perceptron_tagger_rus to\n",
            "       |     /root/nltk_data...\n",
            "       |   Unzipping taggers/averaged_perceptron_tagger_rus.zip.\n",
            "       | Downloading package basque_grammars to /root/nltk_data...\n",
            "       |   Unzipping grammars/basque_grammars.zip.\n",
            "       | Downloading package bcp47 to /root/nltk_data...\n",
            "       | Downloading package biocreative_ppi to /root/nltk_data...\n",
            "       |   Unzipping corpora/biocreative_ppi.zip.\n",
            "       | Downloading package bllip_wsj_no_aux to /root/nltk_data...\n",
            "       |   Unzipping models/bllip_wsj_no_aux.zip.\n",
            "       | Downloading package book_grammars to /root/nltk_data...\n",
            "       |   Unzipping grammars/book_grammars.zip.\n",
            "       | Downloading package brown to /root/nltk_data...\n",
            "       |   Unzipping corpora/brown.zip.\n",
            "       | Downloading package brown_tei to /root/nltk_data...\n",
            "       |   Unzipping corpora/brown_tei.zip.\n",
            "       | Downloading package cess_cat to /root/nltk_data...\n",
            "       |   Unzipping corpora/cess_cat.zip.\n",
            "       | Downloading package cess_esp to /root/nltk_data...\n",
            "       |   Unzipping corpora/cess_esp.zip.\n",
            "       | Downloading package chat80 to /root/nltk_data...\n",
            "       |   Unzipping corpora/chat80.zip.\n",
            "       | Downloading package city_database to /root/nltk_data...\n",
            "       |   Unzipping corpora/city_database.zip.\n",
            "       | Downloading package cmudict to /root/nltk_data...\n",
            "       |   Unzipping corpora/cmudict.zip.\n",
            "       | Downloading package comparative_sentences to\n",
            "       |     /root/nltk_data...\n",
            "       |   Unzipping corpora/comparative_sentences.zip.\n",
            "       | Downloading package comtrans to /root/nltk_data...\n",
            "       | Downloading package conll2000 to /root/nltk_data...\n",
            "       |   Unzipping corpora/conll2000.zip.\n",
            "       | Downloading package conll2002 to /root/nltk_data...\n",
            "       |   Unzipping corpora/conll2002.zip.\n",
            "       | Downloading package conll2007 to /root/nltk_data...\n",
            "       | Downloading package crubadan to /root/nltk_data...\n",
            "       |   Unzipping corpora/crubadan.zip.\n",
            "       | Downloading package dependency_treebank to /root/nltk_data...\n",
            "       |   Unzipping corpora/dependency_treebank.zip.\n",
            "       | Downloading package dolch to /root/nltk_data...\n",
            "       |   Unzipping corpora/dolch.zip.\n",
            "       | Downloading package english_wordnet to /root/nltk_data...\n",
            "       |   Unzipping corpora/english_wordnet.zip.\n",
            "       | Downloading package europarl_raw to /root/nltk_data...\n",
            "       |   Unzipping corpora/europarl_raw.zip.\n",
            "       | Downloading package extended_omw to /root/nltk_data...\n",
            "       | Downloading package floresta to /root/nltk_data...\n",
            "       |   Unzipping corpora/floresta.zip.\n",
            "       | Downloading package framenet_v15 to /root/nltk_data...\n",
            "       |   Unzipping corpora/framenet_v15.zip.\n",
            "       | Downloading package framenet_v17 to /root/nltk_data...\n",
            "       |   Unzipping corpora/framenet_v17.zip.\n",
            "       | Downloading package gazetteers to /root/nltk_data...\n",
            "       |   Unzipping corpora/gazetteers.zip.\n",
            "       | Downloading package genesis to /root/nltk_data...\n",
            "       |   Unzipping corpora/genesis.zip.\n",
            "       | Downloading package gutenberg to /root/nltk_data...\n",
            "       |   Unzipping corpora/gutenberg.zip.\n",
            "       | Downloading package ieer to /root/nltk_data...\n",
            "       |   Unzipping corpora/ieer.zip.\n",
            "       | Downloading package inaugural to /root/nltk_data...\n",
            "       |   Unzipping corpora/inaugural.zip.\n",
            "       | Downloading package indian to /root/nltk_data...\n",
            "       |   Unzipping corpora/indian.zip.\n",
            "       | Downloading package jeita to /root/nltk_data...\n",
            "       | Downloading package kimmo to /root/nltk_data...\n",
            "       |   Unzipping corpora/kimmo.zip.\n",
            "       | Downloading package knbc to /root/nltk_data...\n",
            "       | Downloading package large_grammars to /root/nltk_data...\n",
            "       |   Unzipping grammars/large_grammars.zip.\n",
            "       | Downloading package lin_thesaurus to /root/nltk_data...\n",
            "       |   Unzipping corpora/lin_thesaurus.zip.\n",
            "       | Downloading package mac_morpho to /root/nltk_data...\n",
            "       |   Unzipping corpora/mac_morpho.zip.\n",
            "       | Downloading package machado to /root/nltk_data...\n",
            "       | Downloading package masc_tagged to /root/nltk_data...\n",
            "       | Downloading package maxent_ne_chunker to /root/nltk_data...\n",
            "       |   Unzipping chunkers/maxent_ne_chunker.zip.\n",
            "       | Downloading package maxent_ne_chunker_tab to\n",
            "       |     /root/nltk_data...\n",
            "       |   Unzipping chunkers/maxent_ne_chunker_tab.zip.\n",
            "       | Downloading package maxent_treebank_pos_tagger to\n",
            "       |     /root/nltk_data...\n",
            "       |   Unzipping taggers/maxent_treebank_pos_tagger.zip.\n",
            "       | Downloading package maxent_treebank_pos_tagger_tab to\n",
            "       |     /root/nltk_data...\n",
            "       |   Unzipping taggers/maxent_treebank_pos_tagger_tab.zip.\n",
            "       | Downloading package moses_sample to /root/nltk_data...\n",
            "       |   Unzipping models/moses_sample.zip.\n",
            "       | Downloading package movie_reviews to /root/nltk_data...\n",
            "       |   Unzipping corpora/movie_reviews.zip.\n",
            "       | Downloading package mte_teip5 to /root/nltk_data...\n",
            "       |   Unzipping corpora/mte_teip5.zip.\n",
            "       | Downloading package mwa_ppdb to /root/nltk_data...\n",
            "       |   Unzipping misc/mwa_ppdb.zip.\n",
            "       | Downloading package names to /root/nltk_data...\n",
            "       |   Unzipping corpora/names.zip.\n",
            "       | Downloading package nombank.1.0 to /root/nltk_data...\n",
            "       | Downloading package nonbreaking_prefixes to\n",
            "       |     /root/nltk_data...\n",
            "       |   Unzipping corpora/nonbreaking_prefixes.zip.\n",
            "       | Downloading package nps_chat to /root/nltk_data...\n",
            "       |   Unzipping corpora/nps_chat.zip.\n",
            "       | Downloading package omw to /root/nltk_data...\n",
            "       | Downloading package omw-1.4 to /root/nltk_data...\n",
            "       | Downloading package opinion_lexicon to /root/nltk_data...\n",
            "       |   Unzipping corpora/opinion_lexicon.zip.\n",
            "       | Downloading package panlex_swadesh to /root/nltk_data...\n",
            "       | Downloading package paradigms to /root/nltk_data...\n",
            "       |   Unzipping corpora/paradigms.zip.\n",
            "       | Downloading package pe08 to /root/nltk_data...\n",
            "       |   Unzipping corpora/pe08.zip.\n",
            "       | Downloading package perluniprops to /root/nltk_data...\n",
            "       |   Unzipping misc/perluniprops.zip.\n",
            "       | Downloading package pil to /root/nltk_data...\n",
            "       |   Unzipping corpora/pil.zip.\n",
            "       | Downloading package pl196x to /root/nltk_data...\n",
            "       |   Unzipping corpora/pl196x.zip.\n",
            "       | Downloading package porter_test to /root/nltk_data...\n",
            "       |   Unzipping stemmers/porter_test.zip.\n",
            "       | Downloading package ppattach to /root/nltk_data...\n",
            "       |   Unzipping corpora/ppattach.zip.\n",
            "       | Downloading package problem_reports to /root/nltk_data...\n",
            "       |   Unzipping corpora/problem_reports.zip.\n",
            "       | Downloading package product_reviews_1 to /root/nltk_data...\n",
            "       |   Unzipping corpora/product_reviews_1.zip.\n",
            "       | Downloading package product_reviews_2 to /root/nltk_data...\n",
            "       |   Unzipping corpora/product_reviews_2.zip.\n",
            "       | Downloading package propbank to /root/nltk_data...\n",
            "       | Downloading package pros_cons to /root/nltk_data...\n",
            "       |   Unzipping corpora/pros_cons.zip.\n",
            "       | Downloading package ptb to /root/nltk_data...\n",
            "       |   Unzipping corpora/ptb.zip.\n",
            "       | Downloading package punkt to /root/nltk_data...\n",
            "       |   Unzipping tokenizers/punkt.zip.\n",
            "       | Downloading package punkt_tab to /root/nltk_data...\n",
            "       |   Unzipping tokenizers/punkt_tab.zip.\n",
            "       | Downloading package qc to /root/nltk_data...\n",
            "       |   Unzipping corpora/qc.zip.\n",
            "       | Downloading package reuters to /root/nltk_data...\n",
            "       | Downloading package rslp to /root/nltk_data...\n",
            "       |   Unzipping stemmers/rslp.zip.\n",
            "       | Downloading package rte to /root/nltk_data...\n",
            "       |   Unzipping corpora/rte.zip.\n",
            "       | Downloading package sample_grammars to /root/nltk_data...\n",
            "       |   Unzipping grammars/sample_grammars.zip.\n",
            "       | Downloading package semcor to /root/nltk_data...\n",
            "       | Downloading package senseval to /root/nltk_data...\n",
            "       |   Unzipping corpora/senseval.zip.\n",
            "       | Downloading package sentence_polarity to /root/nltk_data...\n",
            "       |   Unzipping corpora/sentence_polarity.zip.\n",
            "       | Downloading package sentiwordnet to /root/nltk_data...\n",
            "       |   Unzipping corpora/sentiwordnet.zip.\n",
            "       | Downloading package shakespeare to /root/nltk_data...\n",
            "       |   Unzipping corpora/shakespeare.zip.\n",
            "       | Downloading package sinica_treebank to /root/nltk_data...\n",
            "       |   Unzipping corpora/sinica_treebank.zip.\n",
            "       | Downloading package smultron to /root/nltk_data...\n",
            "       |   Unzipping corpora/smultron.zip.\n",
            "       | Downloading package snowball_data to /root/nltk_data...\n",
            "       | Downloading package spanish_grammars to /root/nltk_data...\n",
            "       |   Unzipping grammars/spanish_grammars.zip.\n",
            "       | Downloading package state_union to /root/nltk_data...\n",
            "       |   Unzipping corpora/state_union.zip.\n",
            "       | Downloading package stopwords to /root/nltk_data...\n",
            "       |   Unzipping corpora/stopwords.zip.\n",
            "       | Downloading package subjectivity to /root/nltk_data...\n",
            "       |   Unzipping corpora/subjectivity.zip.\n",
            "       | Downloading package swadesh to /root/nltk_data...\n",
            "       |   Unzipping corpora/swadesh.zip.\n",
            "       | Downloading package switchboard to /root/nltk_data...\n",
            "       |   Unzipping corpora/switchboard.zip.\n",
            "       | Downloading package tagsets to /root/nltk_data...\n",
            "       |   Unzipping help/tagsets.zip.\n",
            "       | Downloading package tagsets_json to /root/nltk_data...\n",
            "       |   Unzipping help/tagsets_json.zip.\n",
            "       | Downloading package timit to /root/nltk_data...\n",
            "       |   Unzipping corpora/timit.zip.\n",
            "       | Downloading package toolbox to /root/nltk_data...\n",
            "       |   Unzipping corpora/toolbox.zip.\n",
            "       | Downloading package treebank to /root/nltk_data...\n",
            "       |   Unzipping corpora/treebank.zip.\n",
            "       | Downloading package twitter_samples to /root/nltk_data...\n",
            "       |   Unzipping corpora/twitter_samples.zip.\n",
            "       | Downloading package udhr to /root/nltk_data...\n",
            "       |   Unzipping corpora/udhr.zip.\n",
            "       | Downloading package udhr2 to /root/nltk_data...\n",
            "       |   Unzipping corpora/udhr2.zip.\n",
            "       | Downloading package unicode_samples to /root/nltk_data...\n",
            "       |   Unzipping corpora/unicode_samples.zip.\n",
            "       | Downloading package universal_tagset to /root/nltk_data...\n",
            "       |   Unzipping taggers/universal_tagset.zip.\n",
            "       | Downloading package universal_treebanks_v20 to\n",
            "       |     /root/nltk_data...\n",
            "       | Downloading package vader_lexicon to /root/nltk_data...\n",
            "       | Downloading package verbnet to /root/nltk_data...\n",
            "       |   Unzipping corpora/verbnet.zip.\n",
            "       | Downloading package verbnet3 to /root/nltk_data...\n",
            "       |   Unzipping corpora/verbnet3.zip.\n",
            "       | Downloading package webtext to /root/nltk_data...\n",
            "       |   Unzipping corpora/webtext.zip.\n",
            "       | Downloading package wmt15_eval to /root/nltk_data...\n",
            "       |   Unzipping models/wmt15_eval.zip.\n",
            "       | Downloading package word2vec_sample to /root/nltk_data...\n",
            "       |   Unzipping models/word2vec_sample.zip.\n",
            "       | Downloading package wordnet to /root/nltk_data...\n",
            "       | Downloading package wordnet2021 to /root/nltk_data...\n",
            "       | Downloading package wordnet2022 to /root/nltk_data...\n",
            "       |   Unzipping corpora/wordnet2022.zip.\n",
            "       | Downloading package wordnet31 to /root/nltk_data...\n",
            "       | Downloading package wordnet_ic to /root/nltk_data...\n",
            "       |   Unzipping corpora/wordnet_ic.zip.\n",
            "       | Downloading package words to /root/nltk_data...\n",
            "       |   Unzipping corpora/words.zip.\n",
            "       | Downloading package ycoe to /root/nltk_data...\n",
            "       |   Unzipping corpora/ycoe.zip.\n",
            "       | \n",
            "     Done downloading collection all-nltk\n"
          ]
        },
        {
          "output_type": "stream",
          "name": "stdout",
          "text": [
            "\n",
            "---------------------------------------------------------------------------\n",
            "    d) Download   l) List    u) Update   c) Config   h) Help   q) Quit\n",
            "---------------------------------------------------------------------------\n"
          ]
        },
        {
          "output_type": "error",
          "ename": "KeyboardInterrupt",
          "evalue": "Interrupted by user",
          "traceback": [
            "\u001b[0;31m---------------------------------------------------------------------------\u001b[0m",
            "\u001b[0;31mKeyboardInterrupt\u001b[0m                         Traceback (most recent call last)",
            "\u001b[0;32m<ipython-input-2-b4975f87fde4>\u001b[0m in \u001b[0;36m<cell line: 0>\u001b[0;34m()\u001b[0m\n\u001b[1;32m      1\u001b[0m \u001b[0;32mimport\u001b[0m \u001b[0mnltk\u001b[0m\u001b[0;34m\u001b[0m\u001b[0;34m\u001b[0m\u001b[0m\n\u001b[1;32m      2\u001b[0m \u001b[0;34m\u001b[0m\u001b[0m\n\u001b[0;32m----> 3\u001b[0;31m \u001b[0mnltk\u001b[0m\u001b[0;34m.\u001b[0m\u001b[0mdownload\u001b[0m\u001b[0;34m(\u001b[0m\u001b[0;34m)\u001b[0m\u001b[0;34m\u001b[0m\u001b[0;34m\u001b[0m\u001b[0m\n\u001b[0m",
            "\u001b[0;32m/usr/local/lib/python3.11/dist-packages/nltk/downloader.py\u001b[0m in \u001b[0;36mdownload\u001b[0;34m(self, info_or_id, download_dir, quiet, force, prefix, halt_on_error, raise_on_error, print_error_to)\u001b[0m\n\u001b[1;32m    758\u001b[0m             \u001b[0;32mif\u001b[0m \u001b[0mdownload_dir\u001b[0m \u001b[0;32mis\u001b[0m \u001b[0;32mnot\u001b[0m \u001b[0;32mNone\u001b[0m\u001b[0;34m:\u001b[0m\u001b[0;34m\u001b[0m\u001b[0;34m\u001b[0m\u001b[0m\n\u001b[1;32m    759\u001b[0m                 \u001b[0mself\u001b[0m\u001b[0;34m.\u001b[0m\u001b[0m_download_dir\u001b[0m \u001b[0;34m=\u001b[0m \u001b[0mdownload_dir\u001b[0m\u001b[0;34m\u001b[0m\u001b[0;34m\u001b[0m\u001b[0m\n\u001b[0;32m--> 760\u001b[0;31m             \u001b[0mself\u001b[0m\u001b[0;34m.\u001b[0m\u001b[0m_interactive_download\u001b[0m\u001b[0;34m(\u001b[0m\u001b[0;34m)\u001b[0m\u001b[0;34m\u001b[0m\u001b[0;34m\u001b[0m\u001b[0m\n\u001b[0m\u001b[1;32m    761\u001b[0m             \u001b[0;32mreturn\u001b[0m \u001b[0;32mTrue\u001b[0m\u001b[0;34m\u001b[0m\u001b[0;34m\u001b[0m\u001b[0m\n\u001b[1;32m    762\u001b[0m \u001b[0;34m\u001b[0m\u001b[0m\n",
            "\u001b[0;32m/usr/local/lib/python3.11/dist-packages/nltk/downloader.py\u001b[0m in \u001b[0;36m_interactive_download\u001b[0;34m(self)\u001b[0m\n\u001b[1;32m   1110\u001b[0m                 \u001b[0mDownloaderGUI\u001b[0m\u001b[0;34m(\u001b[0m\u001b[0mself\u001b[0m\u001b[0;34m)\u001b[0m\u001b[0;34m.\u001b[0m\u001b[0mmainloop\u001b[0m\u001b[0;34m(\u001b[0m\u001b[0;34m)\u001b[0m\u001b[0;34m\u001b[0m\u001b[0;34m\u001b[0m\u001b[0m\n\u001b[1;32m   1111\u001b[0m             \u001b[0;32mexcept\u001b[0m \u001b[0mTclError\u001b[0m\u001b[0;34m:\u001b[0m\u001b[0;34m\u001b[0m\u001b[0;34m\u001b[0m\u001b[0m\n\u001b[0;32m-> 1112\u001b[0;31m                 \u001b[0mDownloaderShell\u001b[0m\u001b[0;34m(\u001b[0m\u001b[0mself\u001b[0m\u001b[0;34m)\u001b[0m\u001b[0;34m.\u001b[0m\u001b[0mrun\u001b[0m\u001b[0;34m(\u001b[0m\u001b[0;34m)\u001b[0m\u001b[0;34m\u001b[0m\u001b[0;34m\u001b[0m\u001b[0m\n\u001b[0m\u001b[1;32m   1113\u001b[0m         \u001b[0;32melse\u001b[0m\u001b[0;34m:\u001b[0m\u001b[0;34m\u001b[0m\u001b[0;34m\u001b[0m\u001b[0m\n\u001b[1;32m   1114\u001b[0m             \u001b[0mDownloaderShell\u001b[0m\u001b[0;34m(\u001b[0m\u001b[0mself\u001b[0m\u001b[0;34m)\u001b[0m\u001b[0;34m.\u001b[0m\u001b[0mrun\u001b[0m\u001b[0;34m(\u001b[0m\u001b[0;34m)\u001b[0m\u001b[0;34m\u001b[0m\u001b[0;34m\u001b[0m\u001b[0m\n",
            "\u001b[0;32m/usr/local/lib/python3.11/dist-packages/nltk/downloader.py\u001b[0m in \u001b[0;36mrun\u001b[0;34m(self)\u001b[0m\n\u001b[1;32m   1136\u001b[0m                 \u001b[0;34m\"q) Quit\"\u001b[0m\u001b[0;34m,\u001b[0m\u001b[0;34m\u001b[0m\u001b[0;34m\u001b[0m\u001b[0m\n\u001b[1;32m   1137\u001b[0m             )\n\u001b[0;32m-> 1138\u001b[0;31m             \u001b[0muser_input\u001b[0m \u001b[0;34m=\u001b[0m \u001b[0minput\u001b[0m\u001b[0;34m(\u001b[0m\u001b[0;34m\"Downloader> \"\u001b[0m\u001b[0;34m)\u001b[0m\u001b[0;34m.\u001b[0m\u001b[0mstrip\u001b[0m\u001b[0;34m(\u001b[0m\u001b[0;34m)\u001b[0m\u001b[0;34m\u001b[0m\u001b[0;34m\u001b[0m\u001b[0m\n\u001b[0m\u001b[1;32m   1139\u001b[0m             \u001b[0;32mif\u001b[0m \u001b[0;32mnot\u001b[0m \u001b[0muser_input\u001b[0m\u001b[0;34m:\u001b[0m\u001b[0;34m\u001b[0m\u001b[0;34m\u001b[0m\u001b[0m\n\u001b[1;32m   1140\u001b[0m                 \u001b[0mprint\u001b[0m\u001b[0;34m(\u001b[0m\u001b[0;34m)\u001b[0m\u001b[0;34m\u001b[0m\u001b[0;34m\u001b[0m\u001b[0m\n",
            "\u001b[0;32m/usr/local/lib/python3.11/dist-packages/ipykernel/kernelbase.py\u001b[0m in \u001b[0;36mraw_input\u001b[0;34m(self, prompt)\u001b[0m\n\u001b[1;32m   1175\u001b[0m                 \u001b[0;34m\"raw_input was called, but this frontend does not support input requests.\"\u001b[0m\u001b[0;34m\u001b[0m\u001b[0;34m\u001b[0m\u001b[0m\n\u001b[1;32m   1176\u001b[0m             )\n\u001b[0;32m-> 1177\u001b[0;31m         return self._input_request(\n\u001b[0m\u001b[1;32m   1178\u001b[0m             \u001b[0mstr\u001b[0m\u001b[0;34m(\u001b[0m\u001b[0mprompt\u001b[0m\u001b[0;34m)\u001b[0m\u001b[0;34m,\u001b[0m\u001b[0;34m\u001b[0m\u001b[0;34m\u001b[0m\u001b[0m\n\u001b[1;32m   1179\u001b[0m             \u001b[0mself\u001b[0m\u001b[0;34m.\u001b[0m\u001b[0m_parent_ident\u001b[0m\u001b[0;34m[\u001b[0m\u001b[0;34m\"shell\"\u001b[0m\u001b[0;34m]\u001b[0m\u001b[0;34m,\u001b[0m\u001b[0;34m\u001b[0m\u001b[0;34m\u001b[0m\u001b[0m\n",
            "\u001b[0;32m/usr/local/lib/python3.11/dist-packages/ipykernel/kernelbase.py\u001b[0m in \u001b[0;36m_input_request\u001b[0;34m(self, prompt, ident, parent, password)\u001b[0m\n\u001b[1;32m   1217\u001b[0m             \u001b[0;32mexcept\u001b[0m \u001b[0mKeyboardInterrupt\u001b[0m\u001b[0;34m:\u001b[0m\u001b[0;34m\u001b[0m\u001b[0;34m\u001b[0m\u001b[0m\n\u001b[1;32m   1218\u001b[0m                 \u001b[0;31m# re-raise KeyboardInterrupt, to truncate traceback\u001b[0m\u001b[0;34m\u001b[0m\u001b[0;34m\u001b[0m\u001b[0m\n\u001b[0;32m-> 1219\u001b[0;31m                 \u001b[0;32mraise\u001b[0m \u001b[0mKeyboardInterrupt\u001b[0m\u001b[0;34m(\u001b[0m\u001b[0;34m\"Interrupted by user\"\u001b[0m\u001b[0;34m)\u001b[0m \u001b[0;32mfrom\u001b[0m \u001b[0;32mNone\u001b[0m\u001b[0;34m\u001b[0m\u001b[0;34m\u001b[0m\u001b[0m\n\u001b[0m\u001b[1;32m   1220\u001b[0m             \u001b[0;32mexcept\u001b[0m \u001b[0mException\u001b[0m\u001b[0;34m:\u001b[0m\u001b[0;34m\u001b[0m\u001b[0;34m\u001b[0m\u001b[0m\n\u001b[1;32m   1221\u001b[0m                 \u001b[0mself\u001b[0m\u001b[0;34m.\u001b[0m\u001b[0mlog\u001b[0m\u001b[0;34m.\u001b[0m\u001b[0mwarning\u001b[0m\u001b[0;34m(\u001b[0m\u001b[0;34m\"Invalid Message:\"\u001b[0m\u001b[0;34m,\u001b[0m \u001b[0mexc_info\u001b[0m\u001b[0;34m=\u001b[0m\u001b[0;32mTrue\u001b[0m\u001b[0;34m)\u001b[0m\u001b[0;34m\u001b[0m\u001b[0;34m\u001b[0m\u001b[0m\n",
            "\u001b[0;31mKeyboardInterrupt\u001b[0m: Interrupted by user"
          ]
        }
      ],
      "source": [
        "import nltk\n",
        "\n",
        "nltk.download()"
      ]
    },
    {
      "cell_type": "markdown",
      "id": "paperback-morris",
      "metadata": {
        "id": "paperback-morris"
      },
      "source": [
        "Now we should be able to list the downloaded resources as well."
      ]
    },
    {
      "cell_type": "code",
      "execution_count": 3,
      "id": "acknowledged-principal",
      "metadata": {
        "id": "acknowledged-principal",
        "outputId": "6b5119c1-3f01-4334-d84f-f99f89675a7e",
        "colab": {
          "base_uri": "https://localhost:8080/"
        }
      },
      "outputs": [
        {
          "output_type": "stream",
          "name": "stdout",
          "text": [
            "['crubadan.zip', 'timit', 'cmudict.zip', 'panlex_swadesh.zip', 'floresta', 'cess_esp', 'udhr.zip', 'indian.zip', 'rte', 'state_union.zip', 'jeita.zip', 'sinica_treebank.zip', 'gazetteers.zip', 'gazetteers', 'lin_thesaurus.zip', 'nonbreaking_prefixes.zip', 'words.zip', 'conll2002', 'udhr2.zip', 'brown.zip', 'omw-1.4.zip', 'verbnet', 'knbc.zip', 'wordnet2022', 'verbnet3.zip', 'europarl_raw.zip', 'movie_reviews.zip', 'nps_chat.zip', 'sentence_polarity.zip', 'product_reviews_2', 'biocreative_ppi.zip', 'paradigms', 'verbnet.zip', 'movie_reviews', 'city_database.zip', 'words', 'twitter_samples.zip', 'framenet_v15', 'names.zip', 'treebank', 'genesis', 'wordnet_ic.zip', 'twitter_samples', 'subjectivity', 'problem_reports.zip', 'ycoe', 'kimmo.zip', 'propbank.zip', 'english_wordnet.zip', 'wordnet.zip', 'comparative_sentences.zip', 'senseval.zip', 'sentiwordnet.zip', 'switchboard', 'cess_cat.zip', 'comparative_sentences', 'ieer', 'senseval', 'wordnet2021.zip', 'city_database', 'udhr2', 'webtext.zip', 'nonbreaking_prefixes', 'ptb.zip', 'ppattach.zip', 'lin_thesaurus', 'swadesh', 'unicode_samples.zip', 'product_reviews_2.zip', 'chat80.zip', 'mte_teip5', 'treebank.zip', 'stopwords.zip', 'mac_morpho', 'product_reviews_1', 'qc', 'paradigms.zip', 'dependency_treebank', 'ieer.zip', 'opinion_lexicon', 'smultron.zip', 'abc.zip', 'dependency_treebank.zip', 'dolch.zip', 'wordnet_ic', 'gutenberg.zip', 'pil.zip', 'framenet_v17.zip', 'kimmo', 'indian', 'inaugural', 'pros_cons', 'pe08.zip', 'sinica_treebank', 'brown', 'genesis.zip', 'ycoe.zip', 'ptb', 'toolbox', 'nombank.1.0.zip', 'wordnet31.zip', 'udhr', 'reuters.zip', 'pe08', 'conll2002.zip', 'shakespeare', 'switchboard.zip', 'product_reviews_1.zip', 'toolbox.zip', 'cess_cat', 'stopwords', 'sentence_polarity', 'dolch', 'brown_tei.zip', 'europarl_raw', 'problem_reports', 'subjectivity.zip', 'opinion_lexicon.zip', 'masc_tagged.zip', 'omw.zip', 'pl196x', 'nps_chat', 'brown_tei', 'conll2007.zip', 'extended_omw.zip', 'comtrans.zip', 'wordnet2022.zip', 'semcor.zip', 'conll2000.zip', 'alpino.zip', 'verbnet3', 'abc', 'machado.zip', 'pl196x.zip', 'chat80', 'qc.zip', 'mte_teip5.zip', 'conll2000', 'names', 'bcp47.zip', 'pil', 'shakespeare.zip', 'mac_morpho.zip', 'biocreative_ppi', 'pros_cons.zip', 'inaugural.zip', 'cess_esp.zip', 'floresta.zip', 'swadesh.zip', 'ppattach', 'cmudict', 'sentiwordnet', 'framenet_v15.zip', 'crubadan', 'state_union', 'alpino', 'rte.zip', 'webtext', 'framenet_v17', 'universal_treebanks_v20.zip', 'gutenberg', 'timit.zip', 'english_wordnet', 'unicode_samples', 'smultron']\n"
          ]
        }
      ],
      "source": [
        "import os\n",
        "# listdir- returns a list containing the names of the entries in the directory given by path\n",
        "print(os.listdir(nltk.data.find(\"corpora\")))"
      ]
    },
    {
      "cell_type": "markdown",
      "id": "concerned-casino",
      "metadata": {
        "id": "concerned-casino"
      },
      "source": [
        "So to start with, let's experiment with the USA Presidential inaugural speeches."
      ]
    },
    {
      "cell_type": "code",
      "execution_count": 4,
      "id": "fixed-metropolitan",
      "metadata": {
        "id": "fixed-metropolitan",
        "outputId": "18754bce-35a9-44f4-a8eb-acae740e98be",
        "colab": {
          "base_uri": "https://localhost:8080/"
        }
      },
      "outputs": [
        {
          "output_type": "stream",
          "name": "stdout",
          "text": [
            "['1789-Washington.txt', '1793-Washington.txt', '1797-Adams.txt', '1801-Jefferson.txt', '1805-Jefferson.txt', '1809-Madison.txt', '1813-Madison.txt', '1817-Monroe.txt', '1821-Monroe.txt', '1825-Adams.txt', '1829-Jackson.txt', '1833-Jackson.txt', '1837-VanBuren.txt', '1841-Harrison.txt', '1845-Polk.txt', '1849-Taylor.txt', '1853-Pierce.txt', '1857-Buchanan.txt', '1861-Lincoln.txt', '1865-Lincoln.txt', '1869-Grant.txt', '1873-Grant.txt', '1877-Hayes.txt', '1881-Garfield.txt', '1885-Cleveland.txt', '1889-Harrison.txt', '1893-Cleveland.txt', '1897-McKinley.txt', '1901-McKinley.txt', '1905-Roosevelt.txt', '1909-Taft.txt', '1913-Wilson.txt', '1917-Wilson.txt', '1921-Harding.txt', '1925-Coolidge.txt', '1929-Hoover.txt', '1933-Roosevelt.txt', '1937-Roosevelt.txt', '1941-Roosevelt.txt', '1945-Roosevelt.txt', '1949-Truman.txt', '1953-Eisenhower.txt', '1957-Eisenhower.txt', '1961-Kennedy.txt', '1965-Johnson.txt', '1969-Nixon.txt', '1973-Nixon.txt', '1977-Carter.txt', '1981-Reagan.txt', '1985-Reagan.txt', '1989-Bush.txt', '1993-Clinton.txt', '1997-Clinton.txt', '2001-Bush.txt', '2005-Bush.txt', '2009-Obama.txt', '2013-Obama.txt', '2017-Trump.txt', '2021-Biden.txt', '2025-Trump.txt']\n"
          ]
        }
      ],
      "source": [
        "from nltk.corpus import inaugural\n",
        "#fileids – A list of the files that make up this corpus\n",
        "print(inaugural.fileids())"
      ]
    },
    {
      "cell_type": "markdown",
      "id": "particular-beginning",
      "metadata": {
        "id": "particular-beginning"
      },
      "source": [
        "Lets print Trumps's one!"
      ]
    },
    {
      "cell_type": "code",
      "execution_count": 5,
      "id": "partial-boards",
      "metadata": {
        "id": "partial-boards",
        "outputId": "f3da3f90-711a-4b6d-87b4-5daaac825c9f",
        "colab": {
          "base_uri": "https://localhost:8080/"
        }
      },
      "outputs": [
        {
          "output_type": "stream",
          "name": "stdout",
          "text": [
            "Chief Justice Roberts, President Carter, President Clinton, President Bush, President Obama, fellow Americans, and people of the world: Thank you.\n",
            "\n",
            "We, the citizens of America, are now joined in a great national effort to rebuild our country and restore its promise for all of our people. Together, we will determine the course of America and the world for many, many years to come. We will face challenges, we will confront hardships, but we will get the job done.\n",
            "\n",
            "Every 4 years, we gather on these steps to carry out the orderly and peaceful transfer of power, and we are grateful to President Obama and First Lady Michelle Obama for their gracious aid throughout this transition. They have been magnificent. Thank you.\n",
            "\n",
            "Today's ceremony, however, has very special meaning. Because today we are not merely transferring power from one administration to another or from one party to another, but we are transferring power from Washington, DC, and giving it back to you, the people.\n",
            "\n",
            "For too long, a small group in our Nation's Capital has reaped the rewards of Government while the people have borne the cost. Washington flourished, but the people did not share in its wealth. Politicians prospered, but the jobs left, and the factories closed. The establishment protected itself, but not the citizens of our country. Their victories have not been your victories; their triumphs have not been your triumphs; and while they celebrated in our Nation's Capital, there was little to celebrate for struggling families all across our land.\n",
            "\n",
            "That all changes, starting right here and right now, because this moment is your moment: It belongs to you. It belongs to everyone gathered here today and everyone watching all across America. This is your day. This is your celebration. And this, the United States of America, is your country.\n",
            "\n",
            "What truly matters is not which party controls our Government, but whether our Government is controlled by the people. January 20, 2017, will be remembered as the day the people became the rulers of this Nation again. The forgotten men and women of our country will be forgotten no longer. Everyone is listening to you now.\n",
            "\n",
            "You came by the tens of millions to become part of a historic movement the likes of which the world has never seen before. At the center of this movement is a crucial conviction: that a nation exists to serve its citizens. Americans want great schools for their children, safe neighborhoods for their families, and good jobs for themselves. These are just and reasonable demands of righteous people and a righteous public.\n",
            "\n",
            "But for too many of our citizens, a different reality exists: Mothers and children trapped in poverty in our inner cities; rusted-out factories scattered like tombstones across the landscape of our Nation; an education system, flush with cash, but which leaves our young and beautiful students deprived of all knowledge; and the crime and the gangs and the drugs that have stolen too many lives and robbed our country of so much unrealized potential.\n",
            "\n",
            "This American carnage stops right here and stops right now. We are one Nation, and their pain is our pain, their dreams are our dreams, and their success will be our success. We share one heart, one home, and one glorious destiny.\n",
            "\n",
            "The oath of office I take today is an oath of allegiance to all Americans.\n",
            "\n",
            "For many decades, we've enriched foreign industry at the expense of American industry, subsidized the armies of other countries while allowing for the very sad depletion of our military. We've defended other nations' borders while refusing to defend our own and spent trillions and trillions of dollars overseas while America's infrastructure has fallen into disrepair and decay. We've made other countries rich while the wealth, strength, and confidence of our country has dissipated over the horizon.\n",
            "\n",
            "One by one, the factories shuttered and left our shores, with not even a thought about the millions and millions of American workers that were left behind. The wealth of our middle class has been ripped from their homes and then redistributed all across the world.\n",
            "\n",
            "But that is the past. And now we are looking only to the future.\n",
            "\n",
            "We, assembled here today, are issuing a new decree to be heard in every city, in every foreign capital, and in every hall of power. From this day forward, a new vision will govern our land. From this this day forward, it's going to be only America first. America first.\n",
            "\n",
            "Every decision on trade, on taxes, on immigration, on foreign affairs, will be made to benefit American workers and American families.\n",
            "\n",
            "We must protect our borders from the ravages of other countries making our products, stealing our companies, and destroying our jobs. Protection will lead to great prosperity and strength. I will fight for you with every breath in my body, and I will never, ever let you down.\n",
            "\n",
            "America will start winning again, winning like never before. We will bring back our jobs. We will bring back our borders. We will bring back our wealth. And we will bring back our dreams.\n",
            "\n",
            "We will build new roads and highways and bridges and airports and tunnels and railways all across our wonderful Nation.\n",
            "\n",
            "We will get our people off of welfare and back to work, rebuilding our country with American hands and American labor. We will follow two simple rules: Buy American and hire American.\n",
            "\n",
            "We will seek friendship and good will with the nations of the world, but we do so with the understanding that it is the right of all nations to put their own interests first. We do not seek to impose our way of life on anyone, but rather to let it shine as an exampleâwe will shineâfor everyone to follow.\n",
            "\n",
            "We will reinforce old alliances and form new ones and unite the civilized world against radical Islamic terrorism, which we will eradicate completely from the face of the Earth.\n",
            "\n",
            "At the bedrock of our politics will be a total allegiance to the United States of America, and through our loyalty to our country, we will rediscover our loyalty to each other. When you open your heart to patriotism, there is no room for prejudice. The Bible tells us, \"How good and pleasant it is when God's people live together in unity.\" We must speak our minds openly, debate our disagreements honestly, but always pursue solidarity. When America is united, America is totally unstoppable. There should be no fear: We are protected, and we will always be protected. We will be protected by the great men and women of our military and law enforcement, and most importantly, we will be protected by God.\n",
            "\n",
            "Finally, we must think big and dream even bigger. In America, we understand that a nation is only living as long as it is striving.\n",
            "\n",
            "We will no longer accept politicians who are all talk and no action, constantly complaining, but never doing anything about it. The time for empty talk is over. Now arrives the hour of action.\n",
            "\n",
            "Do not allow anyone to tell you that it cannot be done. No challenge can match the heart and fight and spirit of America. We will not fail. Our country will thrive and prosper again.\n",
            "\n",
            "We stand at the birth of a new millennium, ready to unlock the mysteries of space, to free the Earth from the miseries of disease, and to harness the energies, industries, and technologies of tomorrow. A new national pride will stir our souls, lift our sights, and heal our divisions.\n",
            "\n",
            "It's time to remember that old wisdom our soldiers will never forget: that whether we are Black or Brown or White, we all bleed the same red blood of patriots, we all enjoy the same glorious freedoms, and we all salute the same great American flag.\n",
            "\n",
            "And whether a child is born in the urban sprawl of Detroit or the windswept plains of Nebraska, they look up at the same night sky, they fill their heart with the same dreams, and they are infused with the breath of life by the same almighty Creator.\n",
            "\n",
            "So to all Americans in every city near and far, small and large, from mountain to mountain, from ocean to ocean, hear these words: You will never be ignored again. Your voice, your hopes, and your dreams will define our American destiny. And your courage and goodness and love will forever guide us along the way.\n",
            "\n",
            "Together, we will make America strong again. We will make America wealthy again. We will make America proud again. We will make America safe again.\n",
            "\n",
            "And, yes, together, we will make America great again. Thank you. God bless you, and God bless America. Thank you. God bless America.\n",
            "\n"
          ]
        }
      ],
      "source": [
        "# doc = \"2017-Trump.txt\"\n",
        "# print(inaugural.raw(doc))\n",
        "\n",
        "doc = \"2017-Trump.txt\"\n",
        "print(inaugural.raw(doc))"
      ]
    },
    {
      "cell_type": "markdown",
      "id": "animal-colonial",
      "metadata": {
        "id": "animal-colonial"
      },
      "source": [
        "NLTK corpora gives us all the words and sentences as well as other statistics out of the box."
      ]
    },
    {
      "cell_type": "code",
      "execution_count": 6,
      "id": "bulgarian-memorabilia",
      "metadata": {
        "id": "bulgarian-memorabilia",
        "outputId": "7ec72f0f-5c53-4aa8-e2e8-ef0d6f5fd422",
        "colab": {
          "base_uri": "https://localhost:8080/"
        }
      },
      "outputs": [
        {
          "output_type": "stream",
          "name": "stdout",
          "text": [
            "['Chief', 'Justice', 'Roberts', ',', 'President', ...]\n"
          ]
        }
      ],
      "source": [
        "print(inaugural.words(doc))"
      ]
    },
    {
      "cell_type": "code",
      "execution_count": 9,
      "id": "invalid-convenience",
      "metadata": {
        "id": "invalid-convenience",
        "outputId": "777f0949-098c-4a13-82bf-3fcb772ff2db",
        "colab": {
          "base_uri": "https://localhost:8080/"
        }
      },
      "outputs": [
        {
          "output_type": "stream",
          "name": "stderr",
          "text": [
            "[nltk_data] Downloading package punkt to /root/nltk_data...\n",
            "[nltk_data]   Package punkt is already up-to-date!\n"
          ]
        },
        {
          "output_type": "execute_result",
          "data": {
            "text/plain": [
              "True"
            ]
          },
          "metadata": {},
          "execution_count": 9
        }
      ],
      "source": [
        "#download the punkt is a sentence tokenizer\n",
        "nltk.download(\"punkt\")\n",
        "#We can see its tokenized into sentences here"
      ]
    },
    {
      "cell_type": "code",
      "source": [
        "print(inaugural.sents(doc))"
      ],
      "metadata": {
        "id": "LRYPNTgpn0KQ",
        "outputId": "575e935b-c8a9-43cd-a0b4-50ff62e049d1",
        "colab": {
          "base_uri": "https://localhost:8080/"
        }
      },
      "id": "LRYPNTgpn0KQ",
      "execution_count": 8,
      "outputs": [
        {
          "output_type": "stream",
          "name": "stdout",
          "text": [
            "[['Chief', 'Justice', 'Roberts', ',', 'President', 'Carter', ',', 'President', 'Clinton', ',', 'President', 'Bush', ',', 'President', 'Obama', ',', 'fellow', 'Americans', ',', 'and', 'people', 'of', 'the', 'world', ':', 'Thank', 'you', '.'], ['We', ',', 'the', 'citizens', 'of', 'America', ',', 'are', 'now', 'joined', 'in', 'a', 'great', 'national', 'effort', 'to', 'rebuild', 'our', 'country', 'and', 'restore', 'its', 'promise', 'for', 'all', 'of', 'our', 'people', '.'], ...]\n"
          ]
        }
      ]
    },
    {
      "cell_type": "markdown",
      "id": "characteristic-caribbean",
      "metadata": {
        "id": "characteristic-caribbean"
      },
      "source": [
        "## Challenge 01\n",
        "Given this incomplete function, write the necessary `TODO X` code to let the function return the total number of words and the total number of distinct words, for a given document name in that corpus."
      ]
    },
    {
      "cell_type": "code",
      "execution_count": 15,
      "id": "formal-package",
      "metadata": {
        "id": "formal-package"
      },
      "outputs": [],
      "source": [
        "def calculate_inaugural_stats(doc):\n",
        "    # TODO 1 - Get the pre-tokenised list of words from the inaugural corpus\n",
        "    doc_words = inaugural.words(doc)\n",
        "\n",
        "    # TODO 2 - Calculate the total number of words\n",
        "    num_words = len(doc_words)\n",
        "\n",
        "    # TODO 3 - Calculate the total number of distinct words (vocabulary)\n",
        "    vocab = len(set(doc_words))\n",
        "    return num_words, vocab"
      ]
    },
    {
      "cell_type": "markdown",
      "id": "returning-seller",
      "metadata": {
        "id": "returning-seller"
      },
      "source": [
        "Now let's test it!"
      ]
    },
    {
      "cell_type": "code",
      "execution_count": 16,
      "id": "passing-bride",
      "metadata": {
        "id": "passing-bride",
        "outputId": "9029bd2b-5dbf-4403-9258-2a379a3ce559",
        "colab": {
          "base_uri": "https://localhost:8080/"
        }
      },
      "outputs": [
        {
          "output_type": "stream",
          "name": "stdout",
          "text": [
            "Num words in 2017-Trump.txt: 1693\n",
            "Vocabulary size: 582\n"
          ]
        }
      ],
      "source": [
        "def print_inaugural_stats(speech_name):\n",
        "    tokens, vocab = calculate_inaugural_stats(speech_name)\n",
        "    print(f\"Num words in {speech_name}: {tokens}\")\n",
        "    print(f\"Vocabulary size: {vocab}\")\n",
        "\n",
        "print_inaugural_stats(\"2017-Trump.txt\")"
      ]
    },
    {
      "cell_type": "markdown",
      "id": "divided-while",
      "metadata": {
        "id": "divided-while"
      },
      "source": [
        "Let's compare Trump's speech against Obama's inaugural speech..."
      ]
    },
    {
      "cell_type": "code",
      "execution_count": 17,
      "id": "norman-large",
      "metadata": {
        "id": "norman-large",
        "outputId": "7b908e04-721c-4442-8857-3074de4af2ca",
        "colab": {
          "base_uri": "https://localhost:8080/"
        }
      },
      "outputs": [
        {
          "output_type": "stream",
          "name": "stdout",
          "text": [
            "Num words in 2009-Obama.txt: 2726\n",
            "Vocabulary size: 938\n"
          ]
        }
      ],
      "source": [
        "print_inaugural_stats(\"2009-Obama.txt\")"
      ]
    },
    {
      "cell_type": "markdown",
      "id": "educational-liberal",
      "metadata": {
        "id": "educational-liberal"
      },
      "source": [
        "## Challenge 02\n",
        "Complete the missing code (`TODO X`) in the function to calculate the average word length (i.e. number of characters per word) of a given document."
      ]
    },
    {
      "cell_type": "code",
      "execution_count": 18,
      "id": "suspended-superintendent",
      "metadata": {
        "id": "suspended-superintendent"
      },
      "outputs": [],
      "source": [
        "def calculate_inaugural_word_stats(doc):\n",
        "    doc_words = inaugural.words(doc)\n",
        "\n",
        "    # TODO 1 - Construct a list that contains the word lengths for each DISTINCT word in the document\n",
        "    vocab_lengths = [len(word) for word in set(doc_words)]\n",
        "\n",
        "    # TODO 2 - Find the average word type length\n",
        "    avg_vocab_length = sum(vocab_lengths) / len(vocab_lengths)\n",
        "\n",
        "    return avg_vocab_length"
      ]
    },
    {
      "cell_type": "markdown",
      "id": "hollywood-salem",
      "metadata": {
        "id": "hollywood-salem"
      },
      "source": [
        "Let's try it!"
      ]
    },
    {
      "cell_type": "code",
      "execution_count": 19,
      "id": "planned-mainstream",
      "metadata": {
        "id": "planned-mainstream",
        "outputId": "8200ab1b-140c-48cf-e368-1b1a77beeb83",
        "colab": {
          "base_uri": "https://localhost:8080/"
        }
      },
      "outputs": [
        {
          "output_type": "stream",
          "name": "stdout",
          "text": [
            "Average word length for 2017-Trump.txt: 5.86 characters long\n"
          ]
        }
      ],
      "source": [
        "speech_name = \"2017-Trump.txt\"\n",
        "avg_length = calculate_inaugural_word_stats(speech_name)\n",
        "print(f\"Average word length for {speech_name}: {avg_length:.2f} characters long\")"
      ]
    },
    {
      "cell_type": "markdown",
      "id": "blond-melissa",
      "metadata": {
        "id": "blond-melissa"
      },
      "source": [
        "Now it will be interesting to look at the word distribution and see how the last two USA Presidents compare. NLTK again has a nice class with functions for that, `FreqDist`!"
      ]
    },
    {
      "cell_type": "code",
      "execution_count": 20,
      "id": "breathing-equation",
      "metadata": {
        "id": "breathing-equation",
        "outputId": "b1588907-8953-452d-de45-bdb53be90119",
        "colab": {
          "base_uri": "https://localhost:8080/"
        }
      },
      "outputs": [
        {
          "output_type": "stream",
          "name": "stdout",
          "text": [
            "\n",
            "OBAMA\n",
            " [('the', 135), (',', 130), ('and', 111), ('.', 108), ('of', 82), ('to', 70), ('our', 67), ('we', 62), ('that', 49), ('a', 47), ('is', 36), ('in', 25), ('this', 24), ('us', 23), ('for', 23), ('are', 22), (';', 22), ('--', 22), ('but', 20), ('it', 19), ('will', 19), ('on', 17), ('they', 17), ('have', 16), ('not', 16), ('you', 14), ('has', 14), ('who', 14), ('with', 13), (\"'\", 13), ('can', 13), ('nation', 12), ('be', 12), ('s', 12), ('as', 11), ('or', 11), ('those', 11), ('new', 11), ('america', 10), ('their', 10), ('-', 9), ('so', 9), ('these', 9), ('all', 9), ('by', 8), ('been', 8), ('every', 8), ('at', 8), ('because', 8), ('must', 8)]\n",
            "\n",
            "TRUMP\n",
            " [(',', 106), ('.', 89), ('and', 76), ('the', 71), ('we', 50), ('of', 48), ('our', 48), ('will', 43), ('to', 37), ('america', 20), ('is', 20), ('a', 15), ('for', 15), ('you', 14), ('in', 14), ('all', 14), ('are', 13), ('but', 13), ('be', 13), ('their', 11), ('this', 11), (\"'\", 11), ('from', 11), ('it', 11), ('your', 11), ('american', 11), ('people', 10), ('not', 10), ('that', 10), ('country', 9), ('again', 9), (':', 8), ('one', 8), ('nation', 8), ('with', 8), ('every', 7), ('s', 7), ('world', 6), ('now', 6), ('great', 6), ('on', 6), ('has', 6), ('back', 6), ('while', 6), ('by', 6), ('no', 6), ('never', 6), ('new', 6), ('same', 6), ('president', 5)]\n"
          ]
        }
      ],
      "source": [
        "from nltk import FreqDist\n",
        "\n",
        "obama_words = inaugural.words(\"2009-Obama.txt\")\n",
        "trump_words = inaugural.words(\"2017-Trump.txt\")\n",
        "\n",
        "# Construct a frequency distribution over the lowercased words in the document\n",
        "fd_obama = FreqDist(w.lower() for w in obama_words)\n",
        "# Find the top 50 most frequently used words in the speech\n",
        "print(\"\\nOBAMA\\n\", fd_obama.most_common(50))\n",
        "\n",
        "# Construct a frequency distribution over the lowercased words in the document\n",
        "fd_trump = FreqDist(w.lower() for w in trump_words)\n",
        "# Find the top 50 most frequently used words in the speech\n",
        "print(\"\\nTRUMP\\n\", fd_trump.most_common(50))"
      ]
    },
    {
      "cell_type": "markdown",
      "id": "crude-trouble",
      "metadata": {
        "id": "crude-trouble"
      },
      "source": [
        "As you might have expected... popular words in Trump's speech are: `will`, `america`, `american`, `people`, `country`, `again`... :-)\n",
        "\n",
        "Now let's plot the distributions!"
      ]
    },
    {
      "cell_type": "code",
      "execution_count": 21,
      "id": "pediatric-domestic",
      "metadata": {
        "id": "pediatric-domestic",
        "outputId": "2b3c22cf-b558-461c-917a-4045910b0db6",
        "colab": {
          "base_uri": "https://localhost:8080/",
          "height": 520
        }
      },
      "outputs": [
        {
          "output_type": "execute_result",
          "data": {
            "text/plain": [
              "<Axes: xlabel='Samples', ylabel='Counts'>"
            ]
          },
          "metadata": {},
          "execution_count": 21
        },
        {
          "output_type": "display_data",
          "data": {
            "text/plain": [
              "<Figure size 640x480 with 1 Axes>"
            ],
            "image/png": "[encoded data removed]"
          },
          "metadata": {}
        }
      ],
      "source": [
        "fd_obama.plot(50)\n",
        "fd_trump.plot(50)"
      ]
    },
    {
      "cell_type": "markdown",
      "id": "endangered-painting",
      "metadata": {
        "id": "endangered-painting"
      },
      "source": [
        "Those distributions are \"normal\" and most documents or corpora will follow a very similar curve.\n",
        "\n",
        "Let's compare some word frequencies now between the two Presidents"
      ]
    },
    {
      "cell_type": "code",
      "execution_count": 22,
      "id": "honey-strip",
      "metadata": {
        "id": "honey-strip",
        "outputId": "241cd695-d165-40f6-e2d5-331a96b1e049",
        "colab": {
          "base_uri": "https://localhost:8080/"
        }
      },
      "outputs": [
        {
          "output_type": "stream",
          "name": "stdout",
          "text": [
            "Obama -> peace: 4 - america: 10\n",
            "Trump -> peace: 0 - america: 20\n"
          ]
        }
      ],
      "source": [
        "print(f\"Obama -> peace: {fd_obama['peace']} - america: {fd_obama['america']}\")\n",
        "print(f\"Trump -> peace: {fd_trump['peace']} - america: {fd_trump['america']}\")"
      ]
    },
    {
      "cell_type": "markdown",
      "id": "opponent-scholar",
      "metadata": {
        "id": "opponent-scholar"
      },
      "source": [
        "## Challenge 03\n",
        "Let's try to build a similar function that calculates the top most frequent words in a document, but using the `Counter` class that we used in the previous lab. Complete the `TODO X` sections."
      ]
    },
    {
      "cell_type": "code",
      "execution_count": 23,
      "id": "brown-defense",
      "metadata": {
        "id": "brown-defense"
      },
      "outputs": [],
      "source": [
        "from collections import Counter\n",
        "\n",
        "def get_top_freq(doc, k=50):\n",
        "    doc_words = inaugural.words(doc)\n",
        "\n",
        "    # TODO 1 - Construct a frequency distribution over the words in the document, ensuring all words are lowercase\n",
        "    fd_doc_words = Counter([word.lower() for word in doc_words])\n",
        "\n",
        "    # TODO 2 - Find the top x most frequently used words in the document\n",
        "    top_words = fd_doc_words.most_common(k)\n",
        "\n",
        "    return top_words"
      ]
    },
    {
      "cell_type": "markdown",
      "id": "cultural-market",
      "metadata": {
        "id": "cultural-market"
      },
      "source": [
        "Now let's test it!"
      ]
    },
    {
      "cell_type": "code",
      "execution_count": 24,
      "id": "reduced-authentication",
      "metadata": {
        "id": "reduced-authentication",
        "outputId": "9016f660-9a13-4b48-eb97-da47c4251878",
        "colab": {
          "base_uri": "https://localhost:8080/"
        }
      },
      "outputs": [
        {
          "output_type": "stream",
          "name": "stdout",
          "text": [
            "Top 50 words for Trump's 2017 speech:\n",
            "[(',', 106), ('.', 89), ('and', 76), ('the', 71), ('we', 50), ('of', 48), ('our', 48), ('will', 43), ('to', 37), ('america', 20), ('is', 20), ('a', 15), ('for', 15), ('you', 14), ('in', 14), ('all', 14), ('are', 13), ('but', 13), ('be', 13), ('their', 11), ('this', 11), (\"'\", 11), ('from', 11), ('it', 11), ('your', 11), ('american', 11), ('people', 10), ('not', 10), ('that', 10), ('country', 9), ('again', 9), (':', 8), ('one', 8), ('nation', 8), ('with', 8), ('every', 7), ('s', 7), ('world', 6), ('now', 6), ('great', 6), ('on', 6), ('has', 6), ('back', 6), ('while', 6), ('by', 6), ('no', 6), ('never', 6), ('new', 6), ('same', 6), ('president', 5)]\n"
          ]
        }
      ],
      "source": [
        "print(f\"Top 50 words for Trump's 2017 speech:\\n{get_top_freq('2017-Trump.txt')}\")"
      ]
    },
    {
      "cell_type": "markdown",
      "id": "common-slide",
      "metadata": {
        "id": "common-slide"
      },
      "source": [
        "## Challenge 04\n",
        "Now let's try to build a TFIDF feature vector!\n",
        "\n",
        "The first thing is to calculate the Term Frequency (TF).\n",
        "\n",
        "There are different ways to calculate the Term Frequency. Try to implement the formula $tf_{t,d}=\\frac{count(t,d)}{count(d)}$ that we used before in the lecture. Complete the `TODO X` section."
      ]
    },
    {
      "cell_type": "code",
      "execution_count": 25,
      "id": "challenging-chinese",
      "metadata": {
        "id": "challenging-chinese"
      },
      "outputs": [],
      "source": [
        "def calculate_tf(token_count, bow):\n",
        "    tf = {} #creates an empty dictionary where key,value pair is stored\n",
        "    num_bow = len(bow)\n",
        "\n",
        "    for token, count in token_count.items():\n",
        "        # TODO - Calculate the term frequency using the formula:\n",
        "        # \"count of term in the document\" / \"total number of words in the document\"\n",
        "        tf[token] = count / float(num_bow)\n",
        "\n",
        "\n",
        "    return tf"
      ]
    },
    {
      "cell_type": "markdown",
      "id": "recovered-quest",
      "metadata": {
        "id": "recovered-quest"
      },
      "source": [
        "Let's try it!"
      ]
    },
    {
      "cell_type": "code",
      "execution_count": 26,
      "id": "invisible-found",
      "metadata": {
        "id": "invisible-found"
      },
      "outputs": [],
      "source": [
        "tokens_01 = inaugural.words(\"2017-Trump.txt\")\n",
        "tokens_02 = inaugural.words(\"2009-Obama.txt\")\n",
        "vocab = set(tokens_01).union(set(tokens_02))\n",
        "\n",
        "def _get_tf(tokens, vocab):\n",
        "    token_count = dict.fromkeys(vocab, 0)\n",
        "    for token in tokens:\n",
        "        token_count[token] += 1\n",
        "    return calculate_tf(token_count, tokens)\n",
        "\n",
        "tf_01 = _get_tf(tokens_01, vocab)\n",
        "tf_02 = _get_tf(tokens_02, vocab)\n"
      ]
    },
    {
      "cell_type": "code",
      "source": [
        "print(f\"Trump: {tf_01}\")\n",
        "print(f\"\\nObama: {tf_02}\")"
      ],
      "metadata": {
        "id": "Uq_Og2z7wnrs",
        "outputId": "39f0fa20-ebd3-4f99-ce29-f5d2fe28fde2",
        "colab": {
          "base_uri": "https://localhost:8080/"
        }
      },
      "id": "Uq_Og2z7wnrs",
      "execution_count": 27,
      "outputs": [
        {
          "output_type": "stream",
          "name": "stdout",
          "text": [
            "Trump: {'Gross': 0.0, 'communism': 0.0, 'unstoppable': 0.0005906674542232723, 'gift': 0.0, 'know': 0.0, 'decisions': 0.0, 'hatreds': 0.0, 'bold': 0.0, 'bestowed': 0.0, 'poor': 0.0, 'falter': 0.0, 'affairs': 0.0005906674542232723, 'transfer': 0.0005906674542232723, 'do': 0.0011813349084465446, 'remained': 0.0, 'storms': 0.0, 'ones': 0.0005906674542232723, 'required': 0.0, 'celebrated': 0.0005906674542232723, 'programs': 0.0, 'Our': 0.0005906674542232723, 'unlock': 0.0005906674542232723, 'still': 0.0, 'For': 0.0011813349084465446, 'conviction': 0.0005906674542232723, 'demanded': 0.0, 'ask': 0.0, 'rulers': 0.0005906674542232723, 'trade': 0.0005906674542232723, 'law': 0.0005906674542232723, 'judge': 0.0, 'ripped': 0.0005906674542232723, 'rising': 0.0, 'shaped': 0.0, 'Carter': 0.0005906674542232723, 'horizon': 0.0005906674542232723, 'whose': 0.0, 'language': 0.0, 'pledge': 0.0, 'wonderful': 0.0005906674542232723, '...': 0.0, 'inevitable': 0.0, 'struggled': 0.0, 'striving': 0.0005906674542232723, 'ravages': 0.0005906674542232723, 'join': 0.0, 'globe': 0.0, 'Scripture': 0.0, 'peaceful': 0.0005906674542232723, 'strength': 0.0011813349084465446, 'growth': 0.0, 'truly': 0.0005906674542232723, 'safe': 0.0011813349084465446, 'God': 0.0029533372711163615, 'fill': 0.0005906674542232723, 'of': 0.02835203780271707, 'With': 0.0, 'action': 0.0011813349084465446, 'stealing': 0.0005906674542232723, 'segregation': 0.0, 'think': 0.0005906674542232723, 'heritage': 0.0, 'purpose': 0.0, 'badly': 0.0, 'society': 0.0, 'must': 0.0017720023626698169, 'birth': 0.0005906674542232723, 'Obama': 0.0017720023626698169, 'Nebraska': 0.0005906674542232723, 'Domestic': 0.0, 'restaurant': 0.0, 'did': 0.0005906674542232723, 'greed': 0.0, 'politicians': 0.0005906674542232723, 'force': 0.0, 'fight': 0.0011813349084465446, 'humble': 0.0, '!': 0.0, 'deserve': 0.0, '.': 0.052569403425871235, 'Protection': 0.0005906674542232723, 'which': 0.002362669816893089, 'Let': 0.0, 'President': 0.0029533372711163615, 'beneath': 0.0, 'nurture': 0.0, 'Government': 0.0017720023626698169, 'A': 0.0005906674542232723, 'body': 0.0005906674542232723, 'defining': 0.0, 'forth': 0.0, 'its': 0.0017720023626698169, 'transform': 0.0, 'very': 0.0011813349084465446, 'only': 0.0017720023626698169, 'wisdom': 0.0005906674542232723, 'sum': 0.0, 'look': 0.0005906674542232723, 'read': 0.0, 'My': 0.0, 'indicators': 0.0, 'spirit': 0.0005906674542232723, 'meet': 0.0, 'changed': 0.0, 'end': 0.0, 'equal': 0.0, 'undiminished': 0.0, 'little': 0.0005906674542232723, 'vital': 0.0, 'ceremony': 0.0005906674542232723, 'govern': 0.0005906674542232723, 'reality': 0.0005906674542232723, 'proud': 0.0005906674542232723, 'lose': 0.0, 'words': 0.0005906674542232723, 'fear': 0.0005906674542232723, 'principles': 0.0, 'conflict': 0.0, 'said': 0.0, 'rewards': 0.0005906674542232723, 'pass': 0.0, 'advance': 0.0, 'next': 0.0, 'divisions': 0.0005906674542232723, 'instruments': 0.0, 'likes': 0.0005906674542232723, 'Rather': 0.0, 'create': 0.0, 'bodies': 0.0, 'people': 0.005906674542232723, 'with': 0.004725339633786178, 'nuclear': 0.0, 'upon': 0.0, 'statistics': 0.0, 'gracious': 0.0005906674542232723, 'something': 0.0, 'relies': 0.0, 'homes': 0.0005906674542232723, 'Buy': 0.0005906674542232723, 'loyalty': 0.0011813349084465446, 'In': 0.0005906674542232723, 'subsidized': 0.0005906674542232723, 'harness': 0.0005906674542232723, 'set': 0.0, 'calls': 0.0, 'necessity': 0.0, 'movement': 0.0011813349084465446, 'new': 0.0035440047253396337, 'Starting': 0.0, 'starved': 0.0, 'ours': 0.0, 'ground': 0.0, 'I': 0.0017720023626698169, 'thrive': 0.0005906674542232723, 'heal': 0.0005906674542232723, 'Because': 0.0005906674542232723, 'closed': 0.0005906674542232723, 'Justice': 0.0005906674542232723, 'willingness': 0.0, 'already': 0.0, 'wisely': 0.0, 'it': 0.004725339633786178, 'suffering': 0.0, 'day': 0.002362669816893089, 'bring': 0.002362669816893089, 'dignified': 0.0, 'technologies': 0.0005906674542232723, 'chosen': 0.0, 'whip': 0.0, 'want': 0.0005906674542232723, 'presidential': 0.0, 'capital': 0.0005906674542232723, ';': 0.0029533372711163615, 'inhabit': 0.0, 'At': 0.0011813349084465446, 'reform': 0.0, 'honor': 0.0, 'When': 0.0011813349084465446, 'sights': 0.0005906674542232723, 'threats': 0.0, 'totally': 0.0005906674542232723, \"'\": 0.006497341996455995, 'planet': 0.0, 'January': 0.0005906674542232723, 'riches': 0.0, 'tested': 0.0, 'As': 0.0, 'redistributed': 0.0005906674542232723, 'depth': 0.0, 'room': 0.0005906674542232723, 'forget': 0.0005906674542232723, 'On': 0.0, 'have': 0.0029533372711163615, 'everyone': 0.0017720023626698169, 'emanates': 0.0, 'Michelle': 0.0005906674542232723, 'forge': 0.0, 'honestly': 0.0005906674542232723, 'embody': 0.0, 'Fathers': 0.0, 'taken': 0.0, 'fought': 0.0, 'bind': 0.0, 'he': 0.0, 'red': 0.0005906674542232723, 'party': 0.0011813349084465446, 'services': 0.0, 'gangs': 0.0005906674542232723, 'race': 0.0, 'spoken': 0.0, 'But': 0.0011813349084465446, 'local': 0.0, 'refused': 0.0, 'up': 0.0005906674542232723, 'surest': 0.0, 'storm': 0.0, 'kindness': 0.0, 'prosper': 0.0005906674542232723, 'Its': 0.0, 'To': 0.0, 'poverty': 0.0005906674542232723, 'earlier': 0.0, 'service': 0.0, 'threat': 0.0, 'between': 0.0, 'middle': 0.0005906674542232723, 'former': 0.0, 'year': 0.0, 'world': 0.0035440047253396337, 'electric': 0.0, 'generations': 0.0, 'wealthy': 0.0005906674542232723, 'safely': 0.0, 'spin': 0.0, 'perils': 0.0, 'real': 0.0, 'eradicate': 0.0005906674542232723, 'making': 0.0005906674542232723, 'celebration': 0.0005906674542232723, 'flourish': 0.0, 'salute': 0.0005906674542232723, 'impose': 0.0005906674542232723, 'more': 0.0, 'remembered': 0.0005906674542232723, 'success': 0.0011813349084465446, 'needed': 0.0, 'village': 0.0, 'grows': 0.0, 'robbed': 0.0005906674542232723, 'here': 0.002362669816893089, 'hardship': 0.0, 'sake': 0.0, 'choice': 0.0, 'alone': 0.0, 'wrong': 0.0, 'served': 0.0, 'snow': 0.0, 'watchful': 0.0, 'vision': 0.0005906674542232723, 'flag': 0.0005906674542232723, 'same': 0.0035440047253396337, 'fist': 0.0, 'satisfying': 0.0, 'chance': 0.0, 'Nor': 0.0, 'Lady': 0.0005906674542232723, 'down': 0.0005906674542232723, 'way': 0.0011813349084465446, 'things': 0.0, 'does': 0.0, 'hand': 0.0, 'unfolds': 0.0, 'these': 0.0011813349084465446, 'farms': 0.0, 'charity': 0.0, 'meaning': 0.0005906674542232723, 'Normandy': 0.0, 'living': 0.0005906674542232723, 'landscape': 0.0005906674542232723, 'brave': 0.0, 'small': 0.0011813349084465446, 'act': 0.0, 'left': 0.0017720023626698169, 'run': 0.0, 'measure': 0.0, 'infused': 0.0005906674542232723, 'cooperation': 0.0, 'White': 0.0005906674542232723, 'justness': 0.0, 'large': 0.0005906674542232723, 'What': 0.0005906674542232723, 'across': 0.0029533372711163615, 'greatness': 0.0, 'That': 0.0005906674542232723, 'urban': 0.0005906674542232723, 'leaders': 0.0, 'total': 0.0005906674542232723, 'outcome': 0.0, 'weakness': 0.0, 'inner': 0.0005906674542232723, 'reject': 0.0, 'beautiful': 0.0005906674542232723, 'demands': 0.0005906674542232723, 'Clinton': 0.0005906674542232723, 'voice': 0.0005906674542232723, 'Guided': 0.0, 'than': 0.0, 'controlled': 0.0005906674542232723, 'mall': 0.0, 'eyes': 0.0, 'leaves': 0.0005906674542232723, 'country': 0.005316007088009451, 'costly': 0.0, 'decision': 0.0005906674542232723, 'died': 0.0, 'Time': 0.0, 'Americans': 0.002362669816893089, 'back': 0.0035440047253396337, 'military': 0.0011813349084465446, 'remains': 0.0, 'regard': 0.0, 'disease': 0.0005906674542232723, 'worked': 0.0, 'stolen': 0.0005906674542232723, 'along': 0.0005906674542232723, 'us': 0.0011813349084465446, 'commerce': 0.0, 'war': 0.0, 'putting': 0.0, 'itself': 0.0005906674542232723, 'full': 0.0, 'oath': 0.0011813349084465446, 'companies': 0.0005906674542232723, 'allowing': 0.0005906674542232723, 'each': 0.0005906674542232723, 'triumphs': 0.0011813349084465446, 'They': 0.0005906674542232723, 'yet': 0.0, 'violence': 0.0, 'forever': 0.0005906674542232723, 'shall': 0.0, 'everywhere': 0.0, 'products': 0.0005906674542232723, 'against': 0.0005906674542232723, 'shineâ': 0.0005906674542232723, 'advancing': 0.0, 'habits': 0.0, 'flow': 0.0, 'old': 0.0011813349084465446, 'alliances': 0.0005906674542232723, 'gather': 0.0005906674542232723, 'overseas': 0.0005906674542232723, '--': 0.0, 'their': 0.005906674542232723, 'culture': 0.0, 'retirement': 0.0, 'disagreements': 0.0005906674542232723, 'starting': 0.0005906674542232723, 'exampleâ': 0.0005906674542232723, 'bleed': 0.0005906674542232723, 'lie': 0.0, 'interests': 0.0005906674542232723, 'subject': 0.0, 'account': 0.0, 'ancestors': 0.0, 'life': 0.0011813349084465446, 'week': 0.0, 'tells': 0.0005906674542232723, 'entitle': 0.0, 'helps': 0.0, 'decay': 0.0005906674542232723, 'young': 0.0005906674542232723, 'four': 0.0, 'longer': 0.0011813349084465446, 'tolerate': 0.0, 'hope': 0.0, 'fail': 0.0005906674542232723, 'should': 0.0005906674542232723, 'as': 0.002362669816893089, 'play': 0.0, 'sacred': 0.0, 'American': 0.006497341996455995, 'distant': 0.0, 'fate': 0.0, 'humility': 0.0, 'behind': 0.0005906674542232723, 'businesses': 0.0, 'favors': 0.0, 'Black': 0.0005906674542232723, 'business': 0.0, 'miseries': 0.0005906674542232723, 'watching': 0.0005906674542232723, 'prepare': 0.0, 'talk': 0.0011813349084465446, 'accept': 0.0005906674542232723, 'reaffirming': 0.0, 'And': 0.0035440047253396337, 'seek': 0.0011813349084465446, 'science': 0.0, 'determine': 0.0005906674542232723, 'constantly': 0.0005906674542232723, 'take': 0.0005906674542232723, 'father': 0.0, 'Arlington': 0.0, 'has': 0.0035440047253396337, 'hearted': 0.0, 'trust': 0.0, 'change': 0.0, 'false': 0.0, 'remain': 0.0, 'ability': 0.0, 'silencing': 0.0, 'ambitions': 0.0, 'public': 0.0005906674542232723, 'fallen': 0.0005906674542232723, 'hard': 0.0, 'friend': 0.0, 'given': 0.0, 'roll': 0.0, 'market': 0.0, 'national': 0.0011813349084465446, 'place': 0.0, 'rugged': 0.0, 'hall': 0.0005906674542232723, 'establishment': 0.0005906674542232723, 'winning': 0.0011813349084465446, 'knowledge': 0.0005906674542232723, 'faith': 0.0, 'dollars': 0.0005906674542232723, 'dying': 0.0, 'How': 0.0005906674542232723, 'roads': 0.0005906674542232723, 'unmatched': 0.0, 'legacy': 0.0, 'understand': 0.0005906674542232723, 'freedoms': 0.0005906674542232723, 'failure': 0.0, 'made': 0.0011813349084465446, 'guardians': 0.0, 'good': 0.0017720023626698169, 'outside': 0.0, 'form': 0.0005906674542232723, 'narrow': 0.0, 'heroes': 0.0, 'rules': 0.0005906674542232723, 'unclench': 0.0, 'easily': 0.0, 'qualities': 0.0, 'lower': 0.0, 'one': 0.004134672179562906, 'two': 0.0005906674542232723, 'ill': 0.0, 'packed': 0.0, 'winds': 0.0, 'safety': 0.0, 'West': 0.0, 'goods': 0.0, 'traveled': 0.0, 'belongs': 0.0011813349084465446, 'lay': 0.0, 'listening': 0.0005906674542232723, 'relative': 0.0, 'Detroit': 0.0005906674542232723, 'search': 0.0, 'use': 0.0, 'endured': 0.0, 'great': 0.0035440047253396337, 'dust': 0.0, 'an': 0.0017720023626698169, 'hours': 0.0, 'noble': 0.0, 'forbearers': 0.0, 'works': 0.0, 'his': 0.0, 'People': 0.0, 'cities': 0.0005906674542232723, 'understood': 0.0, 'cost': 0.0005906674542232723, 'will': 0.025398700531600708, 'Concord': 0.0, 'convictions': 0.0, 'determination': 0.0, 'seeks': 0.0, 'continue': 0.0, 'path': 0.0, 'generation': 0.0, 'a': 0.008269344359125812, 'Homes': 0.0, 'historic': 0.0005906674542232723, 'held': 0.0, 'by': 0.0035440047253396337, 'choices': 0.0, 'allow': 0.0005906674542232723, 'night': 0.0005906674542232723, 'energies': 0.0005906674542232723, 'virtue': 0.0, 'protecting': 0.0, 'grudgingly': 0.0, 'group': 0.0005906674542232723, 'and': 0.04134672179562906, 'another': 0.0011813349084465446, 'radical': 0.0005906674542232723, 'Recall': 0.0, 'doers': 0.0, 'slaughtering': 0.0, 'child': 0.0005906674542232723, 'let': 0.0011813349084465446, 'rather': 0.0005906674542232723, 'achieve': 0.0, 'tempering': 0.0, 'men': 0.0011813349084465446, 'warming': 0.0, 'evidence': 0.0, 'duties': 0.0, 'rediscover': 0.0005906674542232723, 'hands': 0.0005906674542232723, 'river': 0.0, 'what': 0.0, 'consumed': 0.0, 'road': 0.0, 'mindful': 0.0, 'industries': 0.0005906674542232723, 'cars': 0.0, 'tomorrow': 0.0005906674542232723, 'terror': 0.0, 'arrives': 0.0005906674542232723, 'interest': 0.0, 'prudent': 0.0, 'orderly': 0.0005906674542232723, 'rule': 0.0, 'history': 0.0, 'serious': 0.0, 'reaffirm': 0.0, 'sapping': 0.0, 'again': 0.005316007088009451, 'that': 0.005316007088009451, 'would': 0.0, 'crisis': 0.0, 'tombstones': 0.0005906674542232723, 'possessions': 0.0, 'often': 0.0, 'course': 0.0005906674542232723, 'follow': 0.0011813349084465446, 'hour': 0.0005906674542232723, 'into': 0.0005906674542232723, 'intend': 0.0, 'give': 0.0, 'band': 0.0, 'foreign': 0.0017720023626698169, 'aid': 0.0005906674542232723, 'energy': 0.0, 'profound': 0.0, 'empty': 0.0005906674542232723, 'giving': 0.0005906674542232723, 'measurable': 0.0, 'love': 0.0005906674542232723, 'DC': 0.0005906674542232723, 'takers': 0.0, ':': 0.004725339633786178, 'without': 0.0, 'destiny': 0.0011813349084465446, 'standing': 0.0, 'economy': 0.0, 'openly': 0.0005906674542232723, 'came': 0.0005906674542232723, 'precious': 0.0, 'depletion': 0.0005906674542232723, 'apply': 0.0, 'Christians': 0.0, 'defended': 0.0005906674542232723, 'ways': 0.0, 'Finally': 0.0005906674542232723, 'corruption': 0.0, 'to': 0.021854695806261076, 'gladly': 0.0, 'most': 0.0005906674542232723, 'years': 0.0011813349084465446, 'free': 0.0005906674542232723, 'consequence': 0.0, 'worldly': 0.0, 'spend': 0.0, 'so': 0.0011813349084465446, 'help': 0.0, 'saw': 0.0, 'workers': 0.0011813349084465446, 'crime': 0.0005906674542232723, 'different': 0.0005906674542232723, 'humbled': 0.0, 'pursue': 0.0005906674542232723, 'done': 0.0011813349084465446, 'powerful': 0.0, 'generate': 0.0, 'specter': 0.0, 'indifference': 0.0, 'nothing': 0.0, 'responsibly': 0.0, 'pat': 0.0, 'complaining': 0.0005906674542232723, 'whisper': 0.0, 'high': 0.0, 'tens': 0.0005906674542232723, 'share': 0.0011813349084465446, 'looking': 0.0005906674542232723, 'land': 0.0011813349084465446, 'stand': 0.0005906674542232723, 'Together': 0.0011813349084465446, 'move': 0.0, 'there': 0.0011813349084465446, 'neighborhoods': 0.0005906674542232723, 'government': 0.0, 'no': 0.0029533372711163615, 'curiosity': 0.0, 'uncertain': 0.0, 'cling': 0.0, 'consume': 0.0, 'factories': 0.0017720023626698169, 'breath': 0.0011813349084465446, 'colleges': 0.0, 'expanded': 0.0, 'stairway': 0.0, 'icy': 0.0, 'them': 0.0, 'feed': 0.0, 'Brown': 0.0005906674542232723, 'choose': 0.0, 'sacrifices': 0.0, 'peoples': 0.0, 'tanks': 0.0, 'Less': 0.0, 'Roberts': 0.0005906674542232723, 'hire': 0.0005906674542232723, 'center': 0.0005906674542232723, 'waver': 0.0, 'technology': 0.0, 'defend': 0.0005906674542232723, 'we': 0.014176018901358535, 'soil': 0.0, 'big': 0.0005906674542232723, 'inducing': 0.0, 'swift': 0.0, 'minds': 0.0005906674542232723, 'aside': 0.0, 'dreams': 0.0029533372711163615, 'There': 0.0005906674542232723, 'guide': 0.0005906674542232723, 'lost': 0.0, 'far': 0.0005906674542232723, 'character': 0.0, 'sun': 0.0, 'Thank': 0.002362669816893089, 'size': 0.0, 'ushering': 0.0, 'serve': 0.0005906674542232723, 'flourished': 0.0005906674542232723, 'Sahn': 0.0, 'civilized': 0.0005906674542232723, 'memories': 0.0, 'documents': 0.0, 'just': 0.0005906674542232723, 'always': 0.0011813349084465446, 'open': 0.0005906674542232723, 'nagging': 0.0, 'anything': 0.0005906674542232723, 'or': 0.002362669816893089, 'Instead': 0.0, 'not': 0.005906674542232723, 'makers': 0.0, 'throughout': 0.0005906674542232723, 'get': 0.0011813349084465446, 'grandest': 0.0, '20': 0.0005906674542232723, 'children': 0.0011813349084465446, 'security': 0.0, 'welfare': 0.0005906674542232723, 'rebuild': 0.0005906674542232723, 'tides': 0.0, 'through': 0.0005906674542232723, 'depended': 0.0, 'lash': 0.0, 'tasted': 0.0, 'fair': 0.0, 'dissolve': 0.0, 'Everyone': 0.0005906674542232723, 'scattered': 0.0005906674542232723, 'Iraq': 0.0, 'protect': 0.0005906674542232723, 'missiles': 0.0, 'restore': 0.0005906674542232723, 'became': 0.0005906674542232723, 'system': 0.0005906674542232723, 'tell': 0.0005906674542232723, 'tirelessly': 0.0, 'finally': 0.0, 'faint': 0.0, 'emerged': 0.0, 'airports': 0.0005906674542232723, 'These': 0.0005906674542232723, 'controls': 0.0005906674542232723, 'leisure': 0.0, 'States': 0.0011813349084465446, 'resources': 0.0, 'midst': 0.0, 'other': 0.0029533372711163615, 'cannot': 0.0005906674542232723, 'ultimately': 0.0, 'assembled': 0.0005906674542232723, 'education': 0.0005906674542232723, 'answer': 0.0, 'nations': 0.0017720023626698169, 'also': 0.0, 'now': 0.0029533372711163615, 'Gettysburg': 0.0, 'issuing': 0.0005906674542232723, 'defense': 0.0, 'rights': 0.0, 'were': 0.0005906674542232723, 'Product': 0.0, 'pick': 0.0, 'apologize': 0.0, 'arguments': 0.0, 'ignored': 0.0005906674542232723, 'reveal': 0.0, 'grace': 0.0, 'transition': 0.0005906674542232723, 'eye': 0.0, 'peace': 0.0, 'selflessness': 0.0, 'ideals': 0.0, 'alongside': 0.0, 'shifted': 0.0, 'pleasures': 0.0, 'productive': 0.0, 'drawn': 0.0, 'grievances': 0.0, 'political': 0.0, 'unite': 0.0005906674542232723, '2017': 0.0005906674542232723, 'remember': 0.0005906674542232723, 'friends': 0.0, 'armies': 0.0005906674542232723, 'spent': 0.0005906674542232723, 'decree': 0.0005906674542232723, 'matters': 0.0005906674542232723, 'creed': 0.0, 'winter': 0.0, 'amidst': 0.0, 'irresponsibility': 0.0, 'families': 0.0017720023626698169, 'railways': 0.0005906674542232723, 'countries': 0.0017720023626698169, 'if': 0.0, 'much': 0.0005906674542232723, 'outlast': 0.0, 'It': 0.0017720023626698169, 'joined': 0.0005906674542232723, 'unpleasant': 0.0, 'imagine': 0.0, 'firm': 0.0, 'friendship': 0.0005906674542232723, 'keepers': 0.0, 'sprawl': 0.0005906674542232723, 'consider': 0.0, 'dissipated': 0.0005906674542232723, 'enemy': 0.0, 'aims': 0.0, 'changes': 0.0005906674542232723, 'lines': 0.0, 'windswept': 0.0005906674542232723, 'control': 0.0, 'worn': 0.0, 'question': 0.0, 'promises': 0.0, 'off': 0.0005906674542232723, 'politics': 0.0005906674542232723, 'believe': 0.0, 'quality': 0.0, 'met': 0.0, 'You': 0.0011813349084465446, 'nation': 0.0011813349084465446, 'heart': 0.002362669816893089, 'pleasant': 0.0005906674542232723, 'shine': 0.0005906674542232723, 'protected': 0.0029533372711163615, 'reminded': 0.0, 'fuel': 0.0, 'expense': 0.0005906674542232723, 'endure': 0.0, 'pride': 0.0005906674542232723, 'souls': 0.0005906674542232723, 'oceans': 0.0, 'passed': 0.0, 'past': 0.0005906674542232723, 'our': 0.027761370348493797, 'borne': 0.0005906674542232723, 'opportunity': 0.0, 'hungry': 0.0, 'righteous': 0.0011813349084465446, 'patriotism': 0.0005906674542232723, 'dogmas': 0.0, 'months': 0.0, 'mysteries': 0.0005906674542232723, 'Bible': 0.0005906674542232723, 'shortcuts': 0.0, 'deserts': 0.0, 'surely': 0.0, 'Now': 0.0005906674542232723, 'differences': 0.0, 'on': 0.0035440047253396337, 'carry': 0.0005906674542232723, 'span': 0.0, 'earned': 0.0, 'decent': 0.0, 'speak': 0.0005906674542232723, 'simply': 0.0, 'abandoned': 0.0, 'liberty': 0.0, 'extend': 0.0, 'network': 0.0, 'values': 0.0, 'bridges': 0.0005906674542232723, 'decides': 0.0, 'you': 0.0070880094506792675, 'time': 0.0011813349084465446, 'drafted': 0.0, 'before': 0.0011813349084465446, 'moment': 0.0011813349084465446, 'sweatshops': 0.0, 'raw': 0.0, 'settling': 0.0, 'strangled': 0.0, 'hear': 0.0005906674542232723, 'generosity': 0.0, 'promise': 0.0005906674542232723, 'Hindus': 0.0, 'ever': 0.0005906674542232723, 'plans': 0.0, 'united': 0.0005906674542232723, 'students': 0.0005906674542232723, '\"': 0.0005906674542232723, 'put': 0.0005906674542232723, 'during': 0.0, 'all': 0.008269344359125812, 'adversaries': 0.0, 'challenge': 0.0005906674542232723, 'goodness': 0.0005906674542232723, 'begin': 0.0, 'All': 0.0, 'reinforce': 0.0005906674542232723, 'settled': 0.0, 'till': 0.0, 'almighty': 0.0005906674542232723, 'recognition': 0.0, 'like': 0.0011813349084465446, 'together': 0.0011813349084465446, 'clouds': 0.0, 'discord': 0.0, 'is': 0.011813349084465446, 'role': 0.0, 'could': 0.0, 'challenges': 0.0005906674542232723, 'exists': 0.0011813349084465446, 'reaching': 0.0, 'humanity': 0.0, 'been': 0.002362669816893089, 'threaten': 0.0, 'my': 0.0005906674542232723, 'United': 0.0011813349084465446, 'born': 0.0005906674542232723, 'sees': 0.0, 'plowed': 0.0, 'imagination': 0.0, 'reaped': 0.0005906674542232723, 'last': 0.0, 'victories': 0.0011813349084465446, 'afford': 0.0, 'effort': 0.0005906674542232723, 'sad': 0.0005906674542232723, 'revolution': 0.0, 'brings': 0.0, 'some': 0.0, 'sky': 0.0005906674542232723, 'places': 0.0, 'expedience': 0.0, 'bedrock': 0.0005906674542232723, 'soldiers': 0.0005906674542232723, 'danger': 0.0, 'age': 0.0, 'shed': 0.0, 'dark': 0.0, 'own': 0.0011813349084465446, 'yes': 0.0005906674542232723, 'terrorism': 0.0005906674542232723, 'stir': 0.0005906674542232723, 'less': 0.0, 'cause': 0.0, 'proclaim': 0.0, 'forgotten': 0.0011813349084465446, 'see': 0.0, 'for': 0.00767867690490254, 'Capital': 0.0011813349084465446, 'better': 0.0, 'confidence': 0.0005906674542232723, 'while': 0.0035440047253396337, 'this': 0.004725339633786178, 'be': 0.00767867690490254, 'gathering': 0.0, 'obscure': 0.0, '\\x80\\x94': 0.0011813349084465446, 'stale': 0.0, 'route': 0.0, 'light': 0.0, 'Muslims': 0.0, 'short': 0.0, 'confront': 0.0005906674542232723, '-': 0.0005906674542232723, 'ages': 0.0, 'filled': 0.0, 'space': 0.0005906674542232723, 'One': 0.0005906674542232723, 'levees': 0.0, 'how': 0.0, 'collective': 0.0, 'gathered': 0.0005906674542232723, 'please': 0.0, 'Jews': 0.0, 'inventive': 0.0, 'forward': 0.0011813349084465446, 'administration': 0.0005906674542232723, 'capacity': 0.0, 'recriminations': 0.0, 'blood': 0.0005906674542232723, 'someday': 0.0, 'price': 0.0, 'unrealized': 0.0005906674542232723, 'skill': 0.0, 'in': 0.00767867690490254, 'So': 0.0005906674542232723, 'drugs': 0.0005906674542232723, 'dream': 0.0005906674542232723, 'break': 0.0, 'wealth': 0.002362669816893089, 'digital': 0.0, 'rightful': 0.0, 'but': 0.006497341996455995, 'every': 0.0029533372711163615, 'clean': 0.0, 'live': 0.0005906674542232723, 'nor': 0.0, 'deceit': 0.0, 'individual': 0.0, 'borders': 0.0017720023626698169, 'out': 0.0011813349084465446, 'class': 0.0005906674542232723, 'freedom': 0.0, 'tolerance': 0.0, 'Politicians': 0.0005906674542232723, 'from': 0.005316007088009451, 'currents': 0.0, 'demand': 0.0, 'glorious': 0.0011813349084465446, 'labor': 0.0005906674542232723, 'rich': 0.0005906674542232723, 'soon': 0.0, 'simple': 0.0005906674542232723, 'The': 0.0035440047253396337, 'Islamic': 0.0005906674542232723, '.\"': 0.0005906674542232723, 'happiness': 0.0, 'Washington': 0.0011813349084465446, 'say': 0.0, 'Your': 0.0005906674542232723, 'civil': 0.0, 'Bush': 0.0005906674542232723, 'restraint': 0.0, 'prosperity': 0.0005906674542232723, 'defeat': 0.0, 'hopes': 0.0005906674542232723, 'where': 0.0, 'courage': 0.0005906674542232723, 'wage': 0.0, 'long': 0.0011813349084465446, 'nourish': 0.0, 'allegiance': 0.0011813349084465446, 'further': 0.0, 'task': 0.0, 'Those': 0.0, 'citizenship': 0.0, 'hatred': 0.0, 'care': 0.0, 'trillions': 0.0011813349084465446, 'difficult': 0.0, 'began': 0.0, 'chapter': 0.0, 'anyone': 0.0011813349084465446, 'plains': 0.0005906674542232723, 'prefer': 0.0, 'huddled': 0.0, 'manage': 0.0, 'respect': 0.0, 'journey': 0.0, 'first': 0.0017720023626698169, 'innocents': 0.0, 'cash': 0.0005906674542232723, 'because': 0.0005906674542232723, 'destroying': 0.0005906674542232723, 'knew': 0.0, 'Nation': 0.0035440047253396337, 'remembrance': 0.0, 'waters': 0.0, 'decades': 0.0005906674542232723, 'governments': 0.0, 'the': 0.0383933845245127, 'campfires': 0.0, 'job': 0.0005906674542232723, 'common': 0.0, 'darkest': 0.0, 'cynics': 0.0, 'health': 0.0, 'prospered': 0.0005906674542232723, 'responsibility': 0.0, 'shown': 0.0, 'era': 0.0, 'flush': 0.0005906674542232723, 'risk': 0.0, 'smaller': 0.0, 'can': 0.0005906674542232723, 'few': 0.0, 'truths': 0.0, 'going': 0.0005906674542232723, 'patchwork': 0.0, 'importantly': 0.0005906674542232723, 'founding': 0.0, 'lessen': 0.0, 'fascism': 0.0, 'greater': 0.0, 'rebuilding': 0.0005906674542232723, 'benefit': 0.0005906674542232723, 'We': 0.01535735380980508, 'too': 0.0017720023626698169, 'idea': 0.0, 'dangers': 0.0, 'many': 0.0029533372711163615, 'lead': 0.0005906674542232723, 'ourselves': 0.0, 'who': 0.0005906674542232723, 'blame': 0.0, 'near': 0.0005906674542232723, 'precisely': 0.0, 'swill': 0.0, 'wonders': 0.0, 'effect': 0.0, 'Every': 0.0011813349084465446, 'assure': 0.0, 'power': 0.002362669816893089, 'over': 0.0011813349084465446, 'believers': 0.0, 'reasonable': 0.0005906674542232723, 'sixty': 0.0, 'fellow': 0.0005906674542232723, 'your': 0.005906674542232723, 'moments': 0.0, 'shores': 0.0005906674542232723, 'suggest': 0.0, 'immigration': 0.0005906674542232723, 'faction': 0.0, 'Earth': 0.0011813349084465446, 'ready': 0.0005906674542232723, 'schools': 0.0005906674542232723, 'Their': 0.0005906674542232723, '4': 0.0005906674542232723, 'why': 0.0, 'toiled': 0.0, 'even': 0.0011813349084465446, 'Creator': 0.0005906674542232723, 'ills': 0.0, 'women': 0.0011813349084465446, 'debate': 0.0005906674542232723, 'side': 0.0, 'towards': 0.0, 'themselves': 0.0005906674542232723, 'however': 0.0005906674542232723, 'crucial': 0.0005906674542232723, 'mark': 0.0, 'whether': 0.0017720023626698169, 'quiet': 0.0, 'come': 0.0005906674542232723, 'may': 0.0, 'home': 0.0005906674542232723, 'woman': 0.0, ',': 0.06261075014766686, 'delivered': 0.0, 'smoke': 0.0, 'carnage': 0.0005906674542232723, 'trapped': 0.0005906674542232723, 'return': 0.0, 'start': 0.0005906674542232723, 'patriots': 0.0005906674542232723, 'once': 0.0, 'firefighter': 0.0, 'steps': 0.0005906674542232723, 'grateful': 0.0005906674542232723, 'progress': 0.0, 'mountains': 0.0, 'define': 0.0005906674542232723, 'universities': 0.0, 'fixed': 0.0, 'potential': 0.0005906674542232723, 'they': 0.002362669816893089, 'hardships': 0.0005906674542232723, 'enriched': 0.0005906674542232723, 'tunnels': 0.0005906674542232723, 'petty': 0.0, 'wield': 0.0, 'sow': 0.0, 'future': 0.0005906674542232723, 'From': 0.0011813349084465446, 'non': 0.0, 'match': 0.0005906674542232723, 'data': 0.0, 'foes': 0.0, 'ocean': 0.0011813349084465446, 'Mothers': 0.0005906674542232723, 'stronger': 0.0, 'Muslim': 0.0, 'right': 0.0029533372711163615, 'bless': 0.0017720023626698169, 'enduring': 0.0, 'part': 0.0005906674542232723, 'taxes': 0.0005906674542232723, 'dignity': 0.0, 'America': 0.011813349084465446, 'well': 0.0, 'man': 0.0, 'enjoy': 0.0005906674542232723, 'seize': 0.0, 'Where': 0.0, 'source': 0.0, 'citizens': 0.002362669816893089, 'shape': 0.0, 'alarmed': 0.0, 'celebrate': 0.0005906674542232723, 'leave': 0.0, 'cut': 0.0, 'ago': 0.0, 'bigger': 0.0005906674542232723, 'disrepair': 0.0005906674542232723, 'faithful': 0.0, 'enforcement': 0.0005906674542232723, 'Chief': 0.0005906674542232723, 'coldest': 0.0, 'plenty': 0.0, 'told': 0.0, 'then': 0.0005906674542232723, 'carried': 0.0, 'decline': 0.0, 'capitals': 0.0, 'mountain': 0.0011813349084465446, 'industry': 0.0011813349084465446, 'millennium': 0.0005906674542232723, 'stranger': 0.0, 'patrol': 0.0, 'jobs': 0.002362669816893089, 'doubt': 0.0, 'today': 0.002362669816893089, 'was': 0.0005906674542232723, 'survive': 0.0, 'become': 0.0005906674542232723, 'bad': 0.0, 'mutual': 0.0, 'prejudice': 0.0005906674542232723, 'Today': 0.0005906674542232723, 'Forty': 0.0, 'fame': 0.0, 'grids': 0.0, 'seen': 0.0005906674542232723, 'sturdy': 0.0, 'month': 0.0, 'ordered': 0.0, 'reach': 0.0, 've': 0.0017720023626698169, 's': 0.004134672179562906, 'willing': 0.0, 'No': 0.0005906674542232723, 'deprived': 0.0005906674542232723, 'dissent': 0.0, 'sacrificed': 0.0, 'shuttered': 0.0005906674542232723, 'merely': 0.0005906674542232723, 'understanding': 0.0005906674542232723, 'First': 0.0005906674542232723, 'find': 0.0, 'based': 0.0, 'special': 0.0005906674542232723, 'Yet': 0.0, 'about': 0.0011813349084465446, 'foundation': 0.0, 'are': 0.00767867690490254, 'Khe': 0.0, 'build': 0.0005906674542232723, 'make': 0.0029533372711163615, 'stops': 0.0011813349084465446, 'face': 0.0011813349084465446, 'This': 0.0017720023626698169, 'Founding': 0.0, 'faced': 0.0, 'stained': 0.0, 'scale': 0.0, 'expand': 0.0, 'broken': 0.0, 'gratitude': 0.0, 'honesty': 0.0, 'Afghanistan': 0.0, 'heard': 0.0005906674542232723, 'thank': 0.0, 'parent': 0.0, 'weakened': 0.0, 'millions': 0.0017720023626698169, 'example': 0.0, 'timeless': 0.0, 'never': 0.0035440047253396337, 'turn': 0.0, 'true': 0.0, 'those': 0.0, 'refusing': 0.0005906674542232723, 'might': 0.0, 'strengthen': 0.0, 'remaking': 0.0, 'prosperous': 0.0, 'raise': 0.0, 'work': 0.0005906674542232723, 'lives': 0.0005906674542232723, 'rusted': 0.0005906674542232723, 'doing': 0.0005906674542232723, 'city': 0.0011813349084465446, 'destroy': 0.0, 'strong': 0.0005906674542232723, 'scarcely': 0.0, 'magnificent': 0.0005906674542232723, 'state': 0.0, 'infrastructure': 0.0005906674542232723, 'unity': 0.0005906674542232723, 'at': 0.0017720023626698169, 'thought': 0.0005906674542232723, 'lift': 0.0005906674542232723, 'bitter': 0.0, 'tribe': 0.0, 'office': 0.0005906674542232723, 'solidarity': 0.0005906674542232723, 'completely': 0.0005906674542232723, 'highways': 0.0005906674542232723, 'when': 0.0005906674542232723, 'childish': 0.0, 'struggling': 0.0005906674542232723, 'earth': 0.0, 'transferring': 0.0011813349084465446, 'pain': 0.0011813349084465446, 'depends': 0.0, 'charter': 0.0, 'Do': 0.0005906674542232723, 'around': 0.0, 'raging': 0.0}\n",
            "\n",
            "Obama: {'Gross': 0.00036683785766691124, 'communism': 0.00036683785766691124, 'unstoppable': 0.0, 'gift': 0.0007336757153338225, 'know': 0.001834189288334556, 'decisions': 0.00036683785766691124, 'hatreds': 0.00036683785766691124, 'bold': 0.00036683785766691124, 'bestowed': 0.00036683785766691124, 'poor': 0.00036683785766691124, 'falter': 0.00036683785766691124, 'affairs': 0.0, 'transfer': 0.0, 'do': 0.0025678650036683784, 'remained': 0.00036683785766691124, 'storms': 0.0007336757153338225, 'ones': 0.0, 'required': 0.00036683785766691124, 'celebrated': 0.00036683785766691124, 'programs': 0.00036683785766691124, 'Our': 0.003301540719002201, 'unlock': 0.0, 'still': 0.0007336757153338225, 'For': 0.00293470286133529, 'conviction': 0.0, 'demanded': 0.00036683785766691124, 'ask': 0.00036683785766691124, 'rulers': 0.0, 'trade': 0.0, 'law': 0.00036683785766691124, 'judge': 0.00036683785766691124, 'ripped': 0.0, 'rising': 0.00036683785766691124, 'shaped': 0.00036683785766691124, 'Carter': 0.0, 'horizon': 0.00036683785766691124, 'whose': 0.00036683785766691124, 'language': 0.00036683785766691124, 'pledge': 0.00036683785766691124, 'wonderful': 0.0, '...': 0.0011005135730007337, 'inevitable': 0.00036683785766691124, 'struggled': 0.00036683785766691124, 'striving': 0.0, 'ravages': 0.0, 'join': 0.00036683785766691124, 'globe': 0.00036683785766691124, 'Scripture': 0.00036683785766691124, 'peaceful': 0.0, 'strength': 0.00036683785766691124, 'growth': 0.00036683785766691124, 'truly': 0.0, 'safe': 0.0, 'God': 0.001834189288334556, 'fill': 0.0, 'of': 0.03008070432868672, 'With': 0.0007336757153338225, 'action': 0.00036683785766691124, 'stealing': 0.0, 'segregation': 0.00036683785766691124, 'think': 0.0, 'heritage': 0.00036683785766691124, 'purpose': 0.0007336757153338225, 'badly': 0.00036683785766691124, 'society': 0.00036683785766691124, 'must': 0.00293470286133529, 'birth': 0.0007336757153338225, 'Obama': 0.0, 'Nebraska': 0.0, 'Domestic': 0.00036683785766691124, 'restaurant': 0.00036683785766691124, 'did': 0.0007336757153338225, 'greed': 0.00036683785766691124, 'politicians': 0.0, 'force': 0.0011005135730007337, 'fight': 0.0, 'humble': 0.00036683785766691124, '!': 0.00036683785766691124, 'deserve': 0.00036683785766691124, '.': 0.03961848862802641, 'Protection': 0.0, 'which': 0.001467351430667645, 'Let': 0.0007336757153338225, 'President': 0.00036683785766691124, 'beneath': 0.00036683785766691124, 'nurture': 0.00036683785766691124, 'Government': 0.0, 'A': 0.0, 'body': 0.0, 'defining': 0.00036683785766691124, 'forth': 0.0007336757153338225, 'its': 0.0025678650036683784, 'transform': 0.00036683785766691124, 'very': 0.00036683785766691124, 'only': 0.001834189288334556, 'wisdom': 0.0, 'sum': 0.00036683785766691124, 'look': 0.00036683785766691124, 'read': 0.00036683785766691124, 'My': 0.00036683785766691124, 'indicators': 0.00036683785766691124, 'spirit': 0.001834189288334556, 'meet': 0.001467351430667645, 'changed': 0.00036683785766691124, 'end': 0.001467351430667645, 'equal': 0.00036683785766691124, 'undiminished': 0.00036683785766691124, 'little': 0.0, 'vital': 0.00036683785766691124, 'ceremony': 0.0, 'govern': 0.0, 'reality': 0.0, 'proud': 0.0, 'lose': 0.00036683785766691124, 'words': 0.001467351430667645, 'fear': 0.0007336757153338225, 'principles': 0.00036683785766691124, 'conflict': 0.0007336757153338225, 'said': 0.00036683785766691124, 'rewards': 0.0, 'pass': 0.00036683785766691124, 'advance': 0.00036683785766691124, 'next': 0.00036683785766691124, 'divisions': 0.0, 'instruments': 0.00036683785766691124, 'likes': 0.0, 'Rather': 0.00036683785766691124, 'create': 0.00036683785766691124, 'bodies': 0.00036683785766691124, 'people': 0.0022010271460014674, 'with': 0.004035216434336023, 'nuclear': 0.00036683785766691124, 'upon': 0.0011005135730007337, 'statistics': 0.00036683785766691124, 'gracious': 0.0, 'something': 0.0007336757153338225, 'relies': 0.00036683785766691124, 'homes': 0.0, 'Buy': 0.0, 'loyalty': 0.00036683785766691124, 'In': 0.0011005135730007337, 'subsidized': 0.0, 'harness': 0.00036683785766691124, 'set': 0.00036683785766691124, 'calls': 0.0007336757153338225, 'necessity': 0.00036683785766691124, 'movement': 0.0, 'new': 0.004035216434336023, 'Starting': 0.00036683785766691124, 'starved': 0.00036683785766691124, 'ours': 0.00036683785766691124, 'ground': 0.00036683785766691124, 'I': 0.0011005135730007337, 'thrive': 0.0, 'heal': 0.0, 'Because': 0.0, 'closed': 0.0, 'Justice': 0.0, 'willingness': 0.0007336757153338225, 'already': 0.00036683785766691124, 'wisely': 0.00036683785766691124, 'it': 0.005502567865003668, 'suffering': 0.00036683785766691124, 'day': 0.001834189288334556, 'bring': 0.0, 'dignified': 0.00036683785766691124, 'technologies': 0.0, 'chosen': 0.00036683785766691124, 'whip': 0.00036683785766691124, 'want': 0.0, 'presidential': 0.00036683785766691124, 'capital': 0.00036683785766691124, ';': 0.008070432868672046, 'inhabit': 0.00036683785766691124, 'At': 0.0007336757153338225, 'reform': 0.00036683785766691124, 'honor': 0.00036683785766691124, 'When': 0.0, 'sights': 0.00036683785766691124, 'threats': 0.00036683785766691124, 'totally': 0.0, \"'\": 0.004768892149669846, 'planet': 0.0007336757153338225, 'January': 0.0, 'riches': 0.00036683785766691124, 'tested': 0.00036683785766691124, 'As': 0.0007336757153338225, 'redistributed': 0.0, 'depth': 0.00036683785766691124, 'room': 0.0, 'forget': 0.0, 'On': 0.0007336757153338225, 'have': 0.00586940572267058, 'everyone': 0.0, 'emanates': 0.00036683785766691124, 'Michelle': 0.0, 'forge': 0.00036683785766691124, 'honestly': 0.0, 'embody': 0.00036683785766691124, 'Fathers': 0.00036683785766691124, 'taken': 0.0007336757153338225, 'fought': 0.00036683785766691124, 'bind': 0.00036683785766691124, 'he': 0.00036683785766691124, 'red': 0.0, 'party': 0.0, 'services': 0.00036683785766691124, 'gangs': 0.0, 'race': 0.00036683785766691124, 'spoken': 0.00036683785766691124, 'But': 0.0011005135730007337, 'local': 0.00036683785766691124, 'refused': 0.00036683785766691124, 'up': 0.001467351430667645, 'surest': 0.00036683785766691124, 'storm': 0.00036683785766691124, 'kindness': 0.00036683785766691124, 'prosper': 0.00036683785766691124, 'Its': 0.00036683785766691124, 'To': 0.001467351430667645, 'poverty': 0.0, 'earlier': 0.00036683785766691124, 'service': 0.0007336757153338225, 'threat': 0.00036683785766691124, 'between': 0.0011005135730007337, 'middle': 0.0, 'former': 0.00036683785766691124, 'year': 0.0007336757153338225, 'world': 0.0025678650036683784, 'electric': 0.00036683785766691124, 'generations': 0.0011005135730007337, 'wealthy': 0.0, 'safely': 0.00036683785766691124, 'spin': 0.00036683785766691124, 'perils': 0.00036683785766691124, 'real': 0.00036683785766691124, 'eradicate': 0.0, 'making': 0.0, 'celebration': 0.00036683785766691124, 'flourish': 0.00036683785766691124, 'salute': 0.0, 'impose': 0.0, 'more': 0.001834189288334556, 'remembered': 0.0, 'success': 0.0007336757153338225, 'needed': 0.00036683785766691124, 'village': 0.00036683785766691124, 'grows': 0.0007336757153338225, 'robbed': 0.0, 'here': 0.00036683785766691124, 'hardship': 0.00036683785766691124, 'sake': 0.00036683785766691124, 'choice': 0.00036683785766691124, 'alone': 0.00036683785766691124, 'wrong': 0.00036683785766691124, 'served': 0.00036683785766691124, 'snow': 0.00036683785766691124, 'watchful': 0.00036683785766691124, 'vision': 0.00036683785766691124, 'flag': 0.0, 'same': 0.0, 'fist': 0.00036683785766691124, 'satisfying': 0.00036683785766691124, 'chance': 0.00036683785766691124, 'Nor': 0.00036683785766691124, 'Lady': 0.0, 'down': 0.00036683785766691124, 'way': 0.0007336757153338225, 'things': 0.001467351430667645, 'does': 0.00036683785766691124, 'hand': 0.00036683785766691124, 'unfolds': 0.00036683785766691124, 'these': 0.0025678650036683784, 'farms': 0.00036683785766691124, 'charity': 0.00036683785766691124, 'meaning': 0.0007336757153338225, 'Normandy': 0.00036683785766691124, 'living': 0.0, 'landscape': 0.0, 'brave': 0.0007336757153338225, 'small': 0.0011005135730007337, 'act': 0.00036683785766691124, 'left': 0.0, 'run': 0.00036683785766691124, 'measure': 0.00036683785766691124, 'infused': 0.0, 'cooperation': 0.0007336757153338225, 'White': 0.0, 'justness': 0.00036683785766691124, 'large': 0.0, 'What': 0.0011005135730007337, 'across': 0.0011005135730007337, 'greatness': 0.0007336757153338225, 'That': 0.00036683785766691124, 'urban': 0.0, 'leaders': 0.00036683785766691124, 'total': 0.0, 'outcome': 0.00036683785766691124, 'weakness': 0.00036683785766691124, 'inner': 0.0, 'reject': 0.00036683785766691124, 'beautiful': 0.0, 'demands': 0.00036683785766691124, 'Clinton': 0.0, 'voice': 0.0, 'Guided': 0.00036683785766691124, 'than': 0.00293470286133529, 'controlled': 0.0, 'mall': 0.00036683785766691124, 'eyes': 0.00036683785766691124, 'leaves': 0.0, 'country': 0.0007336757153338225, 'costly': 0.00036683785766691124, 'decision': 0.0, 'died': 0.00036683785766691124, 'Time': 0.00036683785766691124, 'Americans': 0.0011005135730007337, 'back': 0.0007336757153338225, 'military': 0.0, 'remains': 0.00036683785766691124, 'regard': 0.00036683785766691124, 'disease': 0.0, 'worked': 0.00036683785766691124, 'stolen': 0.0, 'along': 0.0, 'us': 0.008437270726338958, 'commerce': 0.00036683785766691124, 'war': 0.0007336757153338225, 'putting': 0.00036683785766691124, 'itself': 0.00036683785766691124, 'full': 0.00036683785766691124, 'oath': 0.0011005135730007337, 'companies': 0.0, 'allowing': 0.0, 'each': 0.0007336757153338225, 'triumphs': 0.0, 'They': 0.0022010271460014674, 'yet': 0.00036683785766691124, 'violence': 0.00036683785766691124, 'forever': 0.0, 'shall': 0.0011005135730007337, 'everywhere': 0.00036683785766691124, 'products': 0.0, 'against': 0.00036683785766691124, 'shineâ': 0.0, 'advancing': 0.00036683785766691124, 'habits': 0.00036683785766691124, 'flow': 0.00036683785766691124, 'old': 0.0011005135730007337, 'alliances': 0.00036683785766691124, 'gather': 0.00036683785766691124, 'overseas': 0.0, '--': 0.008070432868672046, 'their': 0.003301540719002201, 'culture': 0.00036683785766691124, 'retirement': 0.00036683785766691124, 'disagreements': 0.0, 'starting': 0.0, 'exampleâ': 0.0, 'bleed': 0.0, 'lie': 0.00036683785766691124, 'interests': 0.00036683785766691124, 'subject': 0.00036683785766691124, 'account': 0.00036683785766691124, 'ancestors': 0.00036683785766691124, 'life': 0.0011005135730007337, 'week': 0.00036683785766691124, 'tells': 0.0, 'entitle': 0.00036683785766691124, 'helps': 0.00036683785766691124, 'decay': 0.0, 'young': 0.00036683785766691124, 'four': 0.00036683785766691124, 'longer': 0.0007336757153338225, 'tolerate': 0.00036683785766691124, 'hope': 0.0011005135730007337, 'fail': 0.0007336757153338225, 'should': 0.0, 'as': 0.003301540719002201, 'play': 0.0007336757153338225, 'sacred': 0.00036683785766691124, 'American': 0.0007336757153338225, 'distant': 0.00036683785766691124, 'fate': 0.00036683785766691124, 'humility': 0.00036683785766691124, 'behind': 0.0, 'businesses': 0.00036683785766691124, 'favors': 0.00036683785766691124, 'Black': 0.0, 'business': 0.00036683785766691124, 'miseries': 0.0, 'watching': 0.00036683785766691124, 'prepare': 0.00036683785766691124, 'talk': 0.0, 'accept': 0.00036683785766691124, 'reaffirming': 0.00036683785766691124, 'And': 0.0022010271460014674, 'seek': 0.001467351430667645, 'science': 0.00036683785766691124, 'determine': 0.0, 'constantly': 0.0, 'take': 0.0007336757153338225, 'father': 0.0011005135730007337, 'Arlington': 0.00036683785766691124, 'has': 0.005135730007336757, 'hearted': 0.00036683785766691124, 'trust': 0.0007336757153338225, 'change': 0.00036683785766691124, 'false': 0.0007336757153338225, 'remain': 0.0007336757153338225, 'ability': 0.00036683785766691124, 'silencing': 0.00036683785766691124, 'ambitions': 0.0007336757153338225, 'public': 0.00036683785766691124, 'fallen': 0.00036683785766691124, 'hard': 0.001467351430667645, 'friend': 0.0007336757153338225, 'given': 0.0007336757153338225, 'roll': 0.00036683785766691124, 'market': 0.0007336757153338225, 'national': 0.0, 'place': 0.00036683785766691124, 'rugged': 0.00036683785766691124, 'hall': 0.0, 'establishment': 0.0, 'winning': 0.0, 'knowledge': 0.0007336757153338225, 'faith': 0.0007336757153338225, 'dollars': 0.00036683785766691124, 'dying': 0.00036683785766691124, 'How': 0.0, 'roads': 0.00036683785766691124, 'unmatched': 0.00036683785766691124, 'legacy': 0.00036683785766691124, 'understand': 0.0007336757153338225, 'freedoms': 0.0, 'failure': 0.00036683785766691124, 'made': 0.0, 'guardians': 0.00036683785766691124, 'good': 0.0007336757153338225, 'outside': 0.00036683785766691124, 'form': 0.0, 'narrow': 0.00036683785766691124, 'heroes': 0.00036683785766691124, 'rules': 0.0, 'unclench': 0.00036683785766691124, 'easily': 0.00036683785766691124, 'qualities': 0.00036683785766691124, 'lower': 0.0007336757153338225, 'one': 0.0007336757153338225, 'two': 0.0, 'ill': 0.00036683785766691124, 'packed': 0.00036683785766691124, 'winds': 0.00036683785766691124, 'safety': 0.00036683785766691124, 'West': 0.0007336757153338225, 'goods': 0.00036683785766691124, 'traveled': 0.0007336757153338225, 'belongs': 0.0, 'lay': 0.00036683785766691124, 'listening': 0.0, 'relative': 0.00036683785766691124, 'Detroit': 0.0, 'search': 0.00036683785766691124, 'use': 0.0007336757153338225, 'endured': 0.00036683785766691124, 'great': 0.00036683785766691124, 'dust': 0.00036683785766691124, 'an': 0.0011005135730007337, 'hours': 0.0007336757153338225, 'noble': 0.00036683785766691124, 'forbearers': 0.00036683785766691124, 'works': 0.00036683785766691124, 'his': 0.00036683785766691124, 'People': 0.00036683785766691124, 'cities': 0.0, 'understood': 0.0007336757153338225, 'cost': 0.00036683785766691124, 'will': 0.006969919295671314, 'Concord': 0.00036683785766691124, 'convictions': 0.00036683785766691124, 'determination': 0.00036683785766691124, 'seeks': 0.00036683785766691124, 'continue': 0.00036683785766691124, 'path': 0.0007336757153338225, 'generation': 0.001834189288334556, 'a': 0.017241379310344827, 'Homes': 0.00036683785766691124, 'historic': 0.0, 'held': 0.00036683785766691124, 'by': 0.00293470286133529, 'choices': 0.00036683785766691124, 'allow': 0.0, 'night': 0.0, 'energies': 0.0, 'virtue': 0.0007336757153338225, 'protecting': 0.00036683785766691124, 'grudgingly': 0.00036683785766691124, 'group': 0.0, 'and': 0.03851797505502568, 'another': 0.0, 'radical': 0.0, 'Recall': 0.00036683785766691124, 'doers': 0.00036683785766691124, 'slaughtering': 0.00036683785766691124, 'child': 0.0007336757153338225, 'let': 0.001834189288334556, 'rather': 0.0007336757153338225, 'achieve': 0.00036683785766691124, 'tempering': 0.00036683785766691124, 'men': 0.001467351430667645, 'warming': 0.00036683785766691124, 'evidence': 0.00036683785766691124, 'duties': 0.0007336757153338225, 'rediscover': 0.0, 'hands': 0.00036683785766691124, 'river': 0.00036683785766691124, 'what': 0.001834189288334556, 'consumed': 0.00036683785766691124, 'road': 0.00036683785766691124, 'mindful': 0.00036683785766691124, 'industries': 0.0, 'cars': 0.00036683785766691124, 'tomorrow': 0.0, 'terror': 0.00036683785766691124, 'arrives': 0.0, 'interest': 0.00036683785766691124, 'prudent': 0.00036683785766691124, 'orderly': 0.0, 'rule': 0.00036683785766691124, 'history': 0.0011005135730007337, 'serious': 0.00036683785766691124, 'reaffirm': 0.00036683785766691124, 'sapping': 0.00036683785766691124, 'again': 0.0007336757153338225, 'that': 0.01760821716801174, 'would': 0.00036683785766691124, 'crisis': 0.001467351430667645, 'tombstones': 0.0, 'possessions': 0.00036683785766691124, 'often': 0.0007336757153338225, 'course': 0.0, 'follow': 0.0, 'hour': 0.00036683785766691124, 'into': 0.0, 'intend': 0.00036683785766691124, 'give': 0.00036683785766691124, 'band': 0.00036683785766691124, 'foreign': 0.0, 'aid': 0.0, 'energy': 0.00036683785766691124, 'profound': 0.00036683785766691124, 'empty': 0.0, 'giving': 0.00036683785766691124, 'measurable': 0.00036683785766691124, 'love': 0.0, 'DC': 0.0, 'takers': 0.00036683785766691124, ':': 0.001467351430667645, 'without': 0.0007336757153338225, 'destiny': 0.00036683785766691124, 'standing': 0.00036683785766691124, 'economy': 0.0011005135730007337, 'openly': 0.0, 'came': 0.00036683785766691124, 'precious': 0.00036683785766691124, 'depletion': 0.0, 'apply': 0.00036683785766691124, 'Christians': 0.00036683785766691124, 'defended': 0.0, 'ways': 0.00036683785766691124, 'Finally': 0.0, 'corruption': 0.00036683785766691124, 'to': 0.02421129860601614, 'gladly': 0.00036683785766691124, 'most': 0.0011005135730007337, 'years': 0.00036683785766691124, 'free': 0.0007336757153338225, 'consequence': 0.00036683785766691124, 'worldly': 0.00036683785766691124, 'spend': 0.00036683785766691124, 'so': 0.0022010271460014674, 'help': 0.00036683785766691124, 'saw': 0.00036683785766691124, 'workers': 0.0007336757153338225, 'crime': 0.0, 'different': 0.0, 'humbled': 0.00036683785766691124, 'pursue': 0.00036683785766691124, 'done': 0.0007336757153338225, 'powerful': 0.00036683785766691124, 'generate': 0.00036683785766691124, 'specter': 0.00036683785766691124, 'indifference': 0.00036683785766691124, 'nothing': 0.0007336757153338225, 'responsibly': 0.00036683785766691124, 'pat': 0.00036683785766691124, 'complaining': 0.0, 'whisper': 0.00036683785766691124, 'high': 0.00036683785766691124, 'tens': 0.0, 'share': 0.0, 'looking': 0.0, 'land': 0.00036683785766691124, 'stand': 0.0007336757153338225, 'Together': 0.0, 'move': 0.00036683785766691124, 'there': 0.0011005135730007337, 'neighborhoods': 0.0, 'government': 0.0011005135730007337, 'no': 0.0025678650036683784, 'curiosity': 0.00036683785766691124, 'uncertain': 0.00036683785766691124, 'cling': 0.00036683785766691124, 'consume': 0.00036683785766691124, 'factories': 0.00036683785766691124, 'breath': 0.0, 'colleges': 0.00036683785766691124, 'expanded': 0.00036683785766691124, 'stairway': 0.00036683785766691124, 'icy': 0.0007336757153338225, 'them': 0.001467351430667645, 'feed': 0.0007336757153338225, 'Brown': 0.0, 'choose': 0.00036683785766691124, 'sacrifices': 0.00036683785766691124, 'peoples': 0.00036683785766691124, 'tanks': 0.00036683785766691124, 'Less': 0.00036683785766691124, 'Roberts': 0.0, 'hire': 0.0, 'center': 0.0, 'waver': 0.00036683785766691124, 'technology': 0.00036683785766691124, 'defend': 0.0, 'we': 0.018341892883345562, 'soil': 0.00036683785766691124, 'big': 0.0007336757153338225, 'inducing': 0.00036683785766691124, 'swift': 0.00036683785766691124, 'minds': 0.0007336757153338225, 'aside': 0.00036683785766691124, 'dreams': 0.0, 'There': 0.0, 'guide': 0.0, 'lost': 0.00036683785766691124, 'far': 0.001467351430667645, 'character': 0.00036683785766691124, 'sun': 0.00036683785766691124, 'Thank': 0.00036683785766691124, 'size': 0.00036683785766691124, 'ushering': 0.00036683785766691124, 'serve': 0.0, 'flourished': 0.0, 'Sahn': 0.00036683785766691124, 'civilized': 0.0, 'memories': 0.00036683785766691124, 'documents': 0.00036683785766691124, 'just': 0.0011005135730007337, 'always': 0.00036683785766691124, 'open': 0.0, 'nagging': 0.00036683785766691124, 'anything': 0.0, 'or': 0.004035216434336023, 'Instead': 0.00036683785766691124, 'not': 0.00586940572267058, 'makers': 0.00036683785766691124, 'throughout': 0.0007336757153338225, 'get': 0.0, 'grandest': 0.00036683785766691124, '20': 0.0, 'children': 0.0011005135730007337, 'security': 0.00036683785766691124, 'welfare': 0.0, 'rebuild': 0.0, 'tides': 0.00036683785766691124, 'through': 0.001467351430667645, 'depended': 0.00036683785766691124, 'lash': 0.00036683785766691124, 'tasted': 0.00036683785766691124, 'fair': 0.00036683785766691124, 'dissolve': 0.00036683785766691124, 'Everyone': 0.0, 'scattered': 0.0, 'Iraq': 0.00036683785766691124, 'protect': 0.00036683785766691124, 'missiles': 0.00036683785766691124, 'restore': 0.0007336757153338225, 'became': 0.0, 'system': 0.00036683785766691124, 'tell': 0.00036683785766691124, 'tirelessly': 0.00036683785766691124, 'finally': 0.00036683785766691124, 'faint': 0.00036683785766691124, 'emerged': 0.00036683785766691124, 'airports': 0.0, 'These': 0.0007336757153338225, 'controls': 0.0, 'leisure': 0.00036683785766691124, 'States': 0.00036683785766691124, 'resources': 0.00036683785766691124, 'midst': 0.00036683785766691124, 'other': 0.00036683785766691124, 'cannot': 0.0022010271460014674, 'ultimately': 0.00036683785766691124, 'assembled': 0.0, 'education': 0.0, 'answer': 0.0007336757153338225, 'nations': 0.0011005135730007337, 'also': 0.0007336757153338225, 'now': 0.001834189288334556, 'Gettysburg': 0.00036683785766691124, 'issuing': 0.0, 'defense': 0.0007336757153338225, 'rights': 0.00036683785766691124, 'were': 0.0011005135730007337, 'Product': 0.00036683785766691124, 'pick': 0.00036683785766691124, 'apologize': 0.00036683785766691124, 'arguments': 0.00036683785766691124, 'ignored': 0.0, 'reveal': 0.00036683785766691124, 'grace': 0.00036683785766691124, 'transition': 0.00036683785766691124, 'eye': 0.00036683785766691124, 'peace': 0.001467351430667645, 'selflessness': 0.00036683785766691124, 'ideals': 0.0011005135730007337, 'alongside': 0.00036683785766691124, 'shifted': 0.00036683785766691124, 'pleasures': 0.00036683785766691124, 'productive': 0.00036683785766691124, 'drawn': 0.00036683785766691124, 'grievances': 0.00036683785766691124, 'political': 0.00036683785766691124, 'unite': 0.0, '2017': 0.0, 'remember': 0.0007336757153338225, 'friends': 0.00036683785766691124, 'armies': 0.0, 'spent': 0.0, 'decree': 0.0, 'matters': 0.0, 'creed': 0.00036683785766691124, 'winter': 0.0007336757153338225, 'amidst': 0.00036683785766691124, 'irresponsibility': 0.00036683785766691124, 'families': 0.00036683785766691124, 'railways': 0.0, 'countries': 0.0, 'if': 0.00036683785766691124, 'much': 0.00036683785766691124, 'outlast': 0.00036683785766691124, 'It': 0.001467351430667645, 'joined': 0.00036683785766691124, 'unpleasant': 0.00036683785766691124, 'imagine': 0.00036683785766691124, 'firm': 0.00036683785766691124, 'friendship': 0.0, 'keepers': 0.00036683785766691124, 'sprawl': 0.0, 'consider': 0.00036683785766691124, 'dissipated': 0.0, 'enemy': 0.00036683785766691124, 'aims': 0.00036683785766691124, 'changes': 0.0, 'lines': 0.0007336757153338225, 'windswept': 0.0, 'control': 0.00036683785766691124, 'worn': 0.00036683785766691124, 'question': 0.0011005135730007337, 'promises': 0.00036683785766691124, 'off': 0.0011005135730007337, 'politics': 0.00036683785766691124, 'believe': 0.00036683785766691124, 'quality': 0.00036683785766691124, 'met': 0.0007336757153338225, 'You': 0.0, 'nation': 0.004402054292002935, 'heart': 0.00036683785766691124, 'pleasant': 0.0, 'shine': 0.0, 'protected': 0.0, 'reminded': 0.00036683785766691124, 'fuel': 0.00036683785766691124, 'expense': 0.0, 'endure': 0.00036683785766691124, 'pride': 0.0, 'souls': 0.0, 'oceans': 0.00036683785766691124, 'passed': 0.0007336757153338225, 'past': 0.0, 'our': 0.02127659574468085, 'borne': 0.00036683785766691124, 'opportunity': 0.00036683785766691124, 'hungry': 0.00036683785766691124, 'righteous': 0.0, 'patriotism': 0.00036683785766691124, 'dogmas': 0.00036683785766691124, 'months': 0.00036683785766691124, 'mysteries': 0.0, 'Bible': 0.0, 'shortcuts': 0.00036683785766691124, 'deserts': 0.00036683785766691124, 'surely': 0.00036683785766691124, 'Now': 0.00036683785766691124, 'differences': 0.00036683785766691124, 'on': 0.005502567865003668, 'carry': 0.00036683785766691124, 'span': 0.00036683785766691124, 'earned': 0.0007336757153338225, 'decent': 0.00036683785766691124, 'speak': 0.0, 'simply': 0.00036683785766691124, 'abandoned': 0.00036683785766691124, 'liberty': 0.0007336757153338225, 'extend': 0.0007336757153338225, 'network': 0.00036683785766691124, 'values': 0.00036683785766691124, 'bridges': 0.00036683785766691124, 'decides': 0.00036683785766691124, 'you': 0.005135730007336757, 'time': 0.001834189288334556, 'drafted': 0.00036683785766691124, 'before': 0.001467351430667645, 'moment': 0.0011005135730007337, 'sweatshops': 0.00036683785766691124, 'raw': 0.00036683785766691124, 'settling': 0.00036683785766691124, 'strangled': 0.00036683785766691124, 'hear': 0.0, 'generosity': 0.00036683785766691124, 'promise': 0.0007336757153338225, 'Hindus': 0.00036683785766691124, 'ever': 0.0, 'plans': 0.00036683785766691124, 'united': 0.00036683785766691124, 'students': 0.0, '\"': 0.00036683785766691124, 'put': 0.0, 'during': 0.00036683785766691124, 'all': 0.0025678650036683784, 'adversaries': 0.00036683785766691124, 'challenge': 0.0, 'goodness': 0.0, 'begin': 0.0007336757153338225, 'All': 0.0007336757153338225, 'reinforce': 0.0, 'settled': 0.00036683785766691124, 'till': 0.00036683785766691124, 'almighty': 0.0, 'recognition': 0.00036683785766691124, 'like': 0.0007336757153338225, 'together': 0.00036683785766691124, 'clouds': 0.00036683785766691124, 'discord': 0.00036683785766691124, 'is': 0.013206162876008804, 'role': 0.00036683785766691124, 'could': 0.00036683785766691124, 'challenges': 0.0007336757153338225, 'exists': 0.0, 'reaching': 0.00036683785766691124, 'humanity': 0.00036683785766691124, 'been': 0.00293470286133529, 'threaten': 0.00036683785766691124, 'my': 0.00036683785766691124, 'United': 0.00036683785766691124, 'born': 0.00036683785766691124, 'sees': 0.00036683785766691124, 'plowed': 0.00036683785766691124, 'imagination': 0.00036683785766691124, 'reaped': 0.0, 'last': 0.0011005135730007337, 'victories': 0.0, 'afford': 0.0007336757153338225, 'effort': 0.00036683785766691124, 'sad': 0.0, 'revolution': 0.00036683785766691124, 'brings': 0.00036683785766691124, 'some': 0.0011005135730007337, 'sky': 0.0, 'places': 0.00036683785766691124, 'expedience': 0.00036683785766691124, 'bedrock': 0.0, 'soldiers': 0.0, 'danger': 0.00036683785766691124, 'age': 0.0007336757153338225, 'shed': 0.00036683785766691124, 'dark': 0.00036683785766691124, 'own': 0.0, 'yes': 0.00036683785766691124, 'terrorism': 0.0, 'stir': 0.0, 'less': 0.0022010271460014674, 'cause': 0.00036683785766691124, 'proclaim': 0.00036683785766691124, 'forgotten': 0.00036683785766691124, 'see': 0.00036683785766691124, 'for': 0.005502567865003668, 'Capital': 0.0, 'better': 0.0007336757153338225, 'confidence': 0.0007336757153338225, 'while': 0.0, 'this': 0.007336757153338224, 'be': 0.004402054292002935, 'gathering': 0.00036683785766691124, 'obscure': 0.00036683785766691124, '\\x80\\x94': 0.0, 'stale': 0.00036683785766691124, 'route': 0.00036683785766691124, 'light': 0.0007336757153338225, 'Muslims': 0.00036683785766691124, 'short': 0.0007336757153338225, 'confront': 0.0, '-': 0.003301540719002201, 'ages': 0.00036683785766691124, 'filled': 0.00036683785766691124, 'space': 0.0, 'One': 0.0, 'levees': 0.00036683785766691124, 'how': 0.00036683785766691124, 'collective': 0.00036683785766691124, 'gathered': 0.0, 'please': 0.00036683785766691124, 'Jews': 0.00036683785766691124, 'inventive': 0.00036683785766691124, 'forward': 0.0011005135730007337, 'administration': 0.0, 'capacity': 0.00036683785766691124, 'recriminations': 0.00036683785766691124, 'blood': 0.0007336757153338225, 'someday': 0.00036683785766691124, 'price': 0.00036683785766691124, 'unrealized': 0.0, 'skill': 0.00036683785766691124, 'in': 0.008070432868672046, 'So': 0.0011005135730007337, 'drugs': 0.0, 'dream': 0.0, 'break': 0.00036683785766691124, 'wealth': 0.0007336757153338225, 'digital': 0.00036683785766691124, 'rightful': 0.00036683785766691124, 'but': 0.0062362435803374906, 'every': 0.00293470286133529, 'clean': 0.00036683785766691124, 'live': 0.00036683785766691124, 'nor': 0.001467351430667645, 'deceit': 0.00036683785766691124, 'individual': 0.00036683785766691124, 'borders': 0.00036683785766691124, 'out': 0.0011005135730007337, 'class': 0.0, 'freedom': 0.0011005135730007337, 'tolerance': 0.00036683785766691124, 'Politicians': 0.0, 'from': 0.001834189288334556, 'currents': 0.00036683785766691124, 'demand': 0.00036683785766691124, 'glorious': 0.0, 'labor': 0.00036683785766691124, 'rich': 0.0, 'soon': 0.00036683785766691124, 'simple': 0.0, 'The': 0.003301540719002201, 'Islamic': 0.0, '.\"': 0.00036683785766691124, 'happiness': 0.00036683785766691124, 'Washington': 0.0, 'say': 0.0011005135730007337, 'Your': 0.0, 'civil': 0.00036683785766691124, 'Bush': 0.00036683785766691124, 'restraint': 0.00036683785766691124, 'prosperity': 0.0011005135730007337, 'defeat': 0.00036683785766691124, 'hopes': 0.0, 'where': 0.00036683785766691124, 'courage': 0.0011005135730007337, 'wage': 0.00036683785766691124, 'long': 0.001467351430667645, 'nourish': 0.00036683785766691124, 'allegiance': 0.0, 'further': 0.00036683785766691124, 'task': 0.0007336757153338225, 'Those': 0.00036683785766691124, 'citizenship': 0.00036683785766691124, 'hatred': 0.00036683785766691124, 'care': 0.0011005135730007337, 'trillions': 0.0, 'difficult': 0.00036683785766691124, 'began': 0.00036683785766691124, 'chapter': 0.00036683785766691124, 'anyone': 0.0, 'plains': 0.0, 'prefer': 0.00036683785766691124, 'huddled': 0.00036683785766691124, 'manage': 0.00036683785766691124, 'respect': 0.00036683785766691124, 'journey': 0.0011005135730007337, 'first': 0.0, 'innocents': 0.00036683785766691124, 'cash': 0.0, 'because': 0.00293470286133529, 'destroying': 0.0, 'knew': 0.00036683785766691124, 'Nation': 0.0, 'remembrance': 0.00036683785766691124, 'waters': 0.0007336757153338225, 'decades': 0.0, 'governments': 0.00036683785766691124, 'the': 0.046221570066030816, 'campfires': 0.00036683785766691124, 'job': 0.00036683785766691124, 'common': 0.0022010271460014674, 'darkest': 0.00036683785766691124, 'cynics': 0.00036683785766691124, 'health': 0.0007336757153338225, 'prospered': 0.0, 'responsibility': 0.00036683785766691124, 'shown': 0.00036683785766691124, 'era': 0.0007336757153338225, 'flush': 0.0, 'risk': 0.00036683785766691124, 'smaller': 0.00036683785766691124, 'can': 0.004768892149669846, 'few': 0.00036683785766691124, 'truths': 0.00036683785766691124, 'going': 0.0, 'patchwork': 0.00036683785766691124, 'importantly': 0.0, 'founding': 0.00036683785766691124, 'lessen': 0.00036683785766691124, 'fascism': 0.00036683785766691124, 'greater': 0.001467351430667645, 'rebuilding': 0.0, 'benefit': 0.0, 'We': 0.004402054292002935, 'too': 0.0022010271460014674, 'idea': 0.00036683785766691124, 'dangers': 0.00036683785766691124, 'many': 0.0011005135730007337, 'lead': 0.00036683785766691124, 'ourselves': 0.0011005135730007337, 'who': 0.005135730007336757, 'blame': 0.00036683785766691124, 'near': 0.0, 'precisely': 0.00036683785766691124, 'swill': 0.00036683785766691124, 'wonders': 0.00036683785766691124, 'effect': 0.00036683785766691124, 'Every': 0.0, 'assure': 0.00036683785766691124, 'power': 0.001467351430667645, 'over': 0.0011005135730007337, 'believers': 0.00036683785766691124, 'reasonable': 0.0, 'sixty': 0.00036683785766691124, 'fellow': 0.00036683785766691124, 'your': 0.0011005135730007337, 'moments': 0.00036683785766691124, 'shores': 0.00036683785766691124, 'suggest': 0.00036683785766691124, 'immigration': 0.0, 'faction': 0.00036683785766691124, 'Earth': 0.0007336757153338225, 'ready': 0.00036683785766691124, 'schools': 0.0007336757153338225, 'Their': 0.00036683785766691124, '4': 0.0, 'why': 0.0007336757153338225, 'toiled': 0.00036683785766691124, 'even': 0.0007336757153338225, 'Creator': 0.0, 'ills': 0.00036683785766691124, 'women': 0.001467351430667645, 'debate': 0.0, 'side': 0.00036683785766691124, 'towards': 0.00036683785766691124, 'themselves': 0.00036683785766691124, 'however': 0.0, 'crucial': 0.0, 'mark': 0.00036683785766691124, 'whether': 0.001467351430667645, 'quiet': 0.00036683785766691124, 'come': 0.001467351430667645, 'may': 0.0011005135730007337, 'home': 0.0, 'woman': 0.00036683785766691124, ',': 0.04768892149669846, 'delivered': 0.00036683785766691124, 'smoke': 0.00036683785766691124, 'carnage': 0.0, 'trapped': 0.0, 'return': 0.00036683785766691124, 'start': 0.0, 'patriots': 0.00036683785766691124, 'once': 0.0011005135730007337, 'firefighter': 0.00036683785766691124, 'steps': 0.0, 'grateful': 0.00036683785766691124, 'progress': 0.00036683785766691124, 'mountains': 0.00036683785766691124, 'define': 0.00036683785766691124, 'universities': 0.00036683785766691124, 'fixed': 0.00036683785766691124, 'potential': 0.0, 'they': 0.004035216434336023, 'hardships': 0.0, 'enriched': 0.0, 'tunnels': 0.0, 'petty': 0.00036683785766691124, 'wield': 0.00036683785766691124, 'sow': 0.00036683785766691124, 'future': 0.0011005135730007337, 'From': 0.0, 'non': 0.00036683785766691124, 'match': 0.0, 'data': 0.00036683785766691124, 'foes': 0.00036683785766691124, 'ocean': 0.0, 'Mothers': 0.0, 'stronger': 0.0007336757153338225, 'Muslim': 0.00036683785766691124, 'right': 0.0, 'bless': 0.0007336757153338225, 'enduring': 0.0007336757153338225, 'part': 0.0007336757153338225, 'taxes': 0.0, 'dignity': 0.00036683785766691124, 'America': 0.003668378576669112, 'well': 0.0007336757153338225, 'man': 0.0011005135730007337, 'enjoy': 0.00036683785766691124, 'seize': 0.00036683785766691124, 'Where': 0.0007336757153338225, 'source': 0.00036683785766691124, 'citizens': 0.00036683785766691124, 'shape': 0.00036683785766691124, 'alarmed': 0.00036683785766691124, 'celebrate': 0.0, 'leave': 0.00036683785766691124, 'cut': 0.00036683785766691124, 'ago': 0.00036683785766691124, 'bigger': 0.00036683785766691124, 'disrepair': 0.0, 'faithful': 0.00036683785766691124, 'enforcement': 0.0, 'Chief': 0.0, 'coldest': 0.00036683785766691124, 'plenty': 0.00036683785766691124, 'told': 0.00036683785766691124, 'then': 0.0007336757153338225, 'carried': 0.0011005135730007337, 'decline': 0.00036683785766691124, 'capitals': 0.00036683785766691124, 'mountain': 0.0, 'industry': 0.0, 'millennium': 0.0, 'stranger': 0.00036683785766691124, 'patrol': 0.00036683785766691124, 'jobs': 0.0011005135730007337, 'doubt': 0.00036683785766691124, 'today': 0.001834189288334556, 'was': 0.001834189288334556, 'survive': 0.00036683785766691124, 'become': 0.0, 'bad': 0.00036683785766691124, 'mutual': 0.0007336757153338225, 'prejudice': 0.0, 'Today': 0.00036683785766691124, 'Forty': 0.00036683785766691124, 'fame': 0.00036683785766691124, 'grids': 0.00036683785766691124, 'seen': 0.0, 'sturdy': 0.00036683785766691124, 'month': 0.00036683785766691124, 'ordered': 0.00036683785766691124, 'reach': 0.00036683785766691124, 've': 0.0, 's': 0.004402054292002935, 'willing': 0.0007336757153338225, 'No': 0.0, 'deprived': 0.0, 'dissent': 0.00036683785766691124, 'sacrificed': 0.00036683785766691124, 'shuttered': 0.00036683785766691124, 'merely': 0.0, 'understanding': 0.00036683785766691124, 'First': 0.0, 'find': 0.0007336757153338225, 'based': 0.00036683785766691124, 'special': 0.0, 'Yet': 0.00036683785766691124, 'about': 0.0, 'foundation': 0.00036683785766691124, 'are': 0.008070432868672046, 'Khe': 0.00036683785766691124, 'build': 0.0007336757153338225, 'make': 0.0007336757153338225, 'stops': 0.0, 'face': 0.0007336757153338225, 'This': 0.001467351430667645, 'Founding': 0.00036683785766691124, 'faced': 0.0007336757153338225, 'stained': 0.00036683785766691124, 'scale': 0.00036683785766691124, 'expand': 0.00036683785766691124, 'broken': 0.00036683785766691124, 'gratitude': 0.00036683785766691124, 'honesty': 0.00036683785766691124, 'Afghanistan': 0.00036683785766691124, 'heard': 0.0, 'thank': 0.00036683785766691124, 'parent': 0.00036683785766691124, 'weakened': 0.00036683785766691124, 'millions': 0.0, 'example': 0.00036683785766691124, 'timeless': 0.00036683785766691124, 'never': 0.0007336757153338225, 'turn': 0.00036683785766691124, 'true': 0.0007336757153338225, 'those': 0.003668378576669112, 'refusing': 0.0, 'might': 0.0007336757153338225, 'strengthen': 0.00036683785766691124, 'remaking': 0.00036683785766691124, 'prosperous': 0.0007336757153338225, 'raise': 0.00036683785766691124, 'work': 0.0022010271460014674, 'lives': 0.0, 'rusted': 0.0, 'doing': 0.0, 'city': 0.00036683785766691124, 'destroy': 0.00036683785766691124, 'strong': 0.0, 'scarcely': 0.00036683785766691124, 'magnificent': 0.00036683785766691124, 'state': 0.00036683785766691124, 'infrastructure': 0.0, 'unity': 0.00036683785766691124, 'at': 0.0022010271460014674, 'thought': 0.0, 'lift': 0.0, 'bitter': 0.00036683785766691124, 'tribe': 0.00036683785766691124, 'office': 0.00036683785766691124, 'solidarity': 0.0, 'completely': 0.0, 'highways': 0.0, 'when': 0.0025678650036683784, 'childish': 0.00036683785766691124, 'struggling': 0.0, 'earth': 0.00036683785766691124, 'transferring': 0.0, 'pain': 0.0, 'depends': 0.00036683785766691124, 'charter': 0.0007336757153338225, 'Do': 0.0, 'around': 0.00036683785766691124, 'raging': 0.00036683785766691124}\n"
          ]
        }
      ]
    },
    {
      "cell_type": "markdown",
      "id": "professional-european",
      "metadata": {
        "id": "professional-european"
      },
      "source": [
        "## Challenge 05\n",
        "Now that we have our term frequency, let's calculate the Inverse Term Frequency (IDF) for a list of documents.\n",
        "\n",
        "\n",
        "\n",
        "We are going to use the original formula here: $\\log{\\frac{N}{n_t}}$, where $N$ is the number of documents and $n_t$ is the number of documents that contain the term $t$. Complete the `TODO X` sections."
      ]
    },
    {
      "cell_type": "code",
      "execution_count": 28,
      "id": "ethical-environment",
      "metadata": {
        "id": "ethical-environment"
      },
      "outputs": [],
      "source": [
        "import math\n",
        "\n",
        "def calculate_idf(docs):\n",
        "    N = len(docs)\n",
        "\n",
        "    # TODO 1 - Initialise a new dictionary with the keys from the documents and the values set to 0\n",
        "    idf = dict.fromkeys(docs[0].keys(), 0)\n",
        "\n",
        "    for doc in docs:\n",
        "        for word, val in doc.items():\n",
        "            if val > 0:\n",
        "                # TODO 2 - Increase the idf dictionary counter by one\n",
        "                idf[word] += 1\n",
        "\n",
        "\n",
        "    for word, val in idf.items():\n",
        "\n",
        "        idf[word] = math.log(N / float(val))\n",
        "#         print(word,val)\n",
        "#         print(idf[word])\n",
        "    return idf"
      ]
    },
    {
      "cell_type": "markdown",
      "id": "aquatic-textbook",
      "metadata": {
        "id": "aquatic-textbook"
      },
      "source": [
        "Now let's collect all the IDFs."
      ]
    },
    {
      "cell_type": "code",
      "execution_count": 29,
      "id": "specialized-bernard",
      "metadata": {
        "id": "specialized-bernard"
      },
      "outputs": [],
      "source": [
        "tfs = [tf_01, tf_02]\n",
        "idfs = calculate_idf(tfs)"
      ]
    },
    {
      "cell_type": "code",
      "source": [],
      "metadata": {
        "id": "YXCxtxxv2RRj"
      },
      "id": "YXCxtxxv2RRj",
      "execution_count": null,
      "outputs": []
    },
    {
      "cell_type": "markdown",
      "id": "posted-child",
      "metadata": {
        "id": "posted-child"
      },
      "source": [
        "## Challenge 06\n",
        "And finally... the TFIDF calculation.\n",
        "\n",
        "TFIDF stands for Term Frequency-Inverse Document Frequency. The TFIDF value increases proportionally to the number of times a word appears in the document but is offset by the frequency of the word in the corpus, which helps to adjust for the fact that some words appear more frequently in general.\n",
        "\n",
        "Calculate the TFIDF for all the documents. Complete the `TODO X` section."
      ]
    },
    {
      "cell_type": "code",
      "execution_count": null,
      "id": "frequent-superintendent",
      "metadata": {
        "id": "frequent-superintendent"
      },
      "outputs": [],
      "source": [
        "#The TF-IDF score of a term in a document is calculated as the\n",
        "#product of its term frequency (TF) and inverse document frequency (IDF).\n",
        "def calculate_tfidf(tfs, idfs):\n",
        "    tfidf = {}\n",
        "\n",
        "    for word, val in tfs.items():\n",
        "        # TODO - Calculate and store the tfidf\n",
        "        ...\n",
        "\n",
        "    return tfidf"
      ]
    },
    {
      "cell_type": "markdown",
      "id": "growing-inspection",
      "metadata": {
        "id": "growing-inspection"
      },
      "source": [
        "Let's test test the TFIDFs!"
      ]
    },
    {
      "cell_type": "code",
      "execution_count": null,
      "id": "spectacular-portland",
      "metadata": {
        "id": "spectacular-portland"
      },
      "outputs": [],
      "source": [
        "tfidf_01 = calculate_tfidf(tf_01, idfs)\n",
        "tfidf_02 = calculate_tfidf(tf_02, idfs)\n",
        "print(f\"Trump: {tfidf_01}\")\n",
        "print(f\"\\nObama: {tfidf_02}\")"
      ]
    },
    {
      "cell_type": "markdown",
      "id": "genuine-performer",
      "metadata": {
        "id": "genuine-performer"
      },
      "source": [
        "## Challenge 07\n",
        "Let's try it and then visualise it as a DataFrame!\n",
        "\n",
        "Try to fit the two dictionaries into a single DataFrame so that we can visualise it better. Complete the `TODO X` section."
      ]
    },
    {
      "cell_type": "code",
      "execution_count": null,
      "id": "included-print",
      "metadata": {
        "id": "included-print"
      },
      "outputs": [],
      "source": [
        "import pandas as pd\n",
        "\n",
        "# TODO\n",
        "df = ...\n",
        "df"
      ]
    },
    {
      "cell_type": "markdown",
      "id": "placed-muscle",
      "metadata": {
        "id": "placed-muscle"
      },
      "source": [
        "Now we have TFIDF feature vectors!"
      ]
    },
    {
      "cell_type": "markdown",
      "id": "union-bouquet",
      "metadata": {
        "id": "union-bouquet"
      },
      "source": [
        "# Language Model Experiments\n",
        "Let's play with some popular n-gram language models. We are going to use NLTK again for that and try to predict the sequence of words.\n",
        "\n",
        "First, let's import some libraries."
      ]
    },
    {
      "cell_type": "code",
      "execution_count": null,
      "id": "boring-bandwidth",
      "metadata": {
        "id": "boring-bandwidth"
      },
      "outputs": [],
      "source": [
        "from nltk.corpus import gutenberg\n",
        "from nltk.lm import WittenBellInterpolated, MLE, Laplace\n",
        "from nltk.util import ngrams, pad_sequence, everygrams"
      ]
    },
    {
      "cell_type": "markdown",
      "id": "signed-insulin",
      "metadata": {
        "id": "signed-insulin"
      },
      "source": [
        "Next we will build a function that performs the prediction based on MLE( Maximum Likelihood Estimation)"
      ]
    },
    {
      "cell_type": "code",
      "execution_count": null,
      "id": "changing-standard",
      "metadata": {
        "id": "changing-standard"
      },
      "outputs": [],
      "source": [
        "def build_mle_estimator(doc_name, n):\n",
        "    # Construct a list of lowercase words from the document\n",
        "    words = [w.lower() for w in inaugural.words(doc_name)]\n",
        "\n",
        "    # generate ngrams\n",
        "    ngrams = list(everygrams(words, max_len=n))\n",
        "\n",
        "    # build ngram language models\n",
        "    lm = MLE(n)\n",
        "    #The fit function below is used to fit an n-gram language model to the given text corpus.\n",
        "    #The fit function takes two arguments:\n",
        "    #ngrams: A list of n-grams (tuples of words) to use for training the language model.\n",
        "    #vocabulary_text: A list of words that represents the vocabulary of the language model.\n",
        "    lm.fit([ngrams], vocabulary_text=words)\n",
        "    print(lm.vocab)\n",
        "\n",
        "    return lm"
      ]
    },
    {
      "cell_type": "markdown",
      "id": "social-thriller",
      "metadata": {
        "id": "social-thriller"
      },
      "source": [
        "Build the estimator first."
      ]
    },
    {
      "cell_type": "code",
      "execution_count": null,
      "id": "silver-thousand",
      "metadata": {
        "id": "silver-thousand"
      },
      "outputs": [],
      "source": [
        "lm = build_mle_estimator(\"2017-Trump.txt\", 2)"
      ]
    },
    {
      "cell_type": "markdown",
      "id": "forward-stevens",
      "metadata": {
        "id": "forward-stevens"
      },
      "source": [
        "Now let's try it!"
      ]
    },
    {
      "cell_type": "code",
      "execution_count": null,
      "id": "african-charlotte",
      "metadata": {
        "id": "african-charlotte"
      },
      "outputs": [],
      "source": [
        "def print_lm_scores(lm):\n",
        "    print(f\"Probability of 'first' followed by 'america': {lm.score(word='america', context=['first']):.5f}\")\n",
        "    print(f\"Probability of 'america' followed by 'first': {lm.score(word='first', context=['america']):.5f}\")\n",
        "\n",
        "    print(f\"Probability of 'you' followed by 'thank': {lm.score(word='thank', context=['you']):.5f}\")\n",
        "    print(f\"Probability of 'thank' followed by 'you': {lm.score(word='you', context=['thank']):.5f}\")\n",
        "\n",
        "print_lm_scores(lm)"
      ]
    },
    {
      "cell_type": "markdown",
      "id": "hybrid-passion",
      "metadata": {
        "id": "hybrid-passion"
      },
      "source": [
        "## Challenge 08\n",
        "Try an add-one Laplace smoothing model instead."
      ]
    },
    {
      "cell_type": "code",
      "execution_count": null,
      "id": "environmental-little",
      "metadata": {
        "id": "environmental-little"
      },
      "outputs": [],
      "source": [
        "def build_laplace_estimator(doc_name, n):\n",
        "    # TODO - Implement a function simlar to `build_mle_estimator` that instead uses an add-one Laplace smoothing model.\n",
        "    # Hint: you might want to check the NLTK documentation (https://www.nltk.org/api/nltk.lm.html) on that!\n",
        "    ...\n",
        "\n",
        "    return lm"
      ]
    },
    {
      "cell_type": "markdown",
      "id": "preceding-board",
      "metadata": {
        "id": "preceding-board"
      },
      "source": [
        "Build this estimator as well."
      ]
    },
    {
      "cell_type": "code",
      "execution_count": null,
      "id": "august-soundtrack",
      "metadata": {
        "id": "august-soundtrack"
      },
      "outputs": [],
      "source": [
        "lm2 = build_laplace_estimator('2017-Trump.txt', 2)"
      ]
    },
    {
      "cell_type": "markdown",
      "id": "distinct-dining",
      "metadata": {
        "id": "distinct-dining"
      },
      "source": [
        "Now test it and observe any differences in the results."
      ]
    },
    {
      "cell_type": "code",
      "execution_count": null,
      "id": "steady-flush",
      "metadata": {
        "id": "steady-flush"
      },
      "outputs": [],
      "source": [
        "print_lm_scores(lm2)"
      ]
    },
    {
      "cell_type": "code",
      "source": [
        "from datasets import load_dataset\n",
        "\n",
        "ds = load_dataset(\"surrey-nlp/PLOD-CW\")"
      ],
      "metadata": {
        "id": "HNDNktCz2SgN",
        "outputId": "cdb83e32-ca1b-4db3-acbc-2cc367298a2a",
        "colab": {
          "base_uri": "https://localhost:8080/",
          "height": 349
        }
      },
      "id": "HNDNktCz2SgN",
      "execution_count": 30,
      "outputs": [
        {
          "output_type": "error",
          "ename": "ModuleNotFoundError",
          "evalue": "No module named 'datasets'",
          "traceback": [
            "\u001b[0;31m---------------------------------------------------------------------------\u001b[0m",
            "\u001b[0;31mModuleNotFoundError\u001b[0m                       Traceback (most recent call last)",
            "\u001b[0;32m<ipython-input-30-65eaf7364885>\u001b[0m in \u001b[0;36m<cell line: 0>\u001b[0;34m()\u001b[0m\n\u001b[0;32m----> 1\u001b[0;31m \u001b[0;32mfrom\u001b[0m \u001b[0mdatasets\u001b[0m \u001b[0;32mimport\u001b[0m \u001b[0mload_dataset\u001b[0m\u001b[0;34m\u001b[0m\u001b[0;34m\u001b[0m\u001b[0m\n\u001b[0m\u001b[1;32m      2\u001b[0m \u001b[0;34m\u001b[0m\u001b[0m\n\u001b[1;32m      3\u001b[0m \u001b[0mds\u001b[0m \u001b[0;34m=\u001b[0m \u001b[0mload_dataset\u001b[0m\u001b[0;34m(\u001b[0m\u001b[0;34m\"surrey-nlp/PLOD-CW\"\u001b[0m\u001b[0;34m)\u001b[0m\u001b[0;34m\u001b[0m\u001b[0;34m\u001b[0m\u001b[0m\n",
            "\u001b[0;31mModuleNotFoundError\u001b[0m: No module named 'datasets'",
            "",
            "\u001b[0;31m---------------------------------------------------------------------------\u001b[0;32m\nNOTE: If your import is failing due to a missing package, you can\nmanually install dependencies using either !pip or !apt.\n\nTo view examples of installing some common dependencies, click the\n\"Open Examples\" button below.\n\u001b[0;31m---------------------------------------------------------------------------\u001b[0m\n"
          ],
          "errorDetails": {
            "actions": [
              {
                "action": "open_url",
                "actionText": "Open Examples",
                "url": "/notebooks/snippets/importing_libraries.ipynb"
              }
            ]
          }
        }
      ]
    },
    {
      "cell_type": "code",
      "source": [],
      "metadata": {
        "id": "HGBxO0eY2TCr"
      },
      "id": "HGBxO0eY2TCr",
      "execution_count": null,
      "outputs": []
    }
  ],
  "metadata": {
    "kernelspec": {
      "display_name": "nlp24",
      "language": "python",
      "name": "python3"
    },
    "language_info": {
      "codemirror_mode": {
        "name": "ipython",
        "version": 3
      },
      "file_extension": ".py",
      "mimetype": "text/x-python",
      "name": "python",
      "nbconvert_exporter": "python",
      "pygments_lexer": "ipython3",
      "version": "3.10.13"
    },
    "colab": {
      "provenance": []
    }
  },
  "nbformat": 4,
  "nbformat_minor": 5
}