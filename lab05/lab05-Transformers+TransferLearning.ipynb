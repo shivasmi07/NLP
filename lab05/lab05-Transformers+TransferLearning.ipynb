{
  "cells": [
    {
      "cell_type": "markdown",
      "id": "a8bc51f4-78c8-4da1-be73-52471793417d",
      "metadata": {
        "id": "a8bc51f4-78c8-4da1-be73-52471793417d"
      },
      "source": [
        "# Lab 05 - Transformers\n",
        "The lab is adopted from the [popular PyTorch sentiment analysis tutorial by bentrevett](https://github.com/bentrevett/pytorch-sentiment-analysis/blob/master/6%20-%20Transformers%20for%20Sentiment%20Analysis.ipynb).\n",
        "\n",
        "In this notebook we will be using the transformer model, first introduced in [this](https://arxiv.org/abs/1706.03762) paper. Specifically, we will be using the BERT (Bidirectional Encoder Representations from Transformers) model from [this](https://arxiv.org/abs/1810.04805) paper.\n",
        "\n",
        "Transformer models are considerably larger than anything else covered so far in the module. As such we are going to use the [transformers library](https://github.com/huggingface/transformers) to `get pre-trained transformers and use them as our embedding layers`. We will freeze (not train) the transformer and only train a remainder of the model which learns from the representations produced by our frozen pre-trained Transformer. In this lab, we will be using a multi-layer Bi-directional Gated Recurrent Unit (BiGRU), however any neural network (MLP/LSTM/...) can learn from these representations.\n",
        "\n",
        "Additionally, it's important to note that transformer models like BERT come with their own pre-trained tokenizers. Since the pre-training process has already used a tokenizer to format the data prior to model input, you must utilize the same tokenizer designed to work seamlessly with it's respective model, ensuring that the text input is appropriately formatted. This includes tokenizing the text into tokens understood by the model, adding necessary special tokens, and converting these tokens into their corresponding ID numbers from the model's vocabulary, which is also a crucial part of our learning in this lab. As a result, we do not need to perform manual tokenization or vocabulary mapping steps, which significantly simplifies the preprocessing pipeline. By leveraging these integrated tokenizers, we ensure that our text data is processed in a manner that is fully compatible with the transformer model's requirements, allowing us to focus on fine-tuning the model for our specific task - `sentiment analysis`.\n",
        "\n",
        "Furthermore, BERT in an autoencoder stacked with up to 12 encoder layers as shown to you in the vanilla Transformers architecture. Different transformer models (like many popular decoder models - GPT/Llama/DeepSeek) utilize distinct tokenizers tailored to their architecture and training paradigms. For instance, models such as LLaMA (https://medium.com/@vyperius117/understanding-the-llama2-tokenizer-working-with-the-tokenizer-locally-using-transformers-2e0f9e69d786), GPT-4(https://www.youtube.com/watch?v=zduSFxRajkE&si=qXbrvMZSqPlwdKT6), and Mistral(https://keras.io/api/keras_nlp/models/mistral/mistral_tokenizer/) each come with their specialized tokenizers. One notable tokenizer that is widely used across various models is the SentencePiece tokenizer. Unlike traditional tokenizers that operate on the word level and may struggle with languages without clear word boundaries, SentencePiece tokenizes text at the subword level. This approach allows for a more flexible handling of unknown words, better preservation of linguistic information, and improved model performance across diverse languages. SentencePiece does not rely on pre-tokenization and works directly on the raw text, making it highly versatile and effective for a wide range of NLP tasks."
      ]
    },
    {
      "cell_type": "code",
      "execution_count": null,
      "id": "70ad4990",
      "metadata": {
        "id": "70ad4990",
        "outputId": "4ae69587-ef53-49f0-a2bf-b38c514bbadd"
      },
      "outputs": [
        {
          "data": {
            "text/html": [
              "<a target=\"_blank\" href=\"https://colab.research.google.com/github/surrey-nlp/NLP-2025/blob/main/lab05/lab05-Transformers%2BTransferLearning.ipynb\"><img src=\"https://colab.research.google.com/assets/colab-badge.svg\" alt=\"Open In Colab\"/></a>"
            ],
            "text/plain": [
              "<IPython.core.display.HTML object>"
            ]
          },
          "metadata": {},
          "output_type": "display_data"
        }
      ],
      "source": [
        "from IPython.display import HTML, display\n",
        "colab_button = HTML(\n",
        "    '<a target=\"_blank\" href=\"https://colab.research.google.com/github/surrey-nlp/NLP-2025/blob/main/lab05/lab05-Transformers%2BTransferLearning.ipynb\">'\n",
        "    '<img src=\"https://colab.research.google.com/assets/colab-badge.svg\" alt=\"Open In Colab\"/></a>'\n",
        ")\n",
        "display(colab_button)"
      ]
    },
    {
      "cell_type": "code",
      "execution_count": null,
      "id": "a58140ae-c3d5-492a-ad88-4ddb0a86efdc",
      "metadata": {
        "id": "a58140ae-c3d5-492a-ad88-4ddb0a86efdc",
        "outputId": "dc10d898-1c7b-489a-8a19-7b4fc98e0f3c"
      },
      "outputs": [
        {
          "name": "stdout",
          "output_type": "stream",
          "text": [
            "Looking in links: https://download.pytorch.org/whl/cu113/torch_stable.html\n",
            "Requirement already satisfied: torch==1.11.0+cu113 in c:\\users\\usind\\anaconda3\\envs\\nlp2022\\lib\\site-packages (1.11.0+cu113)\n",
            "Requirement already satisfied: torchdata==0.3.0 in c:\\users\\usind\\anaconda3\\envs\\nlp2022\\lib\\site-packages (0.3.0)\n",
            "Requirement already satisfied: torchtext==0.12.0 in c:\\users\\usind\\anaconda3\\envs\\nlp2022\\lib\\site-packages (0.12.0)\n",
            "Requirement already satisfied: typing-extensions in c:\\users\\usind\\anaconda3\\envs\\nlp2022\\lib\\site-packages (from torch==1.11.0+cu113) (4.5.0)\n",
            "Requirement already satisfied: urllib3>=1.25 in c:\\users\\usind\\anaconda3\\envs\\nlp2022\\lib\\site-packages (from torchdata==0.3.0) (1.26.14)\n",
            "Requirement already satisfied: requests in c:\\users\\usind\\anaconda3\\envs\\nlp2022\\lib\\site-packages (from torchdata==0.3.0) (2.28.2)\n",
            "Requirement already satisfied: numpy in c:\\users\\usind\\anaconda3\\envs\\nlp2022\\lib\\site-packages (from torchtext==0.12.0) (1.24.2)\n",
            "Requirement already satisfied: tqdm in c:\\users\\usind\\anaconda3\\envs\\nlp2022\\lib\\site-packages (from torchtext==0.12.0) (4.65.0)\n",
            "Requirement already satisfied: charset-normalizer<4,>=2 in c:\\users\\usind\\anaconda3\\envs\\nlp2022\\lib\\site-packages (from requests->torchdata==0.3.0) (3.0.1)\n",
            "Requirement already satisfied: certifi>=2017.4.17 in c:\\users\\usind\\anaconda3\\envs\\nlp2022\\lib\\site-packages (from requests->torchdata==0.3.0) (2022.12.7)\n",
            "Requirement already satisfied: idna<4,>=2.5 in c:\\users\\usind\\anaconda3\\envs\\nlp2022\\lib\\site-packages (from requests->torchdata==0.3.0) (3.4)\n",
            "Requirement already satisfied: colorama in c:\\users\\usind\\appdata\\roaming\\python\\python39\\site-packages (from tqdm->torchtext==0.12.0) (0.4.6)\n",
            "Note: you may need to restart the kernel to use updated packages.\n",
            "Requirement already satisfied: ipywidgets in c:\\users\\usind\\anaconda3\\envs\\nlp2022\\lib\\site-packages (8.0.5)\n",
            "Requirement already satisfied: transformers in c:\\users\\usind\\anaconda3\\envs\\nlp2022\\lib\\site-packages (4.26.1)\n",
            "Requirement already satisfied: tqdm in c:\\users\\usind\\anaconda3\\envs\\nlp2022\\lib\\site-packages (4.65.0)\n",
            "Requirement already satisfied: traitlets>=4.3.1 in c:\\users\\usind\\appdata\\roaming\\python\\python39\\site-packages (from ipywidgets) (5.9.0)\n",
            "Requirement already satisfied: jupyterlab-widgets~=3.0 in c:\\users\\usind\\anaconda3\\envs\\nlp2022\\lib\\site-packages (from ipywidgets) (3.0.6)\n",
            "Requirement already satisfied: ipython>=6.1.0 in c:\\users\\usind\\appdata\\roaming\\python\\python39\\site-packages (from ipywidgets) (8.10.0)\n",
            "Requirement already satisfied: widgetsnbextension~=4.0 in c:\\users\\usind\\anaconda3\\envs\\nlp2022\\lib\\site-packages (from ipywidgets) (4.0.6)\n",
            "Requirement already satisfied: pyyaml>=5.1 in c:\\users\\usind\\anaconda3\\envs\\nlp2022\\lib\\site-packages (from transformers) (6.0)\n",
            "Requirement already satisfied: filelock in c:\\users\\usind\\anaconda3\\envs\\nlp2022\\lib\\site-packages (from transformers) (3.12.0)\n",
            "Requirement already satisfied: regex!=2019.12.17 in c:\\users\\usind\\anaconda3\\envs\\nlp2022\\lib\\site-packages (from transformers) (2022.10.31)\n",
            "Requirement already satisfied: numpy>=1.17 in c:\\users\\usind\\anaconda3\\envs\\nlp2022\\lib\\site-packages (from transformers) (1.24.2)\n",
            "Requirement already satisfied: huggingface-hub<1.0,>=0.11.0 in c:\\users\\usind\\anaconda3\\envs\\nlp2022\\lib\\site-packages (from transformers) (0.12.1)\n",
            "Requirement already satisfied: requests in c:\\users\\usind\\anaconda3\\envs\\nlp2022\\lib\\site-packages (from transformers) (2.28.2)\n",
            "Requirement already satisfied: packaging>=20.0 in c:\\users\\usind\\appdata\\roaming\\python\\python39\\site-packages (from transformers) (23.0)\n",
            "Requirement already satisfied: tokenizers!=0.11.3,<0.14,>=0.11.1 in c:\\users\\usind\\anaconda3\\envs\\nlp2022\\lib\\site-packages (from transformers) (0.13.2)\n",
            "Requirement already satisfied: colorama in c:\\users\\usind\\appdata\\roaming\\python\\python39\\site-packages (from tqdm) (0.4.6)\n",
            "Requirement already satisfied: typing-extensions>=3.7.4.3 in c:\\users\\usind\\anaconda3\\envs\\nlp2022\\lib\\site-packages (from huggingface-hub<1.0,>=0.11.0->transformers) (4.5.0)\n",
            "Requirement already satisfied: decorator in c:\\users\\usind\\appdata\\roaming\\python\\python39\\site-packages (from ipython>=6.1.0->ipywidgets) (5.1.1)\n",
            "Requirement already satisfied: matplotlib-inline in c:\\users\\usind\\appdata\\roaming\\python\\python39\\site-packages (from ipython>=6.1.0->ipywidgets) (0.1.6)\n",
            "Requirement already satisfied: jedi>=0.16 in c:\\users\\usind\\appdata\\roaming\\python\\python39\\site-packages (from ipython>=6.1.0->ipywidgets) (0.18.2)\n",
            "Requirement already satisfied: backcall in c:\\users\\usind\\appdata\\roaming\\python\\python39\\site-packages (from ipython>=6.1.0->ipywidgets) (0.2.0)\n",
            "Requirement already satisfied: pygments>=2.4.0 in c:\\users\\usind\\appdata\\roaming\\python\\python39\\site-packages (from ipython>=6.1.0->ipywidgets) (2.14.0)\n",
            "Requirement already satisfied: stack-data in c:\\users\\usind\\appdata\\roaming\\python\\python39\\site-packages (from ipython>=6.1.0->ipywidgets) (0.6.2)\n",
            "Requirement already satisfied: pickleshare in c:\\users\\usind\\appdata\\roaming\\python\\python39\\site-packages (from ipython>=6.1.0->ipywidgets) (0.7.5)\n",
            "Requirement already satisfied: prompt-toolkit<3.1.0,>=3.0.30 in c:\\users\\usind\\appdata\\roaming\\python\\python39\\site-packages (from ipython>=6.1.0->ipywidgets) (3.0.36)\n",
            "Requirement already satisfied: charset-normalizer<4,>=2 in c:\\users\\usind\\anaconda3\\envs\\nlp2022\\lib\\site-packages (from requests->transformers) (3.0.1)\n",
            "Requirement already satisfied: idna<4,>=2.5 in c:\\users\\usind\\anaconda3\\envs\\nlp2022\\lib\\site-packages (from requests->transformers) (3.4)\n",
            "Requirement already satisfied: urllib3<1.27,>=1.21.1 in c:\\users\\usind\\anaconda3\\envs\\nlp2022\\lib\\site-packages (from requests->transformers) (1.26.14)\n",
            "Requirement already satisfied: certifi>=2017.4.17 in c:\\users\\usind\\anaconda3\\envs\\nlp2022\\lib\\site-packages (from requests->transformers) (2022.12.7)\n",
            "Requirement already satisfied: parso<0.9.0,>=0.8.0 in c:\\users\\usind\\appdata\\roaming\\python\\python39\\site-packages (from jedi>=0.16->ipython>=6.1.0->ipywidgets) (0.8.3)\n",
            "Requirement already satisfied: wcwidth in c:\\users\\usind\\appdata\\roaming\\python\\python39\\site-packages (from prompt-toolkit<3.1.0,>=3.0.30->ipython>=6.1.0->ipywidgets) (0.2.6)\n",
            "Requirement already satisfied: executing>=1.2.0 in c:\\users\\usind\\appdata\\roaming\\python\\python39\\site-packages (from stack-data->ipython>=6.1.0->ipywidgets) (1.2.0)\n",
            "Requirement already satisfied: pure-eval in c:\\users\\usind\\appdata\\roaming\\python\\python39\\site-packages (from stack-data->ipython>=6.1.0->ipywidgets) (0.2.2)\n",
            "Requirement already satisfied: asttokens>=2.1.0 in c:\\users\\usind\\appdata\\roaming\\python\\python39\\site-packages (from stack-data->ipython>=6.1.0->ipywidgets) (2.2.1)\n",
            "Requirement already satisfied: six in c:\\users\\usind\\appdata\\roaming\\python\\python39\\site-packages (from asttokens>=2.1.0->stack-data->ipython>=6.1.0->ipywidgets) (1.16.0)\n",
            "Note: you may need to restart the kernel to use updated packages.\n"
          ]
        }
      ],
      "source": [
        "# Install dependencies\n",
        "%pip install torch==2.0.1 torchvision==0.15.2 torchaudio==2.0.2\n",
        "%pip install torchdata==0.6.1 torchtext==0.15.2 portalocker==2.7.0\n",
        "%pip install ipywidgets transformers tqdm"
      ]
    },
    {
      "cell_type": "markdown",
      "id": "1db96ba8-b280-4351-b1da-979867934ddc",
      "metadata": {
        "id": "1db96ba8-b280-4351-b1da-979867934ddc"
      },
      "source": [
        "## Preparing Data\n",
        "\n",
        "First, as always, let's set the random seeds for deterministic results."
      ]
    },
    {
      "cell_type": "code",
      "execution_count": null,
      "id": "32fb9833-d824-45c5-88f4-53d0e0a07980",
      "metadata": {
        "id": "32fb9833-d824-45c5-88f4-53d0e0a07980",
        "outputId": "9b659b03-0b08-4cd1-e1a0-3cd069ea2e90"
      },
      "outputs": [
        {
          "name": "stdout",
          "output_type": "stream",
          "text": [
            "PyTorch Version:  1.11.0+cu113\n",
            "torchtext Version:  0.12.0\n",
            "Using GPU.\n"
          ]
        }
      ],
      "source": [
        "import torch\n",
        "import torchtext\n",
        "\n",
        "SEED = 1234\n",
        "DEVICE = torch.device(\"cuda\" if torch.cuda.is_available() else \"cpu\")\n",
        "torch.manual_seed(SEED)\n",
        "torch.backends.cudnn.deterministic = True\n",
        "\n",
        "print(\"PyTorch Version: \", torch.__version__)\n",
        "print(\"torchtext Version: \", torchtext.__version__)\n",
        "print(f\"Using {'GPU' if str(DEVICE) == 'cuda' else 'CPU'}.\")"
      ]
    },
    {
      "cell_type": "markdown",
      "id": "bbe14c15-686d-4b15-a9b1-35b89ca6e486",
      "metadata": {
        "id": "bbe14c15-686d-4b15-a9b1-35b89ca6e486"
      },
      "source": [
        "The transformer has already been trained with a specific vocabulary, which means we need to train with the exact same vocabulary and also tokenize our data in the same way that the transformer did when it was initially trained.\n",
        "\n",
        "Luckily, the transformers library has tokenizers for each of the transformer models provided. In this case we are using the BERT model which ignores casing (i.e. will lower case every word). We get this by loading the pre-trained `bert-base-uncased` tokenizer."
      ]
    },
    {
      "cell_type": "code",
      "execution_count": null,
      "id": "84c22d3f-6788-477d-b97e-db7824de5668",
      "metadata": {
        "id": "84c22d3f-6788-477d-b97e-db7824de5668"
      },
      "outputs": [],
      "source": [
        "from transformers import BertTokenizer\n",
        "tokenizer = BertTokenizer.from_pretrained('bert-base-uncased')"
      ]
    },
    {
      "cell_type": "markdown",
      "id": "25dfdd1c-138b-4f31-a837-43884765ca9f",
      "metadata": {
        "id": "25dfdd1c-138b-4f31-a837-43884765ca9f"
      },
      "source": [
        "The `tokenizer` has a `vocab` attribute which contains the actual vocabulary we will be using. We can check how many tokens are in it by checking its length."
      ]
    },
    {
      "cell_type": "code",
      "execution_count": null,
      "id": "0dbb4b06-589d-4f24-b9c0-98b17b461f77",
      "metadata": {
        "id": "0dbb4b06-589d-4f24-b9c0-98b17b461f77",
        "outputId": "7380f04e-7106-4494-ff2c-8067c47963b4"
      },
      "outputs": [
        {
          "data": {
            "text/plain": [
              "30522"
            ]
          },
          "execution_count": 4,
          "metadata": {},
          "output_type": "execute_result"
        }
      ],
      "source": [
        "len(tokenizer.vocab)"
      ]
    },
    {
      "cell_type": "markdown",
      "id": "ef89d498-6d71-4480-be49-d8e9338fea4b",
      "metadata": {
        "id": "ef89d498-6d71-4480-be49-d8e9338fea4b"
      },
      "source": [
        "Using the tokenizer is as simple as calling `tokenizer.tokenize` on a string. This will tokenize and lower case the data in a way that is consistent with the pre-trained transformer model."
      ]
    },
    {
      "cell_type": "code",
      "execution_count": null,
      "id": "1fa36312-4922-4d5f-9b26-dca8162775d5",
      "metadata": {
        "id": "1fa36312-4922-4d5f-9b26-dca8162775d5",
        "outputId": "beacdf9c-b1c1-4990-cf4e-fe083167ef17"
      },
      "outputs": [
        {
          "name": "stdout",
          "output_type": "stream",
          "text": [
            "['hello', 'world', 'how', 'are', 'you', '?']\n"
          ]
        }
      ],
      "source": [
        "tokens = tokenizer.tokenize('Hello WORLD how ARE yoU?')\n",
        "\n",
        "print(tokens)"
      ]
    },
    {
      "cell_type": "markdown",
      "id": "b3cafd0b",
      "metadata": {
        "id": "b3cafd0b"
      },
      "source": [
        "##### Handling punctuations\n",
        "The above text contains punctuations and it is also considered a seperate token. Now lets see some examples how spacing characters like tabs and newlines are handled by the BERT tokenizer."
      ]
    },
    {
      "cell_type": "code",
      "execution_count": null,
      "id": "febfdb25",
      "metadata": {
        "id": "febfdb25",
        "outputId": "46510480-f88c-4ffc-8a93-8837250e4c8f"
      },
      "outputs": [
        {
          "name": "stdout",
          "output_type": "stream",
          "text": [
            "{'input_ids': [[101, 7592, 2088, 102]], 'token_type_ids': [[0, 0, 0, 0]], 'attention_mask': [[1, 1, 1, 1]]}\n",
            "{'input_ids': [[101, 7592, 2088, 102]], 'token_type_ids': [[0, 0, 0, 0]], 'attention_mask': [[1, 1, 1, 1]]}\n",
            "{'input_ids': [[101, 7592, 2088, 102]], 'token_type_ids': [[0, 0, 0, 0]], 'attention_mask': [[1, 1, 1, 1]]}\n"
          ]
        }
      ],
      "source": [
        "# original input string\n",
        "print(tokenizer(['hello world']))\n",
        "\n",
        "# input string with tab (\\t) character\n",
        "print(tokenizer(['hello\tworld']))\n",
        "\n",
        "# input string with newline (\\n) character\n",
        "print(tokenizer(['''\n",
        "    hello\n",
        "    world\n",
        "''']))"
      ]
    },
    {
      "cell_type": "markdown",
      "id": "bd2c8983",
      "metadata": {
        "id": "bd2c8983"
      },
      "source": [
        "Whitespace is added before and after every punctuation character. This allows punctuation characters to be treated as separate input tokens, apart from the words that they are connected with in the input string.\n",
        "\n",
        "For example, the string \"hello, world!\" is split into following 6 tokens : \\\n",
        "[CLS] <br>\n",
        "hello <br>\n",
        ",  <br>\n",
        "world <br>  \n",
        "!  <br>\n",
        "[SEP] <br>"
      ]
    },
    {
      "cell_type": "code",
      "execution_count": null,
      "id": "02239f32",
      "metadata": {
        "id": "02239f32"
      },
      "outputs": [],
      "source": [
        "print(tokenizer(['hello, world!']))"
      ]
    },
    {
      "cell_type": "markdown",
      "id": "1b1b31c1",
      "metadata": {
        "id": "1b1b31c1"
      },
      "source": [
        "##### Out-of-vocabulary tokens\n",
        "The BERT Tokenizer’s vocabulary contains a limited set of unique tokens, which means that there is a possibility of coming across a token that is not present in the vocabulary. To handle such cases, the vocabulary contains a special token, [UNK] which is used to represent any “out-of-vocabulary” input token."
      ]
    },
    {
      "cell_type": "code",
      "execution_count": null,
      "id": "919c82d3",
      "metadata": {
        "id": "919c82d3"
      },
      "outputs": [],
      "source": [
        "# Print only the 'input_ids'\n",
        "print(tokenizer(['hello world 👋'])['input_ids'])\n",
        "\n",
        "# Use f-string for formatting (Python 3.6+) to access the token corresponding to id 100\n",
        "token_with_id_100 = list(tokenizer.get_vocab().keys())[list(tokenizer.get_vocab().values()).index(100)]\n",
        "print(f\"Token with id 100: {token_with_id_100}\")\n",
        "\n",
        "## Or, if you're using an older version of Python, use the .format() method\n",
        "#print(\"Token with id 100: {}\".format(token_with_id_100))"
      ]
    },
    {
      "cell_type": "markdown",
      "id": "ef251199-fe7a-465d-8977-b438aca69586",
      "metadata": {
        "id": "ef251199-fe7a-465d-8977-b438aca69586"
      },
      "source": [
        "We can numericalize tokens using our vocabulary using `tokenizer.convert_tokens_to_ids`."
      ]
    },
    {
      "cell_type": "code",
      "execution_count": null,
      "id": "8af3e7ff-da82-4f84-9b3a-3f1a68b9da2f",
      "metadata": {
        "id": "8af3e7ff-da82-4f84-9b3a-3f1a68b9da2f",
        "outputId": "af95ee7b-0cb0-46c8-fc7e-c9c68cc0883e"
      },
      "outputs": [
        {
          "name": "stdout",
          "output_type": "stream",
          "text": [
            "[7592, 2088, 2129, 2024, 2017, 1029]\n"
          ]
        }
      ],
      "source": [
        "tokens = tokenizer.tokenize('Hello WORLD how ARE yoU?')\n",
        "\n",
        "indexes = tokenizer.convert_tokens_to_ids(tokens)\n",
        "\n",
        "print(indexes)"
      ]
    },
    {
      "cell_type": "markdown",
      "id": "b492c97a-36ff-4d67-9938-c40ee7120ecc",
      "metadata": {
        "id": "b492c97a-36ff-4d67-9938-c40ee7120ecc"
      },
      "source": [
        "The transformer was also trained with special tokens to mark the beginning and end of the sentence, detailed [here](https://huggingface.co/transformers/model_doc/bert.html#transformers.BertModel). As well as a standard padding and unknown token. We can also get these from the tokenizer.\n",
        "\n",
        "**Note**: the tokenizer does have a beginning of sequence and end of sequence attributes (`bos_token` and `eos_token`) but these are not set and should not be used for this transformer."
      ]
    },
    {
      "cell_type": "code",
      "execution_count": null,
      "id": "fb547129-b732-4826-aa02-e88e9e242b58",
      "metadata": {
        "id": "fb547129-b732-4826-aa02-e88e9e242b58",
        "outputId": "8cfc9f68-633e-4379-8740-c3cb8ff76183"
      },
      "outputs": [
        {
          "name": "stdout",
          "output_type": "stream",
          "text": [
            "[CLS] [SEP] [PAD] [UNK]\n"
          ]
        }
      ],
      "source": [
        "init_token = tokenizer.cls_token\n",
        "eos_token = tokenizer.sep_token\n",
        "pad_token = tokenizer.pad_token\n",
        "unk_token = tokenizer.unk_token\n",
        "\n",
        "print(init_token, eos_token, pad_token, unk_token)"
      ]
    },
    {
      "cell_type": "markdown",
      "id": "938df413-a442-4ebd-bb00-de76d8199871",
      "metadata": {
        "id": "938df413-a442-4ebd-bb00-de76d8199871"
      },
      "source": [
        "We can get the indexes of the special tokens by converting them using the vocabulary..."
      ]
    },
    {
      "cell_type": "code",
      "execution_count": null,
      "id": "ceec3971-9284-4a64-8c87-8385d6edf0ea",
      "metadata": {
        "id": "ceec3971-9284-4a64-8c87-8385d6edf0ea",
        "outputId": "8052bbd9-48b6-40e5-c98a-ea7089f77630"
      },
      "outputs": [
        {
          "name": "stdout",
          "output_type": "stream",
          "text": [
            "101 102 0 100\n"
          ]
        }
      ],
      "source": [
        "init_token_idx = tokenizer.convert_tokens_to_ids(init_token)\n",
        "eos_token_idx = tokenizer.convert_tokens_to_ids(eos_token)\n",
        "pad_token_idx = ## Add correct call for converting pad_token to id.\n",
        "unk_token_idx = tokenizer.convert_tokens_to_ids(unk_token)\n",
        "\n",
        "print(init_token_idx, eos_token_idx, pad_token_idx, unk_token_idx)"
      ]
    },
    {
      "cell_type": "markdown",
      "id": "a53f4033-be32-4397-bbd7-a27cd2b2461f",
      "metadata": {
        "id": "a53f4033-be32-4397-bbd7-a27cd2b2461f"
      },
      "source": [
        "...or by explicitly getting them from the tokenizer."
      ]
    },
    {
      "cell_type": "code",
      "execution_count": null,
      "id": "8b690199-5a23-4bd4-ae4e-0bbce58b4310",
      "metadata": {
        "id": "8b690199-5a23-4bd4-ae4e-0bbce58b4310"
      },
      "outputs": [],
      "source": [
        "init_token_idx = tokenizer.cls_token_id\n",
        "eos_token_idx = tokenizer.sep_token_id\n",
        "pad_token_idx = tokenizer.pad_token_id\n",
        "unk_token_idx = ## Add correct tokenizer token id for unknown token.\n",
        "\n",
        "print(init_token_idx, eos_token_idx, pad_token_idx, unk_token_idx)"
      ]
    },
    {
      "cell_type": "markdown",
      "id": "763660ea-5ace-4744-9672-63e10e79070b",
      "metadata": {
        "id": "763660ea-5ace-4744-9672-63e10e79070b"
      },
      "source": [
        "Another thing we need to handle is that the model was trained on sequences with a defined maximum length - it does not know how to handle sequences longer than it has been trained on. We can get the maximum length of these input sizes by checking the `max_model_input_sizes` for the version of the transformer we want to use. In this case, it is 512 tokens."
      ]
    },
    {
      "cell_type": "code",
      "execution_count": null,
      "id": "d2392ed9-d43b-40cc-955f-8bc503bd05e9",
      "metadata": {
        "id": "d2392ed9-d43b-40cc-955f-8bc503bd05e9"
      },
      "outputs": [],
      "source": [
        "max_input_length = tokenizer.model_max_length\n",
        "print(max_input_length)"
      ]
    },
    {
      "cell_type": "markdown",
      "id": "f1728525-a97b-4c36-8854-ff9c69e4f99a",
      "metadata": {
        "id": "f1728525-a97b-4c36-8854-ff9c69e4f99a"
      },
      "source": [
        "Much like in the previous labs, we will need to define a pipeline component that will call the tokenizer and handle all the tokenization for us. We will also convert the tokenizer's vocab to a torchtext `Vocab` object."
      ]
    },
    {
      "cell_type": "code",
      "execution_count": null,
      "id": "8d6a9f50-fc13-4718-aca3-4401b04f593a",
      "metadata": {
        "id": "8d6a9f50-fc13-4718-aca3-4401b04f593a"
      },
      "outputs": [],
      "source": [
        "from torchtext.vocab import vocab\n",
        "from torchtext.data.utils import get_tokenizer\n",
        "\n",
        "class TransformerTokenizer(torch.nn.Module):\n",
        "    def __init__(self, tokenizer):\n",
        "        super().__init__()\n",
        "        self.tokenizer = tokenizer\n",
        "\n",
        "    def forward(self, input):\n",
        "        if isinstance(input, list):\n",
        "            tokens = []\n",
        "            for text in input:\n",
        "                tokens.append(self.tokenizer.tokenize(text))\n",
        "            return tokens\n",
        "        elif isinstance(input, str):\n",
        "            return self.tokenizer.tokenize(input)\n",
        "        raise ValueError(f\"Type {type(input)} is not supported.\")\n",
        "\n",
        "tokenizer_vocab = vocab(tokenizer.vocab, min_freq=0)"
      ]
    },
    {
      "cell_type": "markdown",
      "id": "bc4772cb-d81a-4ef5-877c-3dba1bd7e173",
      "metadata": {
        "id": "bc4772cb-d81a-4ef5-877c-3dba1bd7e173"
      },
      "source": [
        "We will then define our text processing pipeline.\n",
        "\n",
        "1. First we use the tokenizer to tokenize the text.\n",
        "2. Then we convert each token to its vocabulary ID.\n",
        "3. We will then cut the text to a maximum length. Note that the actual length we truncate to is 2 tokens shorter than the maximum length allowed by the model. This is because we will add two more tokens, one at the begginning and one at the end.\n",
        "4. Add the Beginning of Sentence token a the beginning.\n",
        "5. Add the End of Sentence token at the end.\n",
        "6. Convert to tensor and pad"
      ]
    },
    {
      "cell_type": "code",
      "execution_count": null,
      "id": "1c9c42bf-ff8c-4746-87d1-4d4bf3e67b97",
      "metadata": {
        "id": "1c9c42bf-ff8c-4746-87d1-4d4bf3e67b97"
      },
      "outputs": [],
      "source": [
        "import torchtext.transforms as T\n",
        "\n",
        "text_transform = T.Sequential(\n",
        "    TransformerTokenizer(tokenizer),  # Tokenize\n",
        "    T.VocabTransform(tokenizer_vocab),  # Convert to vocab IDs\n",
        "    T.Truncate(max_input_length - 2),  # Cut to max length\n",
        "    T.AddToken(token=tokenizer_vocab[\"[CLS]\"], begin=True),  # BOS token\n",
        "    T.AddToken(token=tokenizer_vocab[\"[SEP]\"], begin=False),  # EOS token\n",
        "    T.ToTensor(padding_value=tokenizer_vocab[\"[PAD]\"]),  # Convert to tensor and pad\n",
        ")"
      ]
    },
    {
      "cell_type": "markdown",
      "id": "92190364-9df1-4c97-a505-282e197ba8ef",
      "metadata": {
        "id": "92190364-9df1-4c97-a505-282e197ba8ef"
      },
      "source": [
        "We load the data and create the validation splits as before.\n",
        "\n",
        "**WARNING**: this will download the data in a hidden folder \".data\" and will take some time"
      ]
    },
    {
      "cell_type": "code",
      "execution_count": null,
      "id": "19452267-7dc9-49fa-92f1-6de1535fe3ca",
      "metadata": {
        "id": "19452267-7dc9-49fa-92f1-6de1535fe3ca"
      },
      "outputs": [],
      "source": [
        "from torchtext.datasets import IMDB\n",
        "from torchtext.data.functional import to_map_style_dataset\n",
        "\n",
        "# Load dataset\n",
        "train_data_full, test_data_full = IMDB(root=\"./\", split=(\"train\", \"test\"))\n",
        "\n",
        "# Convert to map style\n",
        "train_data_full = to_map_style_dataset(train_data_full)\n",
        "test_data_full = ## Add same function call from above but for test_data_full."
      ]
    },
    {
      "cell_type": "markdown",
      "id": "65cf8061-82db-432c-a94e-abd564d72495",
      "metadata": {
        "id": "65cf8061-82db-432c-a94e-abd564d72495"
      },
      "source": [
        "Since the dataset is substantial (several thousand examples), for this lab we will limit this to just a few ($1000$, but feel free to reduce further) so that the training can finish in approximately 5-10 min. Obviously the model will not really perform well with such small amount of data, so ideally you would run this overnight or on a GPU device to get the model to train properly."
      ]
    },
    {
      "cell_type": "code",
      "execution_count": null,
      "id": "1e05079d-8b7c-44bd-a20e-67da95dcd30f",
      "metadata": {
        "id": "1e05079d-8b7c-44bd-a20e-67da95dcd30f"
      },
      "outputs": [],
      "source": [
        "from torch.utils.data import random_split\n",
        "\n",
        "print(\"Full train data:\", len(train_data_full))\n",
        "print(\"Full test data:\", len(test_data_full))\n",
        "\n",
        "N_SAMPLES = 1_000\n",
        "\n",
        "# Validation split\n",
        "split_ratio = 0.7  # 70/30 split\n",
        "train_samples = int(split_ratio * N_SAMPLES)\n",
        "valid_samples = int((1 - split_ratio) * N_SAMPLES)\n",
        "test_samples = N_SAMPLES\n",
        "rest_samples = len(train_data_full + test_data_full) - (2 * N_SAMPLES)  # Rest of the data\n",
        "\n",
        "# Split the entire dataset (train + test) *randomly* into our new train, valid, test sets\n",
        "train_data, valid_data, test_data, rest_data = random_split(train_data_full + test_data_full, [train_samples, valid_samples, test_samples, rest_samples])\n",
        "\n",
        "print(\"\\nTrimmed train data:\", len(train_data))\n",
        "print(\"Validation data:\", len(valid_data))\n",
        "print(\"Trimmed test data:\", len(test_data))"
      ]
    },
    {
      "cell_type": "code",
      "execution_count": null,
      "id": "e0233874-bf02-4ead-af5b-b5d345f11a32",
      "metadata": {
        "id": "e0233874-bf02-4ead-af5b-b5d345f11a32"
      },
      "outputs": [],
      "source": [
        "print(f\"Number of training examples: {len(train_data)}\")\n",
        "print(f\"Number of validation examples: {len(valid_data)}\")\n",
        "print(f\"Number of testing examples: {len(test_data)}\")"
      ]
    },
    {
      "cell_type": "markdown",
      "id": "b01f4117-83f2-42e0-af1f-d786cd6302ca",
      "metadata": {
        "id": "b01f4117-83f2-42e0-af1f-d786cd6302ca"
      },
      "source": [
        "Although we've handled the vocabulary for the text, we still need to build the vocabulary for the labels."
      ]
    },
    {
      "cell_type": "code",
      "execution_count": null,
      "id": "2cc15932-50c1-4902-bbd8-b6f4e9297f84",
      "metadata": {
        "id": "2cc15932-50c1-4902-bbd8-b6f4e9297f84"
      },
      "outputs": [],
      "source": [
        "from collections import OrderedDict\n",
        "## CHALLENGE - VERIFY IF THE BELOW LINE IS CORRECT? If not, rectify based on your understanding of mapping labels.\n",
        "label_vocab = vocab(OrderedDict([(\"neg\", 1), (\"pos\", 1)]))"
      ]
    },
    {
      "cell_type": "code",
      "execution_count": null,
      "id": "610dab91-2a58-4df5-8dce-967a7ccc2803",
      "metadata": {
        "id": "610dab91-2a58-4df5-8dce-967a7ccc2803"
      },
      "outputs": [],
      "source": [
        "print(label_vocab.get_stoi())"
      ]
    },
    {
      "cell_type": "markdown",
      "id": "9e2d5363-0bec-4a63-b140-2ea6f9f762f1",
      "metadata": {
        "id": "9e2d5363-0bec-4a63-b140-2ea6f9f762f1"
      },
      "source": [
        "Finally, the label processing pipeline:"
      ]
    },
    {
      "cell_type": "code",
      "execution_count": null,
      "id": "a63d09c8-1db9-4f12-8b4f-62055b0e6990",
      "metadata": {
        "id": "a63d09c8-1db9-4f12-8b4f-62055b0e6990"
      },
      "outputs": [],
      "source": [
        "label_transform = T.Sequential(\n",
        "    T.LabelToIndex(label_vocab.get_itos()),  # Convert to integer\n",
        "    T.ToTensor(),  # Convert to tensor\n",
        ")"
      ]
    },
    {
      "cell_type": "markdown",
      "id": "2daf322d-f384-40c8-a83d-393d7a11ceff",
      "metadata": {
        "id": "2daf322d-f384-40c8-a83d-393d7a11ceff"
      },
      "source": [
        "As before, we create the `DataLoader`s.\n",
        "\n",
        "Note that the batch size is smaller than usual. This is mostly to speed up training. In a usual scenario this should be 128."
      ]
    },
    {
      "cell_type": "code",
      "execution_count": null,
      "id": "12f0b657-c75d-427b-9881-a5b5fbeb989c",
      "metadata": {
        "id": "12f0b657-c75d-427b-9881-a5b5fbeb989c"
      },
      "outputs": [],
      "source": [
        "from torch.utils.data import DataLoader\n",
        "\n",
        "#The dataset from torchtext is labelled with 1 and 2, we therefore need to map this to string so that the transform function works\n",
        "mapping = {1: 'neg', 2: 'pos'}\n",
        "BATCH_SIZE = 64\n",
        "\n",
        "def collate_batch(batch):\n",
        "    labels, texts = zip(*batch)\n",
        "\n",
        "    #We map the numerical labels to string labels\n",
        "    labels = [mapping[label] for label in labels]\n",
        "    labels = label_transform(list(labels))\n",
        "    texts = text_transform(list(texts))\n",
        "\n",
        "    return labels.float().to(DEVICE), texts.to(DEVICE)\n",
        "\n",
        "def _get_dataloader(data):\n",
        "    return DataLoader(data, batch_size=BATCH_SIZE, shuffle=True, collate_fn=collate_batch)\n",
        "\n",
        "train_dataloader = _get_dataloader(train_data)\n",
        "valid_dataloader = _get_dataloader(valid_data)\n",
        "test_dataloader = _get_dataloader(test_data)"
      ]
    },
    {
      "cell_type": "markdown",
      "id": "b9682e83-6b96-4c2a-a06e-ce75e8507f9f",
      "metadata": {
        "id": "b9682e83-6b96-4c2a-a06e-ce75e8507f9f"
      },
      "source": [
        "## Build the Model\n",
        "\n",
        "Next, we'll load the pre-trained model, making sure to load the same model as we did for the tokenizer."
      ]
    },
    {
      "cell_type": "code",
      "execution_count": null,
      "id": "e3175f53-827a-4d97-a89b-b9bfb3807f5a",
      "metadata": {
        "id": "e3175f53-827a-4d97-a89b-b9bfb3807f5a"
      },
      "outputs": [],
      "source": [
        "from transformers import BertTokenizer, BertModel\n",
        "\n",
        "bert = BertModel.from_pretrained('bert-base-uncased')"
      ]
    },
    {
      "cell_type": "markdown",
      "id": "84093a3e-a146-4310-8ca9-cb72fde28687",
      "metadata": {
        "id": "84093a3e-a146-4310-8ca9-cb72fde28687"
      },
      "source": [
        "Next, we'll define our actual model.\n",
        "\n",
        "Instead of using an embedding layer to get embeddings for our text, we'll be using the pre-trained transformer model. These embeddings will then be fed into a GRU to produce a prediction for the sentiment of the input sentence. We can get the embedding dimension size (called the `hidden_size`) from the transformer via its config attribute. The rest of the initialization is standard.\n",
        "\n",
        "**Challenge**: Fill in the `TODO` segments to define the model's standard PyTorch layers.\n",
        "\n",
        "Within the forward pass, we wrap the transformer in a `no_grad` to ensure no gradients are calculated over this part of the model. The transformer actually returns the embeddings for the whole sequence as well as a *pooled* output. The [documentation](https://huggingface.co/transformers/model_doc/bert.html#transformers.BertModel) states that the pooled output is \"usually not a good summary of the semantic content of the input, you’re often better with averaging or pooling the sequence of hidden-states for the whole input sequence\", hence we will not be using it. The rest of the forward pass is the standard implementation of a recurrent model, where we take the hidden state over the final time-step, and pass it through a linear layer to get our predictions."
      ]
    },
    {
      "cell_type": "code",
      "execution_count": null,
      "id": "d5700fd1-7246-4d55-abf4-fd47a335f0ff",
      "metadata": {
        "id": "d5700fd1-7246-4d55-abf4-fd47a335f0ff"
      },
      "outputs": [],
      "source": [
        "import torch.nn as nn\n",
        "\n",
        "class BERTGRUSentiment(nn.Module):\n",
        "    def __init__(self, bert, hidden_dim, output_dim, n_layers, bidirectional, dropout):\n",
        "        super().__init__()\n",
        "\n",
        "        self.bert = bert\n",
        "        self.embedding_dim = bert.config.to_dict()['hidden_size']\n",
        "\n",
        "        # TODO - Define a GRU layer with n_layers layers\n",
        "        # bidirectionality conditional on the bidirectional variable, and\n",
        "        # dropout if there are more than two layers present.\n",
        "        # Note that the batch dimension should be first.\n",
        "        # You can take a look at Lab 6 for inspiration on PyTorch's recurrent unit API,\n",
        "        # or look at the GRU documentation:\n",
        "        # https://pytorch.org/docs/stable/generated/torch.nn.GRU.html\n",
        "        self.rnn = ...\n",
        "\n",
        "        # TODO - Define a linear layer that takes the GRU output and transforms it to a dimensionality\n",
        "        # of output_dim.\n",
        "        # Hint: consider what the in_features argument should be if the GRU is bidirectional and each\n",
        "        # direction has dimensionality of hidden_dim\n",
        "        self.out = ...\n",
        "\n",
        "        # TODO - Define a dropout layer\n",
        "        self.dropout = ...\n",
        "\n",
        "    def forward(self, text):\n",
        "\n",
        "        with torch.no_grad():\n",
        "            embedded = self.bert(text)[0]\n",
        "\n",
        "        _, hidden = self.rnn(embedded)\n",
        "\n",
        "        if self.rnn.bidirectional:\n",
        "            hidden = self.dropout(torch.cat((hidden[-2,:,:], hidden[-1,:,:]), dim = 1))\n",
        "        else:\n",
        "            hidden = self.dropout(hidden[-1,:,:])\n",
        "\n",
        "        return self.out(hidden)"
      ]
    },
    {
      "cell_type": "markdown",
      "id": "c343865b-a61b-4aca-bbbc-ab926c774109",
      "metadata": {
        "id": "c343865b-a61b-4aca-bbbc-ab926c774109"
      },
      "source": [
        "Next, we create an instance of our model using standard hyperparameters."
      ]
    },
    {
      "cell_type": "code",
      "execution_count": null,
      "id": "e5de1de9-1167-4f23-8cfd-a5e5d1f78357",
      "metadata": {
        "id": "e5de1de9-1167-4f23-8cfd-a5e5d1f78357"
      },
      "outputs": [],
      "source": [
        "HIDDEN_DIM = 64  # 256 is better, less than 64 is not very favourable.\n",
        "OUTPUT_DIM = 1  # We only need one neuron as output\n",
        "N_LAYERS = 2\n",
        "BIDIRECTIONAL = True\n",
        "DROPOUT = 0.25\n",
        "\n",
        "model = BERTGRUSentiment(bert, HIDDEN_DIM, OUTPUT_DIM, N_LAYERS, BIDIRECTIONAL, DROPOUT)"
      ]
    },
    {
      "cell_type": "markdown",
      "id": "bbdf0d28-e246-4ccc-ba04-e0947ce65254",
      "metadata": {
        "id": "bbdf0d28-e246-4ccc-ba04-e0947ce65254"
      },
      "source": [
        "We can check how many parameters the model has. Our standard models have under 5M, but this one has 110M! Luckily, most of these parameters are from the transformer and we will not be training those."
      ]
    },
    {
      "cell_type": "code",
      "execution_count": null,
      "id": "00ece71f-d134-442f-a010-5b7103034201",
      "metadata": {
        "id": "00ece71f-d134-442f-a010-5b7103034201"
      },
      "outputs": [],
      "source": [
        "def count_parameters(model):\n",
        "    return sum(p.numel() for p in model.parameters() if p.requires_grad)\n",
        "\n",
        "print(f'The model has {count_parameters(model):,} trainable parameters')"
      ]
    },
    {
      "cell_type": "markdown",
      "id": "6fa6c8d8-663b-463e-86d5-6d43667f3713",
      "metadata": {
        "id": "6fa6c8d8-663b-463e-86d5-6d43667f3713"
      },
      "source": [
        "In order to freeze paramers (not train them) we need to set their `requires_grad` attribute to `False`. To do this, we simply loop through all of the `named_parameters` in our model and if they're a part of the `bert` transformer model, we set `requires_grad = False`."
      ]
    },
    {
      "cell_type": "code",
      "execution_count": null,
      "id": "16c933fe-4de3-4ba9-aece-5bc876ba4b0d",
      "metadata": {
        "id": "16c933fe-4de3-4ba9-aece-5bc876ba4b0d"
      },
      "outputs": [],
      "source": [
        "for name, param in model.named_parameters():\n",
        "    if name.startswith('bert'):\n",
        "        param.requires_grad = False"
      ]
    },
    {
      "cell_type": "code",
      "execution_count": null,
      "id": "bf1fe1fa-4cd8-4d9f-bce2-703cbe992bef",
      "metadata": {
        "id": "bf1fe1fa-4cd8-4d9f-bce2-703cbe992bef"
      },
      "outputs": [],
      "source": [
        "def count_parameters(model):\n",
        "    return sum(p.numel() for p in model.parameters() if p.requires_grad)\n",
        "\n",
        "print(f'The model has {count_parameters(model):,} trainable parameters')"
      ]
    },
    {
      "cell_type": "markdown",
      "id": "967d88a8-835f-4247-8483-efd1dcf69c4e",
      "metadata": {
        "id": "967d88a8-835f-4247-8483-efd1dcf69c4e"
      },
      "source": [
        "We can now see that our model has under 3M trainable parameters, making it almost comparable to the `FastText` model. However, the text still has to propagate through the transformer which causes training to take considerably longer."
      ]
    },
    {
      "cell_type": "markdown",
      "id": "dfc47b94-8f04-448d-a0aa-f51dda81da45",
      "metadata": {
        "id": "dfc47b94-8f04-448d-a0aa-f51dda81da45"
      },
      "source": [
        "We can double check the names of the trainable parameters, ensuring they make sense. As we can see, they are all the parameters of the GRU (`rnn`) and the linear layer (`out`)."
      ]
    },
    {
      "cell_type": "code",
      "execution_count": null,
      "id": "10fb0801-3dfa-4327-b2f4-90a5c21c8b7c",
      "metadata": {
        "id": "10fb0801-3dfa-4327-b2f4-90a5c21c8b7c"
      },
      "outputs": [],
      "source": [
        "for name, param in model.named_parameters():\n",
        "    if param.requires_grad:\n",
        "        print(name)"
      ]
    },
    {
      "cell_type": "markdown",
      "id": "4cdac117-87b5-4cd9-a82d-f0ab24a84f4e",
      "metadata": {
        "id": "4cdac117-87b5-4cd9-a82d-f0ab24a84f4e"
      },
      "source": [
        "## Train the Model\n",
        "\n",
        "As is standard, we define our optimizer and criterion (loss function)."
      ]
    },
    {
      "cell_type": "code",
      "execution_count": null,
      "id": "5e58bfb1-9b40-4a4b-a483-e5f995289cbc",
      "metadata": {
        "id": "5e58bfb1-9b40-4a4b-a483-e5f995289cbc"
      },
      "outputs": [],
      "source": [
        "import torch.optim as optim\n",
        "\n",
        "optimizer = optim.Adam(model.parameters())"
      ]
    },
    {
      "cell_type": "code",
      "execution_count": null,
      "id": "a3595f3e-dd1c-46ee-8a80-21c118582ab3",
      "metadata": {
        "id": "a3595f3e-dd1c-46ee-8a80-21c118582ab3"
      },
      "outputs": [],
      "source": [
        "criterion = nn.BCEWithLogitsLoss()"
      ]
    },
    {
      "cell_type": "markdown",
      "id": "12eb25f7-04d2-4103-aa42-bcc838b862cd",
      "metadata": {
        "id": "12eb25f7-04d2-4103-aa42-bcc838b862cd"
      },
      "source": [
        "Place the model and criterion onto the GPU (if available)"
      ]
    },
    {
      "cell_type": "code",
      "execution_count": null,
      "id": "275d741f-f28c-4d2f-8033-61ffb7465e3c",
      "metadata": {
        "id": "275d741f-f28c-4d2f-8033-61ffb7465e3c"
      },
      "outputs": [],
      "source": [
        "model = model.to(DEVICE)\n",
        "criterion = criterion.to(DEVICE)"
      ]
    },
    {
      "cell_type": "markdown",
      "id": "3f1d3a31-a033-4507-b170-c12f25d2b3b1",
      "metadata": {
        "id": "3f1d3a31-a033-4507-b170-c12f25d2b3b1"
      },
      "source": [
        "Next, we'll define functions for: calculating accuracy, performing a training epoch, performing an evaluation epoch and calculating how long a training/evaluation epoch takes."
      ]
    },
    {
      "cell_type": "code",
      "execution_count": null,
      "id": "87dd3ecd-7e5a-4d7e-b365-4f7e44544f60",
      "metadata": {
        "id": "87dd3ecd-7e5a-4d7e-b365-4f7e44544f60"
      },
      "outputs": [],
      "source": [
        "def binary_accuracy(preds, y):\n",
        "    \"\"\"\n",
        "    Returns accuracy per batch, i.e. if you get 8/10 right, this returns 0.8, NOT 8\n",
        "    \"\"\"\n",
        "\n",
        "    #round predictions to the closest integer\n",
        "    rounded_preds = torch.round(torch.sigmoid(preds))\n",
        "    correct = (rounded_preds == y).float() #convert into float for division\n",
        "    acc = correct.sum() / len(correct)\n",
        "    return acc"
      ]
    },
    {
      "cell_type": "code",
      "execution_count": null,
      "id": "9cec7d4a-1f45-4543-8fd6-b196efaab142",
      "metadata": {
        "id": "9cec7d4a-1f45-4543-8fd6-b196efaab142"
      },
      "outputs": [],
      "source": [
        "from tqdm import tqdm\n",
        "\n",
        "def train(model, iterator, optimizer, criterion):\n",
        "    epoch_loss = 0\n",
        "    epoch_acc = 0\n",
        "\n",
        "    model.train()\n",
        "\n",
        "    for batch in tqdm(iterator, desc=\"\\tTraining\"):\n",
        "        optimizer.zero_grad()\n",
        "\n",
        "        labels, texts, lengths = batch  # TODO: this has to match the order in collate_batch\n",
        "        predictions = model(texts, lengths).squeeze(1)\n",
        "        loss = criterion(predictions, labels)\n",
        "        acc = binary_accuracy(predictions, labels)\n",
        "\n",
        "        loss.backward()\n",
        "        optimizer.step()\n",
        "\n",
        "        epoch_loss += loss.item()\n",
        "        epoch_acc += acc.item()\n",
        "\n",
        "    return epoch_loss / len(iterator), epoch_acc / len(iterator)"
      ]
    },
    {
      "cell_type": "code",
      "execution_count": null,
      "id": "66605c0b-9bd5-4519-8a1c-aec29f7a945d",
      "metadata": {
        "id": "66605c0b-9bd5-4519-8a1c-aec29f7a945d"
      },
      "outputs": [],
      "source": [
        "from tqdm import tqdm\n",
        "\n",
        "def evaluate(model, iterator, criterion):\n",
        "    epoch_loss = 0\n",
        "    epoch_acc = 0\n",
        "\n",
        "    model.eval()\n",
        "\n",
        "    with torch.no_grad():\n",
        "        for batch in tqdm(iterator, desc=\"\\tEvaluation\"):\n",
        "            labels, texts, lengths = batch  # TODO: this has to match the order in collate_batch\n",
        "            predictions = model(texts, lengths).squeeze(1)\n",
        "            loss = criterion(predictions, labels)\n",
        "            acc = binary_accuracy(predictions, labels)\n",
        "\n",
        "            epoch_loss += loss.item()\n",
        "            epoch_acc += acc.item()\n",
        "\n",
        "    return epoch_loss / len(iterator), epoch_acc / len(iterator)"
      ]
    },
    {
      "cell_type": "code",
      "execution_count": null,
      "id": "e2cbbab1-8436-4a0d-9570-67c977e32191",
      "metadata": {
        "id": "e2cbbab1-8436-4a0d-9570-67c977e32191"
      },
      "outputs": [],
      "source": [
        "import time\n",
        "\n",
        "def epoch_time(start_time, end_time):\n",
        "    elapsed_time = end_time - start_time\n",
        "    elapsed_mins = int(elapsed_time / 60)\n",
        "    elapsed_secs = int(elapsed_time - (elapsed_mins * 60))\n",
        "    return elapsed_mins, elapsed_secs"
      ]
    },
    {
      "cell_type": "markdown",
      "id": "157aea17-4a6d-4a9f-b32e-d6a8667ff927",
      "metadata": {
        "id": "157aea17-4a6d-4a9f-b32e-d6a8667ff927"
      },
      "source": [
        "Finally, we'll train our model. This takes considerably longer than any of the previous models due to the size of the transformer. Even though we are not training any of the transformer's parameters we still need to pass the data through the model which takes a considerable amount of time on a standard GPU.\n",
        "\n",
        "The performance won't be great due to using a subset of the data, a small number of epochs and small batches, but raising those values should yield considerably better performance."
      ]
    },
    {
      "cell_type": "code",
      "execution_count": null,
      "id": "9b7e8055-c612-4206-81c2-f9e0d774018c",
      "metadata": {
        "id": "9b7e8055-c612-4206-81c2-f9e0d774018c"
      },
      "outputs": [],
      "source": [
        "# TODO: You will get an error when you run this section, read the error message and fix the issue.\n",
        "# Hint: Take a look at your train and evaluate function\n",
        "\n",
        "N_EPOCHS = 5\n",
        "\n",
        "best_valid_loss = float('inf')\n",
        "print(f\"Using {'GPU' if str(DEVICE) == 'cuda' else 'CPU'} for training.\")\n",
        "\n",
        "for epoch in range(N_EPOCHS):\n",
        "    print(f'Epoch: {epoch+1:02}')\n",
        "    start_time = time.time()\n",
        "\n",
        "    train_loss, train_acc = train(model, train_dataloader, optimizer, criterion)\n",
        "    print(f'\\tTrain Loss: {train_loss:.3f} | Train Acc: {train_acc*100:.2f}%')\n",
        "\n",
        "    valid_loss, valid_acc = evaluate(model, valid_dataloader, criterion)\n",
        "    print(f'\\t Val. Loss: {valid_loss:.3f} |  Val. Acc: {valid_acc*100:.2f}%')\n",
        "\n",
        "    end_time = time.time()\n",
        "\n",
        "    epoch_mins, epoch_secs = epoch_time(start_time, end_time)\n",
        "\n",
        "    if valid_loss < best_valid_loss:\n",
        "        best_valid_loss = valid_loss\n",
        "        torch.save(model.state_dict(), 'transformer-model.pt')"
      ]
    },
    {
      "cell_type": "markdown",
      "id": "6a82b1d4-452c-46c5-95bf-f6af295b1773",
      "metadata": {
        "id": "6a82b1d4-452c-46c5-95bf-f6af295b1773"
      },
      "source": [
        "We'll load up the parameters that gave us the best validation loss and try these on the test set - which gives us our best results so far!"
      ]
    },
    {
      "cell_type": "code",
      "execution_count": null,
      "id": "7dda5694-5973-4267-84f7-d7571859f318",
      "metadata": {
        "id": "7dda5694-5973-4267-84f7-d7571859f318"
      },
      "outputs": [],
      "source": [
        "model.load_state_dict(torch.load('transformer-model.pt'))\n",
        "\n",
        "# If you want to load a model trained on a GPU, but the current device is on CPU, then you need to explicitly state that\n",
        "# >>> model.load_state_dict(torch.load('tut6-model.pt', map_location=torch.device('cpu')))"
      ]
    },
    {
      "cell_type": "code",
      "execution_count": null,
      "id": "99fbd71d-96e1-4b64-b032-9ce49a32b400",
      "metadata": {
        "id": "99fbd71d-96e1-4b64-b032-9ce49a32b400"
      },
      "outputs": [],
      "source": [
        "test_loss, test_acc = evaluate(model, test_dataloader, criterion)\n",
        "\n",
        "print(f'Test Loss: {test_loss:.3f} | Test Acc: {test_acc*100:.2f}%')"
      ]
    },
    {
      "cell_type": "markdown",
      "id": "c5c9f993-24cb-4831-a9a1-4e1ea1d41d4f",
      "metadata": {
        "id": "c5c9f993-24cb-4831-a9a1-4e1ea1d41d4f"
      },
      "source": [
        "## Inference\n",
        "\n",
        "We'll then use the model to test the sentiment of some sequences. We tokenize the input sequence, trim it down to the maximum length, add the special tokens to either side, convert it to a tensor, add a fake batch dimension and then pass it through our model."
      ]
    },
    {
      "cell_type": "code",
      "execution_count": null,
      "id": "5f91d7ea-acd7-4418-99e2-be6e4e4b3738",
      "metadata": {
        "id": "5f91d7ea-acd7-4418-99e2-be6e4e4b3738"
      },
      "outputs": [],
      "source": [
        "def predict_sentiment(model, tokenizer, sentence):\n",
        "    model.eval()\n",
        "    tokens = tokenizer.tokenize(sentence)\n",
        "    tokens = tokens[:max_input_length-2]\n",
        "    indexed = [init_token_idx] + tokenizer.convert_tokens_to_ids(tokens) + [eos_token_idx]\n",
        "    tensor = torch.LongTensor(indexed).to(DEVICE)\n",
        "    tensor = tensor.unsqueeze(0)\n",
        "    prediction = torch.sigmoid(model(tensor))\n",
        "    return prediction.item()"
      ]
    },
    {
      "cell_type": "code",
      "execution_count": null,
      "id": "29cac87a-fde0-4de1-9f79-028047b36c21",
      "metadata": {
        "id": "29cac87a-fde0-4de1-9f79-028047b36c21"
      },
      "outputs": [],
      "source": [
        "predict_sentiment(model, tokenizer, \"This film is terrible\")"
      ]
    },
    {
      "cell_type": "code",
      "execution_count": null,
      "id": "a0526614-6882-48b2-a23b-fcb458a24dd6",
      "metadata": {
        "id": "a0526614-6882-48b2-a23b-fcb458a24dd6"
      },
      "outputs": [],
      "source": [
        "predict_sentiment(model, tokenizer, \"This film is great\")"
      ]
    }
  ],
  "metadata": {
    "kernelspec": {
      "display_name": "nlp24",
      "language": "python",
      "name": "python3"
    },
    "language_info": {
      "codemirror_mode": {
        "name": "ipython",
        "version": 3
      },
      "file_extension": ".py",
      "mimetype": "text/x-python",
      "name": "python",
      "nbconvert_exporter": "python",
      "pygments_lexer": "ipython3",
      "version": "3.10.13"
    },
    "colab": {
      "provenance": []
    }
  },
  "nbformat": 4,
  "nbformat_minor": 5
}